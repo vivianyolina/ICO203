{
  "cells": [
    {
      "cell_type": "markdown",
      "id": "07489450",
      "metadata": {
        "papermill": {
          "duration": 0.02306,
          "end_time": "2023-06-03T09:23:34.317154",
          "exception": false,
          "start_time": "2023-06-03T09:23:34.294094",
          "status": "completed"
        },
        "tags": [],
        "id": "07489450"
      },
      "source": [
        "# Datos perdidos o faltantes en las tablas, trabajo con R\n",
        "\n",
        "## Referencias\n",
        "Buuren, Stef van. 2018. Flexible Imputation of Missing Data. 2nd ed. Chapman & Hall/CRC. https://stefvanbuuren.name/fimd/.\n",
        "Efromovich, Sam. 2018. Missing and Modified Data in Nonparametric Estimation. 1st ed. Boca Raton, Florida: CRC Press.\n",
        "Gelman, Andrew. 2006. Data Analysis Using Regression and Multilevel/Hierarchical Models. 1st ed. Cambridge University Press.\n",
        "Kowarik, Alexander, and Matthias Templ. 2016. “Imputation with the R Package VIM.” Journal of Statistical Software 74 (7): 1–16. https://doi.org/10.18637/jss.v074.i07.\n",
        "Molenberghs, Geert. 2015. Handbook of Missing Data Methodology. 1st ed. Chapman & Hall/CRC Press.\n",
        "Raghunathan, Trivellore. 2016. Missing Data Analysis in Practice. 1st ed. Chapman & Hall/CRC.\n",
        "Schafer, Joseph L., and John W. Graham. 2002. “Missing Data: Our View of the State of the Art.” Psychological Methods 7 (2): 147–77. https://doi.org/10.1037/1082-989x.7.2.147.\n",
        "van Buuren, Stef, and Karin Groothuis-Oudshoorn. 2011. “mice: Multivariate Imputation by Chained Equations in r.” Journal of Statistical Software 45 (3): 1–67. https://www.jstatsoft.org/v45/i03/.\n",
        "Wiley, Matt, and Joshua F. Wiley. 2019. Advanced r Statistical Programming and Data Models. 1st ed. APress."
      ]
    },
    {
      "cell_type": "markdown",
      "id": "63a9fcac",
      "metadata": {
        "papermill": {
          "duration": 0.018412,
          "end_time": "2023-06-03T09:23:34.354210",
          "exception": false,
          "start_time": "2023-06-03T09:23:34.335798",
          "status": "completed"
        },
        "tags": [],
        "id": "63a9fcac"
      },
      "source": [
        "Primero cargarermos las librerías necesiarias, y un conjunto de datos presente en R:"
      ]
    },
    {
      "cell_type": "code",
      "execution_count": 149,
      "id": "477c149c",
      "metadata": {
        "_cell_guid": "b1076dfc-b9ad-4769-8c92-a6c4dae69d19",
        "_uuid": "8f2839f25d086af736a60e9eeb907d3b93b6e0e5",
        "execution": {
          "iopub.execute_input": "2023-06-03T09:23:34.396023Z",
          "iopub.status.busy": "2023-06-03T09:23:34.393273Z",
          "iopub.status.idle": "2023-06-03T09:23:35.848084Z",
          "shell.execute_reply": "2023-06-03T09:23:35.845621Z"
        },
        "papermill": {
          "duration": 1.478458,
          "end_time": "2023-06-03T09:23:35.851027",
          "exception": false,
          "start_time": "2023-06-03T09:23:34.372569",
          "status": "completed"
        },
        "tags": [],
        "colab": {
          "base_uri": "https://localhost:8080/"
        },
        "id": "477c149c",
        "outputId": "c46107bf-c0fe-4999-be63-0d359ea56939"
      },
      "outputs": [
        {
          "output_type": "stream",
          "name": "stderr",
          "text": [
            "Installing package into ‘/usr/local/lib/R/site-library’\n",
            "(as ‘lib’ is unspecified)\n",
            "\n",
            "Installing package into ‘/usr/local/lib/R/site-library’\n",
            "(as ‘lib’ is unspecified)\n",
            "\n",
            "Installing package into ‘/usr/local/lib/R/site-library’\n",
            "(as ‘lib’ is unspecified)\n",
            "\n",
            "Installing package into ‘/usr/local/lib/R/site-library’\n",
            "(as ‘lib’ is unspecified)\n",
            "\n"
          ]
        }
      ],
      "source": [
        "install.packages(\"pastecs\")\n",
        "install.packages(\"tidyverse\")\n",
        "#install.packages(\"summarytools\")\n",
        "install.packages(\"DataExplorer\")\n",
        "install.packages(\"mice\")\n",
        "library(mice)\n",
        "#library(summarytools)\n",
        "library(DataExplorer)\n",
        "library(tidyverse)\n",
        "library(pastecs)"
      ]
    },
    {
      "cell_type": "markdown",
      "id": "579f83cb",
      "metadata": {
        "papermill": {
          "duration": 0.019515,
          "end_time": "2023-06-03T09:23:35.889163",
          "exception": false,
          "start_time": "2023-06-03T09:23:35.869648",
          "status": "completed"
        },
        "tags": [],
        "id": "579f83cb"
      },
      "source": [
        "# Datos faltantes\n",
        "\n",
        "#### Una de las principales tareas para el análisis de datos suele ser la evaluación de la inexistencia de datos (datos faltantes o “missing data”).\n",
        "#### En R la ausencia de valores se representa por el valor “NA” lo que permite su reconocimiento y consideración en el uso de funciones sobre datos. Las tareas consisten pues en:\n",
        "\n",
        "* Evaluar la existencia de valores perdidos (exploración).\n",
        "* Excluir los valores ausentes.\n",
        "* Recodificar los valores ausentes (imputación).\n",
        "\n",
        "#### Las acciones que pueden llevarse a cabo frente a datos ausentes son por tanto, las que pueden o no modificar el comportamiento de los datos en su totalidad o llevar a conclusiones erróneas:\n",
        "\n",
        "* Eliminar las filas completas que contengan al menos un valor ausente.\n",
        "* Eliminar las filas que contengasn datos ausntes en alguna variable considerada clave para el análisis.\n",
        "* Cambiar los valores ausentes a otro valor.\n",
        "* Modificar los valores ausentes a un valor predeterminado.\n",
        "* Realizar imputación de datos.\n",
        "\n",
        "# El problema de la ausencia"
      ]
    },
    {
      "cell_type": "code",
      "execution_count": 150,
      "id": "7be7093c",
      "metadata": {
        "execution": {
          "iopub.execute_input": "2023-06-03T09:23:35.968736Z",
          "iopub.status.busy": "2023-06-03T09:23:35.929786Z",
          "iopub.status.idle": "2023-06-03T09:23:35.997223Z",
          "shell.execute_reply": "2023-06-03T09:23:35.994899Z"
        },
        "papermill": {
          "duration": 0.09196,
          "end_time": "2023-06-03T09:23:36.000303",
          "exception": false,
          "start_time": "2023-06-03T09:23:35.908343",
          "status": "completed"
        },
        "tags": [],
        "id": "7be7093c",
        "colab": {
          "base_uri": "https://localhost:8080/",
          "height": 34
        },
        "outputId": "fce6a6a7-5b20-416c-afd4-d256b2ff7f32"
      },
      "outputs": [
        {
          "output_type": "display_data",
          "data": {
            "text/html": [
              "&lt;NA&gt;"
            ],
            "text/markdown": "&lt;NA&gt;",
            "text/latex": "<NA>",
            "text/plain": [
              "[1] NA"
            ]
          },
          "metadata": {}
        }
      ],
      "source": [
        "# La ausencia de datos en un set de datos provoca errores:\n",
        "mean(airquality$Ozone)"
      ]
    },
    {
      "cell_type": "code",
      "execution_count": 151,
      "id": "4854620d",
      "metadata": {
        "execution": {
          "iopub.execute_input": "2023-06-03T09:23:36.043482Z",
          "iopub.status.busy": "2023-06-03T09:23:36.041498Z",
          "iopub.status.idle": "2023-06-03T09:23:36.063966Z",
          "shell.execute_reply": "2023-06-03T09:23:36.061833Z"
        },
        "papermill": {
          "duration": 0.046837,
          "end_time": "2023-06-03T09:23:36.066817",
          "exception": false,
          "start_time": "2023-06-03T09:23:36.019980",
          "status": "completed"
        },
        "tags": [],
        "id": "4854620d",
        "colab": {
          "base_uri": "https://localhost:8080/",
          "height": 34
        },
        "outputId": "e6de930c-dac3-4c9f-fca6-ab73fbcb50eb"
      },
      "outputs": [
        {
          "output_type": "display_data",
          "data": {
            "text/html": [
              "42.1293103448276"
            ],
            "text/markdown": "42.1293103448276",
            "text/latex": "42.1293103448276",
            "text/plain": [
              "[1] 42.12931"
            ]
          },
          "metadata": {}
        }
      ],
      "source": [
        "# A menos que dentro de la función se pueda especificar omitir este tipo de datos:\n",
        "mean(airquality$Ozone, na.rm = TRUE)"
      ]
    },
    {
      "cell_type": "markdown",
      "id": "ff653954",
      "metadata": {
        "papermill": {
          "duration": 0.019321,
          "end_time": "2023-06-03T09:23:36.105460",
          "exception": false,
          "start_time": "2023-06-03T09:23:36.086139",
          "status": "completed"
        },
        "tags": [],
        "id": "ff653954"
      },
      "source": [
        "# Clasificación de datos\n",
        "\n",
        "### Se identifican 3 mecanismos que establecen datos ausentes:\n",
        "\n",
        "1. MCAR\n",
        "Missing Completely at Random. Si la probabilidad de estar ausentes es la misma en todos los casos, entonces se dice que poseen datos perdidos en forma completamente aleatoria. Este es el estado deseado en caso de datos perdidos, ya que indica que no hay sesgo respecto de las pérdidas. Por tanto se mantendrían las medidas de normalidad y distribución estadística. La pérdida de datos no esta relacionada a los datos mismos. Al capturar datos de una muestra los datos no ingresados en ella son evitados en forma MCAR (totalmente aleatoria, cuando el muestreo es correcto).\n",
        "\n",
        "2. MAR\n",
        "Missing at Random. Existe una relación sistemática entre los datos observados y la propensión a valores ausentes. Que una observación falte no tiene que ver con esos valores, sino con los valores de las variables observadas. Un ejemplo claro es la edad, que es más probable que los hombres la digan respecto de las mujeres. Entonces la edad es MAR.\n",
        "La ausencia de datos está sesgada ya que no tienen la misma distribución, en el ejemplo anterior, las respuestas ausentes provienen mayoritariamente de mujeres. También puede originarse de una mala muestra de datos (no representativa o sesgada).\n",
        "\n",
        "3. MNAR\n",
        "Missing Not at Random. Pérdida de datos no aleatoria. Existe una relación entre la propensión a que falte un dato y sus valores. Esto origina un problema en el análisis de datos. Como ejemplo si la mayoría no responde una pregunta determinada puede deberse a que esa pregunta no se entendió del todo.\n",
        "En una encuesta pública, las personas con carácter más tímido responderán con menos frecuencia que otras de caracter más fuerte.\n",
        "\n",
        "![](data:image/png;base64,iVBORw0KGgoAAAANSUhEUgAAA6IAAAEsCAIAAABWv5lRAAAAAXNSR0IArs4c6QAAAAlwSFlzAAAOwwAADsMBx2+oZAAAc/FJREFUeJzs1kEJADAMwMD6N92aGAzCnYI8MwsAADnzOwAAAN6zuQAABNlcAACCbC4AAEE2FwCAIJsLAECQzQUAIMjmAgAQZHMBAAiyuQAABNlcAACCbC4AAEE2FwCAIJsLAECQzQUAIMjmAgAQZHMBAAiyuQAABNlcAACCbC4AAEEHAAD//+zbWUjUexQH8NQpl8zSRivBwiWdW4JLVtKAhqiY2kMFimCB9RCBD+qDkHLFJR/yQULChXqoLBcI0VxwF25CCaUimjmouKTicjWdsczt3i8z6J2mgWsv8x/+8/08yDT//8Oh8z/nd844cswlIiIiIhHimEtEREREIsQxl4iIiIhEiGMuEREREYkQx1wiIiIiEiGOuUREREQkQhxziYiIiEiEOOYSERERkQhxzCUiIiIiEeKYS0REREQixDGXiIiIiESIYy4RERERiRDHXCIiIiISIY65RERERCRCHHOJiIhMztbW1tLS0sqO5eVl/NzY2NC+Z3V1dXFxcUWLSqXa3t4WKmZThkRM/kyhUIyPj2tea1I5Ozs7Pz+/trYmdLBGhGPuXq2vr6P+Nzc3f6gplUqddoCWgYcMD+LfO/DY4X6hAjZlc3Nzb9++7ejoqKioKFVraGj4a0dnZ2d3d/eHDx96e3tHR0d18kjCQsl0dXVVVlaWlZVVVVVVV1cjfcimdikhv62trS9fvizdUVtbi/NYwLBN0+DgILLw7NmzBw8e/KmWkZGRnZ2dlZWVm5tbUFCwm6D29nYWmrHp6+sLCwu7dOmSXC0wMPDatWuotd0bcKjl5eXt3gDBwcEJCQlTU1MChm2axsbGwsPD3dU8PDz+UHNzc/Py8sKLM2fOXLx4EZny9vb29fUtLi4WOl4jwjF3T3p6euLi4mJiYuLj46Ojo6Oioq5evdrY2Kh9Dzr+jRs3/P39fdUuXLhw69YttgPD297eTk1NPXTo0OHDh6VSqaenJ7oAegFeIC8ymez06dPHjx93cHBwdHS8fPnyzMyM0CHTfzAMPX78+OTJk/v37z9w4IClpWVAQMCbN2+0h6SRkZE7d+5YW1tbWFjY2Nig1tLS0rBYChi2Cfr69WtERIREIjly5AiOW5RSaGhoUFBQpBqaJN45ePCghRp647dv34QOmX6CzbCurg4pMzMz27dv39GjRxsaGnTSND09jeJCllGPmHGfPn366dMnbiyGh83fysrK1dUVra+kpASLfZ0W/BPziZna2bNnu7u7hY7XiHDM3ROcoNXV1Rhwzc3N0Q4wQr148UKnHayvr5eVldna2uJsRrvHDaOjo9iGhYrZZOH0lcvlGG3RC96/fz8xMYFlA7lQKBSTk5PDw8PNzc2nTp1CHu3s7LD1MkfGBodoS0uLs7MzcoTD9fnz57/e097ejvR5eHjg3J2dneVvUQ0PxXXs2LHw8HDMRmNjYyqVCi1RqVT+2IH37e3tce5iw9T+jJCMSldX14kTJ1BrqCZ0S52r379/v3v3LpbJxMREFJogEdLa2hqm2CtXrgwMDOj9FXF/f7+Pjw9qTSqVvn79mv1QG8fc34ANSXP0uru7j4+P61zFg1VeXu7g4JCUlDQ/Py9IhASYkDDmonfrLXUcw9iGJRKJtbV1eno6mrjhI6T/haXx3r176NoYc7E96lxFEm/evInhqbW1lQ1dEPhvz83NjYyMnJ6e1nvDly9fgoODkUEXFxcslkyT0dKMUDjXnJycdD4F3NraKiwsxKmXk5ODohMqQsIaGRAQ0NbWpvcqahATsLm5ObaR/Px8NE8Dh2fkOOb+Bjw9sbGxaAf29vbv3r3TudrZ2Yl1Kjk5WaVSCRIe/aP+ZmdKSgpas96ryOCTJ09sbW1x+iKVKysrBg6P9g4jrJ2dHTKFeVf7E3ekGPl1dXWtr6/n8CSUxcXFkJCQqqoqvVcxEqEMsUxaWlo+evSIf6Jg5IqKipAszEkPHz7cfRPF1dHRgWXy/v37/MKJsD5//pyZman3zw/wZmJioiZ9169fX15eNnx4Ro5j7u8pLi7WfNWspKRk9020g56eHrlcjqdtaWlJwPAIB2pzc/PCwsKvl5CmpqYmJycnTE5+fn5ImeHDo72bmpqSyWTYKlFZu2WF/L569Qr7ZGlpKT+0EBAOV8y4ehdF5CUvL8/GxgbnbkxMDL8zbfw+fvwolUpRa7dv39aslPhZU1Nz7ty5rKwsTk6CQzr0tjv0w4KCAs0HN+fPnx8aGjJ8bMbvXwAAAP//7J15UI3/F8dnyo2W63ZDasiaULbkFkWUJVMZ0w2NSJrKrrHchCxjl2XM0IwR2UVIJUNUWoZRYpSSraIiskfFVczv/e0zTOqih/Q8/TqvP5ru7anO3PM557zP81kekrncyM7O7tChA4aUl5cXu0UB8XT58uUhQ4YsWLCANK6Qge+QtdksKlzGtznEb6ioqHBycoK/DA0Nb9++jXeUSuXhw4fhxOPHj9MNQmGCenz69Ol27drBcciKubm5fFtE/B5UrqFDh0LmooFEe4ngOnXqlImJyfr16+k+rmCB9oiJiTEwMECsGRsbp6Sk8G2RQCGZyw30tcOHD0c6MDU1LSwsxDhLSkoyNzdfvXo1rVUQMgUFBaNGjVJTU5NKpceOHSOR1CRgc6nq6urbtm2rrKzESzMzs8jISHKfYMnIyIA8Qt3t0KHDxYsX+TaHqC9LliyB1zQ1NcPCwiIiIvr06bN582bSuEImMzOzd+/ebNsZsiLtpf4ZJHO5AV27Zs0aqCVtbe2oqKjU1FRLS8tVq1bRKk8hg2Tt5+cHtSQSiVauXKlUKvm2iKgX6enpenp66CoHDBiAMmxhYREeHk4aV7AUFRWNHj2apcddu3aRp5oQJ0+ebNmyJetPevToAfdRnhQyJSUlrq6ubNvZpk2byFm/gGQuZ+Li4sRiMdIBcgFa3g0bNtBufSGDWrt3797WrVtD5k6aNOnFixd8W0TUl5cvX5qbm0PmItwkEkloaCjdsRAspaWlc+fOZQesKhQKmt1qWuTn53fr1g2xBg8uXryYZJOQqaiomDdvHgINRc3T05Pusv0akrmcefv2rY2NDdIBGikfHx86ZkXgXLp0iS2ntrCwoJWCTQuIWn9/f3Z2PbI59ZOCBc3k7t27W7VqBWc5Ojo+f/6cb4sIbkA5wXHsNHFa5SlkPn/+jFhjp9CMGDGi7tmmRC1I5nIGpdfb2xvpQEND4+zZs3ybQ/wK6NpBgwaxmTjoXb7NIbjx9evX7du3M5mLoKNJcMESGRlpaGjItsKkpqbybQ7BDQRaWloaO9hEXV19x44dfFtE/JT4+Pj27dsj1rp163b16lW+zWkCkMzlTF5enpWVFbubi6aKb3OIn1JSUuLm5oasLRaL9+3bRyKpaYHSe+7cOVNTU/boQXNzc3rqijC5c+dOv3794CMoXTrMuMkBfyUnJ8ODJiYmLVu2hB+dnZ1pzYkwuX//vkwmg8aVSqUnTpygRVz1gWQuN7Kysuzt7ZERtLW1MdTkcjlNpAoT+EWhUIhEIg0NjeXLl9OW4abFd43r4eHh4ODA0jqKMd92EbUpLi52cnJCK6KjoxMcHFxZWcm3RQQHEGg3btxAD+nu7o7qZm1tDZnbpUuXvLw8vk0jaoPew9fXF7GGohYYGEjrp+sJydz68v0ZEHPmzMnNzbW1tUU66NSp04MHD/g2jahNVVXVkSNHdHV1IY8gkuguYNPiy5cv0LgDBgzw9/cvLS0NCwtjiz43b97Mt2nED8A7Pj4+7NA3T09PlU9pIoQMipqVlZWbm1tJSQlqXEBAADtWLCoqim/TiB9AUdu+fbuWlhbCjZ66wgmSufUC8X/lyhULC4uJEyc+f/4cL9euXcvO8rhw4QLf1hE/wA4z7ty5M/L1oEGDbty4wbdFBAegcRMTE6Fxg4OD2T347OxsQ0NDdJUuLi50V144fPr0aePGjZBEyITjxo0rLCyse83XahrfNqI+ZGZm2traent7P3nyhL0THR0NhyJzrlix4g8c9/TpU+ReekxSgwNfoPFge6l79ep17969utdAB+fk5CAqG988gUMy9/d8fwbE9OnTEcbszbS0tDZt2iC/o/2lRZ+C4urVq2ZmZkgHBgYGcXFxKq/JysoqKipqZMOI3wKNe/LkyX79+m3duvX7cqDy8nK5XA6Z27Vr1/z8fE5/sLS0dN26dXv27Hnz5s0/sLf5Ak+FhYVJpVIEWv/+/VFf616DzHnmzJn09PTGN4/4LZBKdnZ2Xl5eNUPj2bNn8CZiTSaTcT17sbKycs6cOWKx2NfXl+7rNywZGRk9e/ZErOnr60dERKhcknvr1q0xY8ZQXasLydzfk5yc3Ldv34ULF9ZMB2hYhw0bxg6upzlx4fD48WNra2s277Zp0yaVKwVfv37t7OwcGxvb+OYRvwCqKD4+3tTUNDAwsNZd26CgIOZTrpMnSPpsY41CoaBl9A1IYmIimzBBtx8dHa3yzl9eXp69vT3JXAGCPAmNW1cVVVVVeXp6smPFkpKSOP1NjAF0PvhFKN0DBw7Q7qiGori42MXFBbGmpaW1YcMGlUUN4sTd3d3R0ZGyXF1I5v4KtlYBGnfcuHElJSW1fsSWMUkkEq7pgPhHoPeYOnWqurq6mpratGnTVB6aXVZWtnr1anTGDx8+bHwLiZ+BogiNa2Zmhn6y7lnU+JGOjg7Cbd68eZwmT5RKJUSzSCTS1dUNDw+nCfQG4c6dOwMHDoQ7tLW1d+zYoXIrDJpJX19fS0tLWkQoNNB+yOXyoUOHZmdn1/0pO8IP+Pn5cd1QWF5ePmvWLIQbWqDz58+T0v17UMW8vb3Z8ncEVN3c+Pnz55ycHDQnmpqa69at48VIgUMy96egIt68ebN///5IByr3mR07dgyDj5VeDLXGt5Coybt37xQKBTsQRyaT1XQZXIl8jTYX6WDu3LmozRMmTKA1TMIBOgnRhNJoZWWlcqoUukpfX5/tAc/MzOT0x1++fIk2FZ2PqalpVlZWA5ncfCkuLnZ0dMTnidTn4eFRc3oaaRBtZEFBQUxMjLOzs4aGBte2hPh3IA3CO+fOnUPvAc00e/bsuioWkbhq1Sp2UrWRkVFCQgLX7fwINxcXFwwPhOqVK1cazvzmCBy0ZcsW6Fe4Q0tLa+fOnampqSht+fn5d+/ehSt37doFgYvMCYdKpVI6slolJHNVgLH15s2b0NBQMzMzjB6MrbrXIHejMDNRZWhoGBkZSZMFPAKXBQYGMncACwuL3bt3760mJCTE399fLpePHTu2U6dOcKhIJDp06BDfJhP/1d28vLyIiAhvb+82bdqwVZ61WkooJ2jTgIAAlutRPkeNGpWYmMjpXE+oZDSr+F0MA9of8zegCZk8eTLae/YE5sGDBy9evFhRzaJFi9A92tvb9+jRg523CJedOnWKb5OJ/0B5CgoKGj16dPv27eEXpEoDAwOUrZrXpKWlTZkyBUlSsxroqq5du06bNi0jI4PT/0K4sYfyjB8/nu7l/w3Xr183MTERi8U6OjqtWrXS09OD14yNjXv27IkoQ85EoDFP6erquru701N/VUIytzaFhYUzZ85EUcSQQi7Q0NCwsbFB/Ne8BmGPVpiNv9atW0skEnSu06dPr3UZ0WiUlpZCKtnZ2cm/4erq6ujoiLSOuov3ZTKZpaWlra0tXnp5eancFU40MuXl5UuXLkWswTWyauCp4ODgmnOdOTk5EE8ODg7Dhg1zcnJyqAbfREdHc/pf165dQ5AiotEO0Y38P6agoMDX19fNzc3Pzw9f5arw8fFZuHDhjBkz1q5dS02FQFAqlTExMQcPHoyKioqPj0f4hIaG1poYefjwYXh4eFxcXPw3cPH+/fv/YH1XcnKykZERO7Ocwu2P+fDhA0RFSkoKPs/Y2NiarsE76PbZ9wkJCampqVy3DDYfSObW5unTp3v27Dl9+vT58+fR7EZEROBrbm5uzWsePXqEC5ACMNSufSMpKYmeLs0jFRUVZWVllTX4+PEjhFRZNe+qQdbA97TCRDjAa+9qAAfV8k5VVRV6GPjx/fv3qJcV1eAdrqsGIZ0Rs23bttXV1T18+DAt0v1j4BF8+GwhkEpYl4Kv9CE3WzBIoI/FYrFEIjl69Cgt0iV4hGQuQRDNAqVSuWzZMpFIZGJiQot0CeKfgtZ05syZLVq06N69O522QfAIyVyCIJoLz549GzlypJqamqur66tXr/g2hyD+nykqKrKzs0O4jR8/nsKN4AuSuQRBNCNSUlI6duzIHgpPqwYJ4p+Snp5ubGyMcJs/fz49wpDgBZK5BEE0I6qqqg4cOCCRSKRS6YkTJ2jVIEH8O9jT8hBuYrE4JCSElmsTjc//AAAA///s3ftLU/8fB/B2OxPcsc1KrazmGllo9YPUD5UO0hUlGBJdxC6IXYkuFKJdfqkREWlFFFHmqKCwC0WJRr+FmaWU05lGF1YNY2yyjFzW3IzPiw7Ih+/nU7vw9bw/xz0ff4DvF+r79X6+z3mfcxBzASC2DAwM7Ny5U6lUGgyG5uZm1uUAjGY+n6+kpEQul6enp9N0Q9IFkSHmAkDMcblcwjcOsrOzHQ4H63IARrMPHz6YzWaabllZWZhuIDLEXACIRW1tbRkZGbT0lpaW/v1TXgDwf9fe3m40GhUKxaZNm758+cK6HIghiLkAEIt+/vxZX1+fkpLC8/z169dxLxVg5AwNDV27di05OTkuLq6srAxPf4JoEHMBIEYFg8Fjx45xHGc0GpuamliXAzCaBQKBkydP0nTT6XT/851hgJGDmAsAscvtdguHdM1mM76WCTCient7CwsLFQrFnDlzbDYb63IgJiDmAkBM6+rqmjlzJsdx+/fv//79O+tyANjw+/0iHN1xOBwLFiyQyWTFxcU4Ex+d/l9YVyEZiLnRwLs2paKnp8dmsw0ODrIuBKIRCATsdjutiyO6+tIPv3z58thfamtrcUg3Ch6P5+HDh16vl3UhEKXu7u6ioqJbt26J8P/f0NCQmJjI8/zZs2dpjo/0cKOMz+fbvHkz/bF6e3tZ1yINiLkRoym6fft2agqsC4EQvn37tnr16tTUVBy7lCiaZTNmzMjJyXG5XCM60I8fPw4cOMBx3KxZs168eDGiY41Khw4d0mg0R44cwSZBoqxWq0KhMJvNIlxhpelmsVjUanVSUhIFa1w2iojT6Zw+fXpCQsKTJ09Y1yINiLmRoQm5ceNGuVx++PBh1rVACP39/dnZ2SqV6s6dO6xrgWh0dnbSQpiYmChC9PR6vYWFhTS1c3Nze3p6Rnq40YS6YklJyZgxY2hXiYtzEnXp0iX65587d6441wj7+vqEldRgMDx+/FiEEUeNjo6OCRMmaLXalpYW1rVIA2JuZILB4Lp162Qy2b59+1jXAiF8/fp10aJFHMfdv3+fdS0QDVr/eJ4fN25cW1ubCMPRsqHX65VKJc1uvPAofIODgwUFBRRzt27diqu5EiXE3IULF1LbFGdEh8NhMploMaVBsbEMn91up5hLXRHP8IUJMTcytPjl5+fTzMTV3P8+r9eblZVFMffevXusa4FoNDY2ajQa6ukdHR0iDDc0NFRbWzt+/HidTnfz5k3cSw0Tbf7XrFlDMXfbtm2sa4EoCTF38eLFYj4W1tTUNG3aNNpYHjx4EE9/hunt27dTpkyhNtXe3s66FmlAzI1MIBBYu3YtxdwTJ06wrgVCGBgYoK5NvbumpoZ1LRANIeampqa+efNGnBH9fv/Ro0eFN+ninmCYqCuuWrWKYu7evXtZ1wJRqqqqonXNbDZT2xRtUNpJWq1WmuM8z1+4cAG3AsLx6tWrSZMmabXa1tZW1rVIA2JuZISruZScLl68yLoWCIH6dW5uLv2xqqurWdcC0RBirl6vdzgcog3q8Xhosacl32Qyffr0SbRxpSsYDBYVFQmHFljXAlE6c+YMtcqcnByfzyfmuNSlaXekUqnS09PtdruYQ0vU+/fvqSXiEbTwIeZGhnafGzZswNVcSRBiLsdxdXV1rGuBaFAfp26elpb28eNHMcd99OiRcC+1oqICh3RDCgQCK1euRMyVtFOnTtG6Rg1T/HfZut3uvLw8hUJRUFCAT7SE9Pr168mTJ8fFxTU0NLCuRRoQcyMTDAaLi4upHVgsFta1QAg+n89kMqnV6gcPHrCuBaLR2tqq0+kMBoPT6RRzXNrNXrlyhed5rVZ79epV3Ev9M8TcUaCyspLWtSVLloh5aGFYS0uL0WhUqVS7d+/GNyP+THj/THx8PO3GWdciDYi5kaH1b/369dQOysvLWdcCIfT19c2fP1+pVN64cYN1LRANWvwo5k6dOvXdu3ciD02LfVlZGf3zpKWlPX36VOTRpcXv9y9fvhwxV9JOnz4tl8vnzZv3+fNn8UennWR1dTX/i9VqDQaD4tcgFcIjaPSLwvvgw4SYG5nhQwvHjx9nXQuEQP2aurZKpbp9+zbrWiAa3d3dEydOpJ5OnV380V0u19KlS2ntX7ZsGT449AcUc/Pz8ynmlpSU4PUUEnXu3DkmZ3OH0cZy165dwsby+fPnTGqQBOERtISEhObmZta1SANibmSGY25lZSXrWiCE/v5+6tpqtRpnmCTKZrON/4XVGyJp3MzMTI7jysvLcS/1d4R7XBRzS0tLccBDooSYK+Z7c/+JNpYrVqxQKBR5eXl4k+7vOJ1Og8Gg0WgaGxtZ1yINiLmR8fv9NA+pHVBTYF0LhOB2uzMyMiij3L17l3UtEA273Z6UlKTT6Vhd3aHQVl9fn5ycTItKTU0NLlX+K/otbdmyBYcWJM1ischkMoZXcwUvX76cPXu2Uqncs2cPNpb/Soi5PM/j63FhQsyNzPDnIaqqqljXAiF4PJ7MzExczZWuzs5OipgpKSldXV2saggEAsKbdPV6PS6f/M6OHTsQcyWtoqLivxBzactUV1dHUz4+Pv78+fM4pPtPwgvFxo4d++zZM9a1SMNfAAAA///snW1Ik20bx8nNWso0l841raQya+T7alpmhdTEijJrtRn0QvQC9SGiDyXNIrCl0KIoIaKgF4o+BEl+SjLQXshesXAZZlmUzdyUvTid2H3cXrHbO3zu7fK5nx3X+ez4ferjPzmv4/yd147rOElz+QFPncFggHKwb98++nlO4Njtdo1GA4Jy+/Zt7CzEWODm5oLpgu8ixvjx48fq1avDwsJyc3ODPNqMCaAS7tixgzSXaUwmkxA09+fwJnv69OmJEycmJibW1dXhhhEg3Ntc0tzAIc3lx8DAwPr166GgHzx4EDsL4Qewk8zMTLFYfOPGDewsxFjgNFcul6PPjW9pacnJyYG1BKdcWFe4YYSG1+stLi6GqgiyS4d/RqmqqhKI5gI9PT2worjJD8G8GoYJfJpLE2AChDSXHy6Xq6CgAMrBoUOHsLMQfrDZbGq1mt7msgunuYifoI2kvr5eoVDAcjIajXDcxY4jIEBz161bB5qr0+ng39hxiLFw/vx59E/QRtLc3JyZmSkSibZv3+5wOLDjCAiLxUKX/fKCNJcfbrdbq9WC5paXl2NnIfzgm7RAt6AxinDe5v4c/iUHnnrQXNBuODjRa0sf8JdZs2YNaO7OnTvpz8Io1dXVoLnZ2dnd3d3YWX5RU1PD3YNATboj4T7MlclkNHYtQEhz+eG7HuLIkSPYWQg/+C77vXPnDnYWYixwmhsXF/f69WvsLH8CBlBaWioSiVQq1YsXL7DjCAVQkI0bN5LmMs3JkydhX5szZ863b9+ws/zC6/WaTCaJRDJ9+vSHDx9ixxEKra2tiYmJNFAscEhz+eH7BA0eP+wshB+4T9Dosl92efbsmUwmw7oeYlTa2tqys7OhAmi1WmrS5fB4PIWFhTQ3l2k4zU1LS7NardhZ/gJqOJygxGJxenp6U1MTdhxBQJrLF9JcfoDmlpaW0kAxJujs7FSpVKS57NLQ0CCVShMSEiwWC3aWv4DlpFQqYV2ZzWZqRf05/NZtw4YNpLlMU1lZCfuaRqPp6enBzvI3Ojo6Fi9ezB0soaRjx8GHu+w3KiqK3nAHCGkuP6Cgw+GSLvtlAtJc1uGaFoSmuVAEzp07FxkZKZfLqe2bY9euXaC5BoOBeigZxWg0wr4mnE/QRgIFXKFQhIeHHzhwwO12Y8dB5unTpzExMfQ2N3BIc/nhu+z38OHD2FkIP1it1tTUVCiOt27dws5CjIXGxkapVCqc3lwfTqdzz549IpEIFtibN2+w4yDj683V6/WkuYxSUVEB+9rcuXOF05vrAw6WZ8+ehYNldHT09evXQ/wywqamJplMRgPFAoc0lx+c5tLcXCbgenPBRa5evYqdhRgLXNOCUqlsaWnBzvI7Hz9+XLRoUVhYWFFR0ZcvX7DjYMJ9sUDXQzAN15srqEkLI3G5XHCwFIvFs2bNEsJ4QUSg8iQlJUFhbGxsxM7CBqS5/CDNZYienp6cnJwJEybU1tZiZyHGAte0MHPmzI6ODuwso1BfXx8XFwdbL1QDj8eDHQeNoaGhbdu2keYyDae5CxYssNvt2FlG5/Pnz3l5eXCw1Ov1gg0ZBNra2qZNmwaa29DQgJ2FDUhz+eH1enU6HZQDo9GInYXwg09zqTeXUTjNTU5Ohh0OO8so9Pf3l5WVSSSSmJiYmzdvhuzXV1AVS0pKSHOZ5vjx4wKctPAbjx8/nj17NpT08vLykL2i5fnz57JhaG5ugJDm8gM2trVr18KBsrq6GjsL4Yfe3t6FCxeS5rILp7nx8fGC7X+FNbZlyxYoCODiITvwCIQDqiJpLtNwvbkpKSlfv37FzvIfgZPktWvXoqKi5HJ5yP5GB3YL52qatBA4pLn88Hg8K1euhF3t4sWL2FkIP3R1daWnp5PmsgvUcajmwuzN9fHhwwc4TYVyk+7g4OCmTZtIc5nGZDKB5s6bN+/79+/YWf4Jt9u9f/9+kUiUkZHR2tqKHQeBly9fTp48OTo6+smTJ9hZ2IA0lx/wjC1fvpw0lwmsVitUbdJcdnn06BFUc4Fr7s/hiRBTp06FrXfr1q0ulws7TrABzdXr9aS5THP06FHQ3Ly8PAEOFPuNT58+cU26mzdvFtqU3yBgsVigJILp0kWMAUKayw/Yw5YuXQoP2IULF7CzEH5wOBz5+fmkuezCNS3Exsa+evUKO8s/AZ5nNpsjIiKkUumVK1dCrUl3YGBg1apVpLlMc+zYMdDcrKwsJu72q6mpiYmJkUgkEDvUmnTpFjS+kObyo6+vr7CwkHpzmYCaFliH09ykpKT29nbsLH5wOp27d++GypCSkiJwKf/X6e/vLyoqIs1lmrKyMtDcjIwMKJvYWfwDS+7EiROgufHx8aFW3t++fatQKEhzA4c0lx8ul2vZsmV02S8TdHd3Z2dng+bevXsXOwsxFjjNnTFjhjAHiv3G+/fvNRoNmG5JSYkwh4/+j/B4PHD4J81lmlOnTsG+lpub29vbi50lIOx2u06ng8ctKytL4E1N/y70NpcvpLn86Ovr02q1IpHo0qVL2FkIP9DcXNa5f/9+ZGQkK5oLPHjwICEhYfz48SaTKXR+S3W73QUFBaS5TFNZWQmaq1arbTYbdpZAaW5uTk1NBdMF33U4HNhxgkR7e3tSUhJoLs3NDRDSXH44nc4lS5aA5l6+fBk7C+GHrq6utLQ0alpgl7q6uoiIiOTkZFYmGAwODlZUVMCSi42NDZ3fEEDoi4uLSXOZ5syZM+CL+fn5sMdhZwmUoaGh2traSZMmwWHYbDZ7vV7sRMGgpaVFqVTSLWiBQ5rLD7fbvWLFCurNZYLOzk6VSkWayy6wh0kkEsHegjYqNpvNYDDASVitVr979w47TjCgSQv/B1RVVY0bN27+/PlsXTAGO/LevXvDw8PB/O7du4cdJxiA5k6ZMgXO/yHy//3v+QMAAP//7J1bSFTbH8cZZue491xqyryUGYNZJlIpTGoFWdEdcih9iYIBnR4qojDsJZiHgl58mIgQGlLoQhlZlIRW0jQyhpRod6IxU9LCHJKShpzb+f84C4b4H87JPWdknd/q93kQH7+Lvfdan73nt36LNFcdrGiBGoqhgGmuLMv37t3jnYVIBI/Ho9frly5d+l9uWf9X/H5/YWEhzBI1NTUwY/COM+2Ew+GqqirSXNSwogUUDcX+j9HR0a1bt7KKi4GBAd5xph32NddgMHi9Xt5ZcECaqw5WtECaiwKmuTAdPHz4kHcWIhHu3r2rKAqi2lxGLBZraWlJS0szGo1nz56NRCK8E00vdDyEABw/fpxpLsYi18ePH1ssFkmS7HY7rq/RCfDu3bucnBzS3KlDmqsO0lxEMM3V6/WkuUiJNxRD95FmcnLy2LFjsO5mZmYKX6QLg92+fTtpLmpYQzGkmhuNRpubm9PT03U6HTx3wWCQd6JpBN754c0f1jWPx8M7Cw5Ic9VBmouIQCBQVFSkKEpHRwfvLEQioOu08DMjIyOsx3ZpaSmWLXSJEQqFduzYQZqLGqfTCZq7cuVKpF9D4SY8deqULMtGo/H8+fMCH9EyNDRksVhgmNRpYYqQ5qqDNBcRX758sVqtpLl48Xq9iPrm/pW+vj4IL0nSvn37BD6VFAzDZrOR5qLm3LlzsK4tW7bs8+fPvLMkCDxiu3btAllfvny53+/nHWe6iNfm0q+UU4Q0Vx2kuYhgDcVIc/Hi8/lMJhNezY1Go263GxYknU5XX18vapEuNRQTAJfLhV1zgd7e3vz8fBhIVVWVqEe0UG2uWkhz1RHXXDoe4r8PO+xXr9c/ePCAdxYiEdra2mRZtlgsg4ODvLMkCMwYdrtdq9XOmzdP1PswHA5XVlaS5qLm9OnT7ESxQCDAO0vixGKxq1evzpo1C14s6+rqhCzSZbW5kiRduXKFdxYckOaqAx6bjRs3kuaigG1BM5vNPT09vLMQidDe3q4oSk5OTn9/P+8siTM8PLxlyxaNRlNeXj40NMQ7TvKhLWgC0NDQAOsaTJgwbfLO8q/48eOHy+UymUwGg+HMmTPi/YQS11wQet5ZcECaq47v379v2LCBihZQwDSXTovBS0dHB94taD/T1dU1f/58rVa7f/9+mEN4x0ky0Wh07969oLnwVzyr+E1gmltcXCzAb/1guvCgwXCysrLEq1h7+/ZtdnY2dVqYOqS56qDaXEQwzVUURdQfi4WHHfYLmov9I2g4HD5x4oQsywaDwe12gxfyTpRM4pq7c+fOUCjEOw6RCLCisa4gYuyV7O/vX7VqlUajgfVasD4nAwMDCxcuhJmks7OTdxYckOaqgzQXEfGvudR4BSkejwdm8wULFgiwb3piYuLgwYNardZisXR3d/OOk0zimltZWUmaixSmuSUlJWJoLvDo0SPQQUmSDh8+LNJhhGwLWmpqqvANuZMFaa464prb1NTEOwvxC5jmwnTQ3t7OOwuRCF1dXSaTSQzNBQYHB8vKymD2WLduHfbv0z8Ti8Wqq6tBcysqKiYnJ3nHIRLh4sWLYIRwfwqjufD2VV9fL8vyzJkzGxsbhSmnAc0FfdfpdLdu3eKdBQekueqgr7mIYA3FYDpoa2vjnYVIBJ/PZzQaYU5Hdwra39Hd3b1kyRKtVgteKEyRblxzHQ6HwG35xeby5cugufn5+R8/fuSdJWl8+/Ztz5498LhlZ2fDKiDGzcmOh1AU5f79+7yz4IA0Vx3w2KxZs0aj0TidTt5ZiF/w9evXsrIy0ly8sMN+RdJcWGhbWlrMZrNIRbowCrvdTp0WUMOKFlasWDE2NsY7SzJ5//792rVrYckuLCx88+YN7zhJgHVamDFjRnNzM+8sOCDNVcf4+HhJSQk8MydPnuSdhfgF8E6yevVqKlrACzvsNz09/fnz57yzJI1gMOhwOEAp8vLyent7ecdJAqFQqKKigjQXNU1NTVqtdvHixSMjI7yzJJlnz54VFxfD6Gw2G/Z2acCnT58KCgpAc69fv847Cw5Ic9URL1pwu928sxC/gGkubUHDC1w4uHxms/nJkye8syQTv99fWloK08i2bdsEWHcjkcju3btJc1HDihaE1Nw//uzAnZGRAWpYW1uLvXx8fHzcarXS8RBThzRXHVSbiwh2sXQ6XWtrK+8sRCI8ffp07ty5aWlpfX19vLMkGZ/PZ7FYYN09dOiQANvADxw4QJqLmmvXrsHdKKrmhkIhp9MJA5w9e/bNmzd5x/lXDA8P5+Xlwbp2+/Zt3llwQJqrDtJcRLDaXPr0jpeenh5YlubMmSPGj/s/E41GGxoaFEUxmUwXLlzAXqTLNLempkaMXT6/Ie3t7dgP1v5nxsbGbDabRqMpKChA3dGP1ebCxaJivClCmqsO0lxEsKKFlJQU7K/vvy2vXr3KzMwUr2iBMTExceTIEbg/Fy1ahH2AdXV11GkBNZcuXZIkCW7FDx8+8M4yXbx8+dJqtYLpbt68Ge9OO7hAubm5Op2O1rUpQpqrDtJcRLD9gjAd0FsvUrxer9FozMjIePHiBe8s08Lo6Gh5eTnMJ+vXr0d9oHFtbS1obnV1NWkuUhobG+E+FLVoIc6dO3fgzRkWhaNHj8J7Ju84icCKFlJTU2EsvLPggDRXHcFgcNOmTaS5KAgEAkVFRbIsU39BpHR2doLmZmVlvX79mneW6cLn8+Xm5kqShLdIF9TW4XBQbS5qWltbwZyE19xIJOJyuZQ/gX8wnhnBihZSUlJu3LjBOwsO/gcAAP//7N37S9NtHwdwllubpy0rp2ZWamZRahjSPCQZJWlnDTIjqx8qDYICO1D9IELSDyUZESmIRQdTCKnsMNDK8ECapZ3LZSQd0Lly5TQX7b4/z309z55uM7fvSj+73Of1D/Q2tu/1vr67DlRzhfn27VtKSgrVXC7odLo5c+a4urreunULOwuxxd27dz08PCZPnvzq1SvsLEPl+/fvFy9eVCqVcrk8NzcXnjDYiWyRnp5Ob3O5VlxcPIK3oP2ou7t7y5YtMIj7+vpWVVVhxxGMLVqgy36tRzVXGIPBsGDBAqq5XICaGx4eDo8DtVqNnYXYAuYnMEvx9vZ+/PgxdpYhZDQa9+zZ4+Tk5OPjw+MvD+Zb0Kjm8qusrEwqlc6cObO9vR07y5BrbW1dtGgRjOPR0dEajQY7jjAfPnyYMWMGPC7OnDmDnYUPVHOFgZobFxdHNZcLWq02LCzM2dm5oqICOwuxRW1trVwuH8G7v83a2tqSk5Nh6Jo7d+7r16+x4wgD1Xbr1q1Qc5OSkqCyY8chtlCr1fCoDA4OHkmX/Q6iubk5KCgIhvIVK1Z0dnZixxGALVqAZ8WpU6ews/CBaq4wbNGCSCQ6cuQIdhZiAdsv6OLiQjWXUw8ePBj/j6amJuwsQw7abXR0NIxeGzdu5G5zzK5du6Dmrly5kmoup65eveoIa3PNYG5WUFDg5uYGf/WJEyc4OtGPvc2lLWjWo5orDHwZ0tLSYAp48uRJ7CzEAr1eHxUVRbeg8YsdKDYiz80dUGVlpVKphIlZXl4eR+PuX/87NxeejXzFJmaOVnP/+mdD+Y4dO8Risb+/f01NDXYca3V0dISGhkokktLSUuwsfKCaK4zRaExOToaam5+fj52FWPDx48eIiAiFQsH1YeCOjF32O3HixBcvXmBnGQ59fX3btm1zcnLy8/Pja98k3YLGu2vXrjlazQXv37+Pj48XiUQqlYqXxUKfP3+OioqitbnWo5orDPsdnBYtcKG9vX3WrFlyuby6uho7C7HFnTt33NzcRvaBYv20trbGxsbCRDoyMvLNmzfYcaxFNZd3JSUlDnLSQj8NDQ1hYWHQGtPS0vR6PXYcy1jNFYvF58+fx87CB6q5wtD1EBxh5+ZCzeXoBynyI7Va7eLiMrIPFPvZo0ePVCoVDGPr16//9OkTdhyrsFvQqObyq6KiAr5rgYGBI/gWtF+5dOmSh4cH/PlcXLttfpt79uxZ7Cx8oJorTG9v7+LFi6nmcoGdm0trc/lVVVXl5uY2ZcoUXn5P/FNu377t4+Mjk8kOHz7MxQn2O3fuhJqbmprKRVrys8rKSuh5AQEBHP2G8KfAsJ6Zmcmu3a6vr8eOYwEtWhCKaq4wRqNx9erVVHO50N3dPX/+/N+5HoIOAcXFTlpwwJoLZREKrlQq9fLyKisrs//PYXZ2NtTcNWvWcHq9BYGZFUwpHXDRAqPVapcvX85O0m1pacGOMxi9Xh8ZGUk113pUc4VhNVckEuXl5WFnIRb8/i1oNGbjampq8vT0nDBhwrNnz7CzDLfOzs5ly5bBuBsaGmr/O/DYooXExMSvX79iZyG2YG9zp06d6oCLFpjGxsbp06fDN27dunVdXV3YcX6JrocQimquMPAQZ3O+goIC7CzEAjbrpct++fXw4UOlUgk19/nz59hZEGg0mqioKHjabN682WAwYMcZDKu58fHxvb292FmILdjaXKi5bW1t2FlwmEym8vJyLy8vmUyWlZXV09ODnWhg7PUN1VzrUc0VBmru0qVLadECF758+TJv3jy67PfPGs4f0KurqxUKhYeHR0NDw7D9o3YFxt2xY8e6u7vn5+fb87LXzMxMqrlcu3DhgkQiCQoKevv2LXYWNEajMTc319nZGb5xRUVF9rlY6N27d9OmTaNTTa1HNVcYOmmBI+yyX6lUev36dewsI8dwli22NteRa25fX19OTo6rq6ufn58976RkB4olJCTQogVOXblyRSaTOcLF2oPT6/Vr166FIT44OLixsRE7zgDa29tDQkKcnJwKCwuxs/CBaq4w8B2IiYmhmssFg8Hwm1vQCC4HPDf3Z/AxzsjIgFEtNjbWbrfisZqblJREl/1yiq3N9fX1tf+F4ENNo9HExcXBKA/TNq1Wix2nP3ZQJq2ctB7VXGHMa3Ppsl/7B3OS6Ohod3d3uh6CUzU1NXK5nIbelpaW0NBQeOzY7Qn227dvh5q7YcMG+z92lAyIau6PGhoa/P39JRLJ/v37+/r6sOP8S1dXl0qlgnnv6dOnsbPwgWquMD09PQsXLhSJRAcOHMDOQizQ6XTh4eF0bi6/2NtcT0/P5uZm7CyYTCZTaWmpQqGQyWQ5OTl2eADIoUOHqOZy7fLly1Kp1GG3e/YDH+PCwkJ4+IwZMyY/P9+uPtXmc3OLioqws/CBaq4wvb29CQkJUHP37t2LnYVY0NHRERISQjWXX/fv3x8/fryPj8+TJ0+wsyCDJ8/u3btHjx4NRaSqqgo7Tn9Hjx6lc3O5Vl5eDpMoeptrZjAY0tPToU0GBATcu3cPO87/0fUQQlHNFYZtQYOam5WVhZ2FWACPg5iYGIVCUVdXh52F2AJq7rhx4yZNmqTRaLCz4NPpdEuWLIGHj0qlevnyJXacf9m3bx/U3LS0NLt670WsV1JSIpFIHO1i7cG1trZGRESMGjVq1apV9nPtNqu5YrG4uLgYOwsfqOYKwy77hZHm2LFj2FmIBVqtdvbs2bQFjV9Pnz719vb29fWlH1KZ+vp6tkh306ZNMNphx/kvk8mUkZEBNTclJYXe5nKKnZsbGBjosOfmDqi2tjYoKEgqlR48eNBOPtvmmnvu3DnsLHygmisM1NzExESoubm5udhZiAXsba5MJrtx4wZ2FmKLuro6hUIREBBAQ68Z1BEvLy9nZ+fs7Gw7GXfNNTc1NdWeD/clg2Bb0Bz2st9fgc92QUEB/M/Al+7mzZvYcf6D1VyY6x4/fhw7Cx/+BgAA///snXtI010Yx3NupmzOS6ZLnRRGRDJK0LyQlTMvZfd0BklUKBFEBXah7GJXKv8o8I+KDMyCwIjqjyIkImduqWUZ0zStiKS2MdS1Szptvc/b4ZX3j97cb/X7nR3f5/NX/z1f8vzO8z1nz3ketLncgE28uLgYb3OZwGazLVy48P/cdZV1DAYDZBe0uf/G5XKVl5dLJJLo6Gjf+Zli3759YHM1Go2POG+EK2PDfv/P4yF+CtjK9evX+/v7q9VqX5iEbLFY5s2bB3pqa2tpa2EDtLncgBxTWFiIfXOZoL+/Pzk5GRuKscubN29iYmJiY2PxWcy/MRqNGRkZcNieP3/+hw8faMv5mx07doDN3bx5M9bmMsqDBw+CgoJwPMRP6erqmjt3LjjLkpIS6sVCAwMDkNfwCZrnoM3lxsjICBzs0OYygdVqTU9Ph7374cOHtLUg3qDX68PCwiD1+uxYBFrAko6LixOLxWVlZU6nk7ac7xUVFWBz161bh+MhGOXWrVsBAQFYtPBT3G43HAMUCgVkk/Pnz9M9yxGbGxgYeO/ePYoyGAJtLjfsdntWVhbaXCYgtbl4m8suWq1WLpfHxsb6WmMB6kCirampkf/g9OnT1Ctit2/fjn1zmQZrc38NKRaCg2V8fLxOp6Oo5PPnz3PmzAHDjUPsPQRtLjecTmdeXh7aXCYgp97w8PC2tjbaWhBvaG1thT9fRETEixcvaGvxOWAv2rlzJ+RdX+ikSxqKrVy50tdGRiEeQmyuSqUym820tfgoHz9+TElJ8fPzU6vVJpOJlgwsWuAK2lxuOByOxYsXo81lAlK0gDaXXZ48eSKXy7Fo4b/o6+sjbbyzsrLoXsLt2bMHbO7atWuxaIFRiM1NSEgwGo20tfguWq0WtqOAgABY8F+/fqWigXRakEgkdXV1VAQwB9pcbpBhv2hzmQD+WJD+ZTIZ7E20tSDe0NTUBDZXqVT29PTQ1uKj6HS66dOni8Xi0tJSu91OS0Z5eTnY3E2bNmHRAqOMdVrAria/AJb31atXYVMKCQmBf1ApFhqbgnb9+nXho7MI2lxuwLLesGED2lwmsFqtaWlpgYGB9fX1tLUg3kDGQ4CNw9vc/4IU6ULSBY9y8eJFWkW6lZWVYHOXLl06NDRERQDymzx69IjYXF/omeXLOJ3O3bt3k45+9+/fF14A9s3lCtpcbkBS2bhxo5+fX1VVFW0tyDg4HA61Wj158mQs1WcU0lAMwIZivwCc5aFDh4KCgpRKJZgVt9stvAZSm5uTk0Prl1zkN9HpdGQUi4+0qPNlTCZTfn4+GM2kpKR3794JHH3sNhfOtwKHZhS0udyAjLJixQocD8EEdrt90aJFaHPZhdhcHPAxLpD5tmzZApkvISHh+fPnwgsgDcXQ5rJLR0dHVFQUHik9pKenJy0tDb644uJii8UiZGiS1/AJmuegzeUGeYKGt7lMMDg4mJKSgjaXXYjNDQkJ0ev1tLX4Ou/fv8/MzBSJRPn5+QLn3e//PEFDm8suz549Cw8PnzZtWmdnJ20tbKDT6eLj4yUSya5du4Ss1Rm7zb1y5YpgQZkGbS438DaXIciwX7S57NLb26tUKsPCwiAH09bCAC0tLTNnzgwICDh48KDAdpM8QUObyy6keR/Y3NevX9PWwgZut/vChQtSqTQ0NBQcp2BjruETW7ZsGRxoIbowEVkHbS43YCkXFhaCzT137hxtLcg4kLYYaHPZpbm5GTyuQqHo6OigrYUBvn37VldXB/9jcrm8trZWyKYHVVVVsCuizWWXhoYGmUwWHR3d1dVFWwsz2O320tJSOFhGRkbW1NQI8wB0aGho+fLl8LlVVFQIEG4CgDaXG2BzNRoNrLDjx4/T1oKMg81my8jIgD3ozp07tLUg3tDa2hr2A7zN9ZDh4eH9+/eLxeIZM2YIWelx+fJlkUiUnJw8MDAgWFDkD6LVaoODgyMiItrb22lrYQmTyVRQUACLPyYm5vHjxwJEdLlca9asQZvrOWhzuTHWaeHYsWO0tSDjQEr1webevn2bthbEG7q7u6Ojo/EJGic+ffpEnoFnZ2f39fUJE7SyshJ2xaSkpP7+fmEiIn8W8ssJHim9oLe3Ny0tDb641NTUt2/f8h0OjrKrVq1Cm+s5aHO5MTIyUlRUBCvs5MmTtLUg42CxWBITE7FogV1aWlog706ZMgWH/XLCYDCoVCqxWLx169YvX74IEPHs2bOTJk1Sq9UOh0OAcMgfp7GxMTg4GL61ly9f0tbCHlqtNiYmBpxuSUkJ31NanE4nnGDBhBw5coTXQBMGtLncgBWWk5MDK2zv3r20tSDjAAl+wYIFaHPZRa/Xh4SE4G0uV9xu9927d8GyBAUFHT58eHh4mO+IVVVV+ASNadra2qb8AG2uF4yOjsJJTyqVymSya9eu8dq7mhTjgQk5ceIEf1EmEmhzuQGbeG5uLhYtMIHVak1PT0ebyy4GgyEqKgqc7tOnT2lrYQxSpCuRSMC43Lx5k++ZEfgEjXXgW4uMjMTmfV5jt9vLysrgi5s9ezavhR8Oh2PJkiXwuZ05c4a/KBMJtLncgOSxevVqWGEHDhygrQUZh8HBwdTUVLS57EL65oaGhjY1NdHWwh5ms7moqEgkEs2aNYvvgsvq6moIhDaXXchtbnBwcGNjI20trGI0GrOzs0mRLn/zyceKFk6dOsVTiAkG2lxuwCael5cHK+zo0aO0tSDjgLe5rENa1mNtrtd0d3cnJibCfqXRaODUx18gcpubkpLCaxSEP9rb26dOnQqfG35rv0Nzc7NSqfT399+2bZvNZuMjhMvlKigoQJvrOWhzueFwODIzM9HmMgGxuWKx+MaNG7S1IN5AanMjIyNfvXpFWwur1NfXx8XFwWGvoqKCvyJdUpurUqnMZjNPIRBe6ezsVCgUMpmsoaGBthaGGR0dvXTpEuxaUqm0urqaj97VTqczNzdXJBLhKFYP+QsAAP//7N17SNPdHwfwdkuZDWXOzKmwwD+kmYUVRf5ROc0Ss9BuBF3+qIRK1CLUSGX6Rw9UtoouMwNrErUf/lEGFdIFK7FiXrL1E1LIlrFZrh51F9uF54NfGD5Pz4Muzzx+v/u8/pDK8e2DZ+ec9/n63TkYc/3jcrl27twJMff8+fO0a0GT8O20cP/+fdq1oN8B6RYyLm5yNB0w0TY0NEB8gR+jXq8P0P9y5swZiLl4N5e9mJgrlUrb29tp18JuDoejuLhYIBDEx8c3NzcTvz5z7BHEXOh0xC/OSRhz/QNzxu7du/EjaKxgsViUSiU+tMBezIZiMpkMP/09HcPDw8zZjcnJyQG6L15YWAgxNyUlZWhoKBDXR4HGxFx8QIiI/v5+ZjMEWPh9+vSJ7MVtNptKpYLuVl5eTvbKXIUx1z+wUNu4cSN+yJEVrFbr8uXLMeayV0tLy7x586Kjo7u7u2nXwm5dXV2JiYkwcGVmZg4MDBC/fllZGcy7GRkZ+BE0loKVZFRUFP7mhBRYoickJAiFwoKCArIP6TIhBGPu1GHM9Y/v2dxTp07RrgVNwmw2L1q0CGMuezExF2ZfPIB0mrxeb2NjY1xcHMy7paWlTqeT7PWrqqpw31xW8/3mBPsaEdDjamtrJRJJWFjY5cuX3W43qStDCElLS8OYO3UYc/0D00N2djbE3IqKCtq1oElgzGW7tra2iIgI/EUqER6P59KlSzDvSqVSvV5P9sMxNTU1GHNZzWg0MntU4+Z9pNjtdsgJMAHFxsY2NTWRuiyzby7G3KnDmOsfGMSzsrIg5paVldGuBU0CD/tlu56eHrlcjqegkQLzbmFhoUgkWrhwIdk0o9FoYN5ds2ZNoE86RQHS2dkpk8nwKBayrFYrs9F+SkoKqZ10XS7X1q1bMeZOHcZc/4yNjeXk5MC79uzZs7RrQZOwWCx4N5fVmLu5GHMJMpvN69ev5/P5EElNJhOpy6rVaoy5rMacgoZ9jTj4eSoUCoFAkJ+fT6R3uN3uHTt2QHcrKioK9OmG3IAx1z+wkNq+fTvGXFYYHBxcvHgxxNyHDx/SrgX9DubZXJlMhg8tENTV1ZWUlCQUCg8fPmyz2Yhcs7KyEubddevWkbogmmGvXr2CjBsZGWkwGGjXwikej6e2thaW66Qe0v3582dubi6EEOh0JArkPoy5/vGdgoY7Lcx+zEMLML7ACE67FvQ7IN1GRUUpFIq+vj7atXCH1+vVarVisVgikeh0OiI3hC5evMjn87ds2RK4EyhQQJlMpvT09MzMTDzggzjoFKWlpSKRKD4+/smTJ9O8GuRmjUYDK9VAbMrLSRhz/eNyuQoKCmDVe/v2bdq1oEnAurmhoaGkpAT38mSpkZGR6urq06dP4webyBodHS0qKoJ5V6lUGo3G6V+wv7+/pqamtbV1+pdCtHz9+tVsNtOugpvgZ5ubmwtLwWXLlk1/Lwun0zkwMABphEhtnIcx128wELx48cJut9MuBE0JPr3Eat5xtKvgIBjHMjIyYN7NycmxWCy0y0GI496/f79kyRIej6dSqXA5MZMw5iKEUDAyGAxKpVIkEh09ehTvlyMUaLdu3QoPD4ceV1lZifdiZwzGXIQQCkZer1en00kkkoiIiMbGRrxrjlBAOZ1OtVodEhIik8mgx5Hduxr9F4y5CCEUpOx2+/Hjx4VCoVKp7OzspF0OQhxntVrz8vIEAkFCQsLr169plxMUMOYihFDw+vz5s0ql4vP5mzdvhjmYdjkIcVxvb29qaiqPx4Ov3d3dtMvhPoy5CCEU1Nra2hQKRWho6MmTJ51OJ+1yEOK4x48fy+VySLp5eXk/fvygXQ7HYcxFCKGg5vF4tFptWFiYVCp99uwZ7XIQ4ji3233u3DmxWBwTE/Pu3Tva5XAcxlyEEAp2IyMj+fn5crkcT8ZGaAaMjo7euHFDp9Ph5qSBhjEXcRCslV2/wI+1ssWvzTfxhExoR6fTOfG7uEUAEcPDwx0dHX5NutAQf46z2WwOh8P3Z5jCsbvNfmNjYy0tLf/7O1jnQPMxLxgaGrpy5YpWq4V/v3PnzoULF+7evYuxjApYiNbV1f0xTqPR1NfXX716lfmrXq/v6enBPQH/C8bcycEkCu8hg8Hw/3FGo/H58+ft7e3wtvO94O3bt48naG1txUfcaIGh+dixY1t/cfDgwZs3b7558wabZjazWCxHjhyZ2HB79uyBofz79+/MCz58+LB///5t27Yx3921a9ejR4/o1hycvn37duLEidTU1JUrV6pUqqysrFWrVq1evTo9PT0tLa2kpAQiFJ79O5tBnIWhcv78+aJxoaGha9euvXbtGix4mBeYTKbi4uKkpCT4bkhISGJiYkVFhW/iQzMJGguaZunSpTwej8/nQ4tAc0DvUygU4eHhcXFxMBI2NzdPvCOAGBhzJwepqLq6Gt5eMTExCxYsiI6OZnq77+ggeGPBSjc7OxvebWKxGN52MPr7FsRohrlcrgcPHqxYsQKGgzlz5shksvLy8qqqqg0bNkSNO3DgQG9vL+0y0b+D7nbv3j3mk8jQfJGRkdevX//y5Yvv7iAkJ1irbNq0CV6QnJxcV1c3ODhIt+bgBOPex48fDx06JBQKoaUgBu3du1en06nVami+uXPnQteDkRBT0WzmcDjq6+slEgm0IMxuHR0d/3gBtDKMn9Ca+/btgxUmpii6nj59GhERwTTWy5cvYUHS19cHLRgbGwvjIXxtamqiXeOs8xcAAAD//+yde1BUdRvHX0VAYBVclGADBJEgU2ijQqhJaEgCHErLMUczJ9AyxdRMp3SkGI1JCy8oOCCEt7jJWhaCYGAoF7mFl7gJiyi2OMACXghB6/3O/mw7HhR3m3k9h7fn8wdz9vc7e3jgOc/tnN+F0lyd6Ovrwy3l4uKC2ws+fffu3QO3MKmqqsJNhribk5NDzzAER6FQjBw5EvqaM2cOU8fNmzdTUlKsrKxQCvv5+bW0tAgtI/FAkMja2tpCffb29kqlktfb09Mze/ZsVDLl5eWCiEdoOXv2LCp/aEoul2u3MMXB/PnzYWhmZmb79u2jUSVipqOjw9vbm5WUFRUVvF6ktlOmTIE229vbBRGP4HL69GmW5gYHB2tHKdy5cycqKgp1JjJdX19fKFRYIcUGpbm6Ak8dHh7OXhakp6fzelHjbtq0CXlwUVGRIOIRPOLi4lCQQFmJiYnaRhQny5Ytgy9AO2oVAcUjBgeVycyZM+HNZTJZfX09twuWGB8f7+jomJubK5R4hJa8vLxRo0bBppYsWcJ91FdQUGBubo52T09PypDEjDa0IU86fPgwtwtmuGrVqqeffrq2tlYo8QguKBoRvKCsHTt2cNurq6ttbGzgMEePHn3y5EmhxBMnlObqQWFh4ZgxY+C4t23bxuvKz89Hybt//36aeCEGkM6+8847sHlbW1veci2xsbHwEegKDQ2lh0xiBvEVtgavDePitiPiurm5RURE0DsTMQBFsAwpOTmZ2/7rr79aW1uzt6uIwUKJR+gCKkaJRAJzi4yM1Db29fXt3bsXtpaZmUmuUgzA47311ltQ02OPPcZ77l5fX89ef8FhIlERSkJxQmmuHly+fNnZ2Rl30vz587khVqVSBQYGrl+/Hn5BQPEILa2trfDOcAezZs3izT9NSEhgae6bb745cOQJIR5ycnJY6P3iiy+0jWq1OiQkBL6eXsyJARhXUFAQrGnChAlNTU3cLlQjMpkMXQjJSHkFEpDQicbGRnt7e+YVtTN0jxw54ujoGBMTQ89uRAIyjcmTJ0NNzz//PM8BFhUVscEMDg4ONPOEB6W5eoDUNjg4GHeSq6vrlStXWGNnZ+fChQvnzp2rnZFGCM6JEyfMzc0NDAzi4uJ4XZGRkWymakREhCCyETpSU1PD8qQ33niDhV4kVZ999pmPjw8voyKEoq6ujqVHM2bM4NWTSJJMTU3R9dJLL2lXySDECapHZE5QlpOTEzMupVL5wgsvfPTRRzdv3hRaOuIuWVlZZmZmiF/QC7f2gHtEC4IaQt77779Pr7l4UJqrHxs3bsRNJpFI8vLy/tQMyd2yZYuvr+/AWTKEgERFRUFNqG5PnTrFbW9ubn722WfZYIbKykqhxCN0oauri82McXR0vHDhwh9//LF//34vL6+SkhKhRSPukpiYaGhoiOC6detWbjtq/sDAQNggMt09e/YIJR6hI8iZli5dCn2ZmJgcO3ZMpVKhtly4cCHVJ+IBDnD16tXQkZGREXeAEJLahIQEBDs2Dp4e5Q6E0lz9SEpKGjFiBMqmTZs24bbLzc197rnnjh8/LrRcxN/cuHEDIZZN/W5ra9O2d3R0LF68GOqTSqVxcXE0YkHkIPQuWbKEzReEvhB9p02b9v333wstF3GX7u5uf39/KIg3Q7+lpYWtMoYcd82aNbS04pAANSSb2/T222/DT8KF0lo0ouL69esvv/wy4ppEIsnOzoZZtbe3FxcXf/zxx4ho0N3UqVNLS0uFFlOMUJqrH9qXdD4+Pshuvb29EYBpKUFRUVRUhLgLHaECOXPmTGNjY3V1dUpKSkBAgImJiUwm27NnD73WGRJAa0ZGRlCli4vLk08+GR8fT1NhxMO5c+fYUmKIu9HR0ch0EXS//vpr2J2ZmZmrq2tMTAwtmjtUKCgoYKvnItOFrQ1cQHdwEASvXr2qVqsvX74Ml9usQalUNj5ympqatL8XByqVSqkBWfs/uFpDQ0NNTQ07rq+vx8eHfuXixYu6/OH6zi6ora19/PHHoSADAwM3NzfU/HK5fMyYMdAaqs2dO3fiP6/XBf89UJqrH/Dafn5+uNVQPNnZ2X355Ze0w57Y2LZtGzz1sGHDxo0bN2nSJAcHBxsbm5EjR3p6eiLulpWV0XPcoQJi7dixY5m5LVu2jIYJiork5GQUIczQJk+eDEND0EUMRk1y8OBBBHKaujSEuHDhAiIabA3aVCgU+taTuBnc3d09PDycnZ3t7e2dNNgLAe7D8ePHs2McIASM14Db8h9cDf8TmUzGjm1tbfHxoV9xdHTU5cpBQUG//fab7v/hb7/9FuaG0DZ37twDBw689tprsDU2daGrq0tPbf+7oDRXP+C4FyxYwOJuWFgYPasQG8iEZsyYAQWh8D169GhJScmiRYvgDqCvlJQUoaUj9KOmpoYtBvniiy+qVCqhxSH+5vbt2yEhIchxUUB+8803LS0tqampyJCgLH9/fyr+hxzFxcWoUrj76egOcuL169dLJBILCwsrKyvz+4F25JpIE3GAfJEd4zeiy9LS0traGgcWGtj5UqmUHeMcHN/3mtzeUaNGjdYAMfATH9HIWtiZaDfRYKQBJ6CFeylLDairTTXgi8YacIfjo5mZGYIIvs4O0IgrGHJACy5reC9oZGLgCujFT22XXC5vbm7W8T/c398fGhrKFlj8+eef/9SUJRMnTmTmRnnI4FCaqx89PT1s3CdKQ5ruLULq6+snTJgABc2bN48568rKSkRfFMEbNmygV95Di4yMDMQJVClRUVFCy0Lcw5UrV5566ikYGvIVtn8HKkw27czV1ZWGdQ45duzYwR4HcPfT0R21Wv3TTz8hVz5z5kzx/UC7UqlEcnb27Nm6ujpEz4aGhtLSUnRVVFScP38eB6dPn2YtoLy8nB3jJ47ve03WW1ZWhoOCgoJTGvLy8oqKik6ePIlGfMQxOzM/Pz8rKys7OztDA05AC/dSFRoQL44dO5aTk4Mvfvfdd0eOHPnxxx/xEZdNS0vDFfBn4uCHH37Abzx06FDaX6BFoVCk3UtmZiauXFhYiGsePnw4Nzc3PT2ddVVVVekej2BuMCuY2xNPPMEGJ7A1dNGCsoGG5A4Opbn6Act0cHCAK1+wYAG9+xYhycnJbOp3dHQ0a0GlO336dLgDLy8vmjg8hLhz505YWBhsTSqVIv4JLQ5xD0gU2Oais2fP1q60un37dpieqakporuw4hF6gRKFzSZEdONtOkiIASSylpaWUBB3zX62zsnw4cPDw8PpCc4gUJqrHwcPHjQyMhoxYkRCQoLQshB8bt++vXz5cvgCa2tr7hQKtlbu2LFjB+7YToiW9vZ2T09P1Cf4SZtBiApUICtWrIBN8Twh7MvKygrt7733Hk3MHUIolUonJyfY2quvvtrT0yO0OMQ9IIVlew3ylhKrqalhk9K8vb3VarWAEoocSnP1AHfbypUr4cThyquqqoQWh+DT1tYml8vZcCWusy4sLJRKpQjJu3btElA8Qi9ycnLYWuhr166lyUyi4vr1676+vjA0mUzG3eGss7OTVSYuLi6XLl0SUEJCL/bt28dmE65Zs4aeC4qN3t5eti+VnZ0dUlttu/ZFpUQioVVNB4HSXD1obW11d3fHXfXKK6/QoG8RcvToURj8wB3OVCoVG0fo4+NDk1KHBMhrEXGhShMTk+zsbKHFIe6hrKyMzTaDJ+Qui9vf379q1Sq2ywD3sRMhZpDXLl++HNqk0SbipLm5GXUjFBQQEMB71h4ZGcmWFVq9ejU9C3gQlObqQUlJiVQqxS0VHh4utCwEHzjrdevWsY2XcnNzuV2IvosWLWLjFhChhZKQ0J3Ozk4vLy/aol2cxMbGGhgYwKA+//xzXhfbZxtd2i2aHw0I/9euXXtkv+7/ie7u7mnTpsHWrK2tq6urhRaH4KNQKFA3QkEffPAB71k7chK2SLyrqyttxfogKM3VFZRKa9euReVkbGycmpoqtDgEn46ODpYY2djYDHTW7EEvYnNERARVveKnuLiYrZg7depUhGGhxSH+5saNGzNnzmQDcwcu0nf16lUPDw9mhoWFhYJISOhFRkYG2xjC2dmZthgQG4hrwcHBMDcoaMWKFbw0VztuAcYYHh5OC/ndF0pzdeXSpUtTpkzB/QSPUFBQILQ4xD309/enpaUxZ21nZ1dXV8c7obW11c3NDb0TJ06srKwUREhCR65du8a2+YW+3N3doTuhJSLugrAaHx9vbm7OdmOKjo7mFY0Iw5988skwDX5+fo2NjTTWU5zcunWroaEBbhMmxmwN/nPz5s3Nzc00fVAMoGJMTU2dNWuWsbHxfzSgDkELb5ecnTt3IsdFr4WFxbx58zIzM/v6+oSSWZxQmvtwent7lUplWFiYoaEhbibcczExMY/yfRwxCAiieXl5ISEhtra2BhqMjIxCQ0Nra2u5pyEYf/jhh+wEuVyemJjY1tYmlMzEgzh//vzGjRunT58ukUjgu4cPH25qarp06VKomJ7BCwtSn+Tk5ODg4HHjxplpgGomTZq0e/duXljNzs6GMeKE0aNHP/PMM7GxsZQ2iZDS0tLXX38dpUhgYGDAXwQFBa1bt458oxhQKBRQENPLnDlz2PG7777Lm9yJsmTx4sXsNKjy008/pdE7PCjNfQi4h1auXOnv7w+H7uHh4eXl5alhy5YttPCKGECITUpK2rBhQ1xcXNJf7N27d+C4haampq1bt27evHn79u1RUVH0ek6ElJSUQJXQzldffXXgwAEc7Nq1C1UlpbmCg3ry3Llz6enpWVlZJzQcP34cevnll194WSxMEmfm5+ej99ChQ+Xl5aQ7EdLf39/R0YGU6BaH33//Xd8t0Ij/EbAarV6gLJgVDu77pBYGqD2TbG0glOY+hN7e3osXLyLZbWlpUavV3d3dXV1dOG5tbaX7iSAIgiAIQrT8FwAA///s1oEMAAAAwCB/63t8RZHmAgAwpLkAAAxpLgAAQ5oLAMCQ5gIAMKS5AAAMaS4AAEOaCwDAkOYCADCkuQAADGkuAABDmgsAwJDmAgAwpLkAAAxpLgAAQ5oLAMCQ5gIAMKS5AAAMaS4AAEOaCwDAkOYCADAUAAAA///s1oEMAAAAwCB/63t8RZHmAgAwpLkAAAxpLgAAQ5oLAMCQ5gIAMKS5AAAMaS4AAEOaCwDAkOYCADCkuQAADGkuAABDmgsAwJDmAgAwpLkAAAxpLgAAQ5oLAMCQ5gIAMKS5AAAMaS4AAEOaCwDAkOYCADAUAAAA///snXlYVdX+xutqzl5wzokkkTJlcqI00lBLRUU0gUwknGdyzBRISjDTUDSvAxnKJXHM0lQwFSUV5CqIlDnnLAqOleK93vh9nrOe9rPv3vtsjqD0+2O9f/jg2Wuvtc551vt93+9ew5Y2V0JCQkJCQuIx4I8//vj999/5t9iSDx48yM/Pt6UkePjw4Z07dwoLCx9YYHt//vvf/z604N9/gr9Nyt+/f7+goOCmBb/99hu3296WBny1f/8v/vOf/4h/S1ynRAkgbe5fBmIBpLWl5K1bty5fvmxjOIBF169fz8vLg6U2hhtozy3nzp07duwYf+gLUAl9OH78eG5ublZWFsWIOH9YQBPmlVPGJKz8+uuvJ0+evHr1Kh2+cuXKmTNnLl26RP105u7du+bxSEKiNGB0MfYYbwxR/v3qq6+mTJly+PBha+XRv3/961+MfFsqh4ZUDl8Y0teuXbNFmBFUMfjPnz8P3030tdACa1dPnDixe/futLS07OxsOpCTk7Nr166UlJQDBw7QExtjjoRECXD79u0lS5bMmDGjWF0ADPUePXosWrTIFk5R2MfHp2fPnr169fL3909NTS1W2n766aepU6cOGTLk7bffHj16dEhISN++fX19fYOCgiIiIqhQfwsx4ZNPPmnbtm1rCyi8detWa/VjghcvXnz69GnDq1QVFxfXr18/3z/h5+dHT/r06RMQEMBPtHnzZkO1lXjskDb3LwAE2LNnz4gRI0w0VY2dO3d26dIlPj4eoS22cHp6OtRycXGBq507d96xY0ext6xfv97V1fX555/39PRctWqVRl9xn7Nnz+7QoYO7uztRBq526tSJ8BQdHR0bG0v4wKqaVL5hw4aYmBhrhnX//v29e/f28PB48cUXX3jhBfrw6quvtmvXjhDj5eXFT7R9+3ZbIqaExCMBiWJYIpno5YULFxChKlWqPP300/Pnz7d2C3njqFGjAgMDMbvFSiyZW3BwsLOzs4ODQ4sWLVC1YsmbnJxMyXr16rVq1Qp5pjnDYlAJ6kVGRlp7JrRixQq4X6NGjVq1atWpUwdONW/evFmzZg0aNHBzcyM4bNy48d69e+adkZB4VGDakANsHP7SlvKkgklJSU5OTuPHjzcXkSILYaEqYvG3v/0NnqIR5Gzm5aHq0xa88cYbCA1qiwUfNGgQ1KCS9u3bk4LqbyTJRNcgjqOj47fffotxt9bEoUOHYCu5saG6ESL4HRYsWECZp556qnLlygMHDly+fPm8efO6d+9evXp1PkHssNGleWAsYQukzS1rQAnSOHRo5cqV8NyWWyiWkpKC0w0LC7t161axhX/55RfILBjev39/c32FxtQMD2vWrPn9999rtDMjIwO7iVJ++OGHWVlZtE48unjx4qZNmzC+5cuXf+6556yls0WWWEPlWFi6ZFiAXyM/Px8TUK5cOXpLlDx69CiFMzMzQ0NDiQV///vfx4wZY03yJSRKABKn8PBwUrVjx46hRg8ePMjJySHXYgROmzbN5EbGP6ORnBCna94E1d65cycxMZEBDLnq1q3LkDYpT2H6QweeeeYZrDbEsVYSuuEMyAmhoWEBKIxUUxvt2tvbr169GkJxFxkvzrtSpUrQikhiS84sIWEjoMbQoUOteUdrIP6vW7euadOmDEhbHmfs2rWL0StcY1xcnElJ1Kp+/fqUrFatmvpZD2SPiIgoZ0FQUFBBQYH+3sLCQhJgUl8TgebShAkTsMt0/sSJE9aKQUa0mG6oCYuG0nmyUPiOmaarxX5xidJA2tyyBqx2d3dfu3atjR5XAcko+ordtGUCdO/evSIckJXu2bPHpCSGlUBAycaNG2si1IEDB1q2bIlSrl+/Xp9xnjp1qlOnTphjk2fSuAEEHjc8c+ZMk5wVe03Yqlix4nfffad8eO/evcmTJ3Mvny9evNjGNRsSEuZAwxiNzs7O+/fvVz5Ebt955x1U54MPPjC//erVqzjIjh07Wsvc1CCHfPnllyEXckjaZrIm7+uvv65atSol7ezs0tPTTeqEC1jhKlWqwEqTYrNmzeLrNGvW7PLly8qHeJFu3brRCuabEFRs/yUkbIGYYWjQoIHJFL/JvTExMejIV199VWzh48eP08pTFrz55pvWskG0Y9iwYZCOYjAlJSVFfTU5OZlkj0vwaOLEiXp7DU/79u3r5+dnotE//fQTikkl2GX6b9Ln0aNHU6x58+aEDuVDah4+fDgMpZMzZsyQ6vZEIW1umeLkyZN43PDw8BIsQocJCQkJjRo1UntBazhy5AgGV8zDDhw40NqTGyTwtddeE+HAxcVFvVQoLy/v9ddfh8Ow1Nrt5NYkowcPHjS8ih0fO3asqJxvbTLHlJ2dTWpL6NEssSCUiKCGV7hx40ax31pColigeVADp6ueaiQHEw9dpkyZUmwN+OP69esPHjy42AeiN2/ebNOmjZhmdXBwyM3NNSyG+8Q6C6aQc6alpVmrkJLklhSjQuhp+CxKYNq0aZTBzattLpgzZ46Y5wkICHikrTwSEtaQmZmJMPXp06dki2EYoq6urjDl/Pnz5iV//PHHhg0benp6VqxYsUaNGgiQYTF0pF69eh4eHuXLl69QoQI5pPrqli1bYBnKhbrxx4IFCzR2Vtjc/v37W5NpwgU8QrPEXA0aarK8WNhc5DU/P1/9+cqVK+kAl4g8ct3CE4W0uWWHu3fvhoSEODk5mcxxmAMbiuHz8vIqdul6RkbGCy+8EBYWVrlyZQhv+MAV3/zxxx+3aNHC29sbsvGH2okuWrSIAEHwIrJYa4VkulevXv/85z8Nr2JeUdnevXvjtokmmzZtslZPVlYW2bze5l64cOH555+nby+99JI6FZaQKBlQGtxhkyZNfv75Z/XnepsrdlgaVlJYWEjqKBb5mDfHAG7WrBk1k63hYj/44AO9ntFKXFwcJO3SpQvuE7KkpqZaq3DDhg1wyt/fH/3WzMZqEBoaytch2mjWNqxfv/6ZZ57h0ltvvSV3fEuUHnjEESNGEL3XrFljWIARuG3btpiYmGXLliUnJ+fl5WkKQIHJkyczLJcsWWLeFmKEIiQmJrq5uUGWAQMG6FNN6AnjfHx8VqxYgYRBEw2hNm7cCN3WrVvXvn17KiHp1fBI2NzAwEBrBEHBX3zxxYiIiMjISLqN4TaZMhU2l/JXrlxRf7506VJlqZ58mvtEIW1u2SEpKalq1apEBP2KdUb5uXPnvvvuu4SEBMLBzp079bFAgHBAQCERNG8L3qKvBw4cwBZbmxahxVatWs2dO1c84FGnm+SmuAGRp5pvDoDeOTk5+s+JNXzTbt26Xbp0CadL/T179rQ2x7R//37SYr3NFbk79/br108uJZQoPTB5JH6+vr6aB5li0QIDHn6RjiKBo0aNGjJkCAbUcA8KqR3y5ufnZ7KItsiyPZxEEVKTDTKMmzdvDuk0ZRA/Dw+PHj16LFy4ENkzsbn0pGvXru+++25ubi5iT4VQzPCJLGQfM2aMyA/VkQSTHR0dLZ4ujx07Vj5Dkig9jh49SpSuXbt2dna25hK0Qstwk23bth06dGibNm0wnZ06ddJPAK5duxZL6uXlZb75hCYaN26ckpLCMCbTw6Hu3btXUyYrK6tly5a7du2CpBAKvmOy1QXmz5/PjRQTD4PgAt1T571wCs3C6RraXMj12Wef8ZWPHDkCnfGv1AArDZkIxbgEE+mS+ikSQYbowedYAnJXk68sUXpIm1tGgAP9+/eHdXqHSjZMmovjxAgOGzYMZ0nIgPCGK9NXr15dsWJFRNFcX0maod/Zs2dxsYQD9PXUqVOaMgsWLGjdujU29Msvv6Rjjo6OigbjL8X+0ODg4JKd6oXA0wGR35M9E2tq1aqF7TYsjFeG7Rqbyy8WFhZGx5599llrk1MSErZDbAdBkyZOnKjJ+rgUEBDAgPf29qaMvb09LpaSjMkBAwboN3uR2kEQpM58U/np06ehFXL79ddfk8hRJ15W0zTOmxFOirt582aU3sTmQmpyVywCvR09ejTd40ZrK+OnTJnC11GTusjiEqhBGG7zLXESEjZiyZIlSIyLi4t+wg0/Ckdefvll5AAdgSxOTk4MP/2EpFAcOGI+Q5Kenk4xyjCqMY7CX6qfgNy7d2/w4MFklb///vumTZsgFKTTLFqIjY2F4PAIJqJNWF4Sv86dO1+4cEEUgF+Itb+/v6HNRTGxxUFBQbRLAew73cB8Gz7uoQmyZfXaXD4h8/zwww/RxJo1a86YMaPYUyYkSglpc8sIDPGXXnoJDSO71Vzav39/3bp1X3nlFbI9OHDz5s3hw4dj7yCwnmaEAwpjGc33qaCazs7O2FzcLZGF2mbOnKnWV/rToUMHnC4fkt1CVPWsCumvWKQfHh5egi9LRJs6dSr1iwW1uARILvb3GD5AQnFr1KhBSCKvpQDh4+TJkxEREUQ0d3f3xMREObsqUXow5pFGZE+/2YUBhqqJHdx+fn4UIEND6kgp4Q7jVjMCxaJb1H3FihUmLYqnuYxqlIxqoYCrq6t6seydO3d8fHwCAwOR5927d5PsofTqvXEKCgsLCQh4cXHw7Q8//CDORfrkk08MmxY2F5OB+pIxoqzffPMN8kwK3a9fv0OHDsl5UonSA168/fbbYsJNs8KVIc2YVz+tFGMYQkEKzaohpEc8WJ09e7ZJc4xbhjQ2l9EbFRXF+Gc879u3TymQlpZWv379hIQE/iZvhL96m/vFF1/gL8VhKfR57ty5dJJejR8/Xqwt5ku99dZbhlvQaDc6Olq9sZvkE87SEyTPUN3EooVq1ap99NFHSUlJs2bNInRQQ9++fbdu3SrPsS4DSJtbRkC67OzsyPkwcJpLJHbQ29fXVxnxJMHILZqkn8EhixXzlf/4xz9MmsPmigWIOE7x4MfNzU1Z4C+sLQ4SH8x/ly9fDkupVikAG5FwyGlNRM3Bd8TTL126VEgpfXj//fdpArNruD89NzcX2tNJDw+PkJAQfgpHR8fq1at/+umn4vT+EvRBQkKDgwcPkh/iDvVzpsra3O7duyubHfGywcHBjFuodPz4cXV5jKM4sYuM1GTqn4GN6AqZ37RpU2ULIJdSAAEmlxObStE8VBnFNVznhypjDpS5IDrp5eUlNqIZHrcnbC4s7tSpE0YE+kMoUtldu3bJp0cSjwv3798XRHjvvfc0gVocs9O0aVP1xjL+xu0x7DVT/Hfv3m3fvj31hIaGmgT8jIwMfK04Y4T8rUGDBlAA5ooHujBx3Lhx1COem0KrSpUq6W1uXFycvb29kkz+9ttvOFSYAkGWLFmCWom1uYYHiuXn57dr147UVCERmWrPnj3FcyKhpxoIm0v9r776aseOHcUJSLZssJF4XJA2t4yAtsE3ElbNOnSwe/fuwMBAMVkDUQsKCubMmVOhQoXWrVvrBYx0s3PnzvDks88+M2lOsbn8nZqairRDM+Xo+2vXrkEzTKQIKPPmzYOl9E15zrRx40Y6wIeLFi0qwZclWBDd1MeTHT58GDmnD59//rm+vNiCJh4J0KK/v7/YA7t9+/YStC4hYQjGHp6VhEo/vShsLiMQwVN/npmZiVTrN2tTHgcMDZEuk03WKD3NCZuL9LZq1YomuEWs0oPLAQEBfn5+aHyRZQO4tUULNDd9+nRSR2VetcjyGghCCjTZvHmzvmlhc7kaHx+Pw/b09BQHL2ieoklIlAZilpKRFhYWprmEm4RumD9bdg/jNV977TXqwV+aHOOVnp4OoURaSLGRI0eKPWRiORy8RsW++OILUVg8LdLb3GXLlkHqI0eOKJ8gfG+88YZYe4DoYMGt2dy1a9dSZ0hISHZ2Np770KFD1DNhwgRx4vXSpUv1fRY2lxyVpPf27dtRUVGYb2geExPzqIeKSpQM0uaWESIiIoSV1NvcIsssCdSCORSDXS4uLhRu06aN3uYWFhaKky/1YUUNlE85YAE1FfNKbdu2FftRsMju7u7Kg1WxaEG9BS0tLY2kkw/NzbQhbty44e3tjW19//33V65cSUhCZeE/PKfbXbp0EaKuxo4dO0Q8Emd5kvG//vrrhEgKm7/qRkLCdkRGRjICDZ/mQisfHx/9ubkMZrJNki79WfRijxcD1eRY+6NHjypPc0kpxUJ5hro4dYTM1sHBQdkf88MPP0A6Q5tLxkjogNEff/wxOfAsC/DlYgExRll/kJOwuci5OCkFRiPhcGrAgAF6AkpIlAwXL15s2rSpoR4JWdGc3GwNkEgc+EMSaDI+sbkoS2JiovgvlKlduzatkHNCgUmTJrm5uV26dElcFUvv9DYXMeIuzdYXaNKuXTvRYfxxnz599IsWfv311x49ekBSyqDOJI2YeA8Pj4YNG8JrkcHqz/jTnJuLposXwcBN/QpGiScBaXPLCJMnTxavQtHbXPQPjpGYYkPJC8kOV69eXaFCBTijn168f/++eGkZJtKkOcylk5OT8n4yBBV1r1ixImpNEOnevTuppDLZyt+wTr0pG1lt0qQJrSCKj7ouduPGjbVq1fLy8iI/xpH36tULA9G7d2/+S8Sxs7NLTk7W3CJsrvr1EJmZmXSAH2HatGnyxaQSjwVRUVEMaVQKddRcglYie9Scm3v9+nWEEw2DkurPxeo9ynft2tXkDBC1zS2ynC/m6uoK1xBRUkp/f3+ooZzkIOZYDW1ubGwsnOrZs+cIC4b/iQ4dOoiNaPpN7lOnTuUSQUCo/sOHDxcsWADLqlatumzZspLtK5WQ0AALi6hBBM00SJFlCSxpFeNW/8pA7KOGNWLXF/UwyE2Wq4rZFeVsSsyxr6+veJfYmjVrWrZsCVOUNQ/bt283fJr7+eef29vbZ2RkaCrnE+qhNqQH54pmaVZWiCO3se9nz549f/58bm4uwo1W8gXx2eI0QM1bVxDZoKAgvpd6TSBptlh52L59e1veMiNRSkibW0aIjIy09jQXX0tGSHaYlpYmPCV0QvA6duyoP04BUfT09IQ2M2fONGlu69at2Fb12wVxmdxFQ/PmzcMoq7vBJ1xSnyRPGBo2bJjo8CPxEEuK/KPE9PO+CkQuKuc7isxbY5337t1brVo19UkLRIfFixeLl/2uXLlSLs+VKD3i4+PRPEObi56hl3qbe+3aNfEiQM0hIQzIwYMHF2tzxfJExeYyqidNmgQF8Jo4XdRUnfJhc8n06J56S02RZTngK6+8Mm7cOMj1x/8C1cdGYybCw8M1S4SnT5+ueZZ2586dgIAACjdo0ECfakpIlAAolDh60s/PT2MKiep2dnZib5Y64CMuGE3NaesIhFjhSmGTaJ+enq6szRXYsmWLaAWlICNVnysijojW21xSVtyq3nyT+y1cuFC8E1R8I/XTXK6GhoZqtpAqyMrKgs6G52aihtTGVUVJoeqqVauIKuXKlUMNDY8slHiMkDa3jECSB98aN26sPGEVQCMHDRqEw1NngampqQih4drcS5cuIV2w2nzVLKktxdScX7ZsGSLKjWScUVFR6sLC5jo4OKhX0GMFxHt6o6OjTZ79kNGq38pGGMJe6xPloj+PG6RC/QsyDh8+XLNmTbr37bffKh8i6qNGjSIQ4L/1D6skJB4VDEukhWGmf1OJWLSgt7mkoPXq1Wvbtq1mvwiDs3v37pR/5513TNjB7c8++6z6XEyGuli9gyJ6e3urFW7dunVira3mLWjbtm2DAoYHhyHDISEhYvuLZm+rWLSAo1Vz7dixY2JmFkOg2VQnIVECMPjFCIQjGrUqKCgQT2TIxDCjwukyYtELtEkzX5+Xl0c+aXjgphrKSQvKJ3hKwVyUBU1UW2REkA/1NheiPffcc4YvaYLX+OwKFSrobS7lUS5rLpzfYcyYMfwORJjdu3erL4lFC/wIasYRcMLCwohFyPHixYvl7MoThbS5ZQRS2+rVq+s1DOGBANhcxeHBInFQvOHa3J9//hnhJHPVH4utBmHF0dFRzaurV6+icOJ1LBqrLWyu5iR5UnOUEh6iytgCQx7m5OQg9krPuQVKk9xb28qNJ0Z3xQlN6odP4mW/fB4fH68uf+bMGbw+saNLly5yckeilLh48aKLiwvD7Msvv9RcUk5x17yRKC4uzs7Obvny5RptgynwxeQ8LwHYSvaofviE2COH3Fi5cmXNuWbimE9kT31KNFTy9/dn/FtbAZyUlCROPZs0aZL6mZmwuU2aNNG8kAINFg+ABwwYIPd6S5QeGFNGoOaE5iKLkImju8S6mpEjR8bExOCJGX6MPc143rdvHwaxTp061s6BFmD01q5dW1mbKwCdIQ58VG96LrJsQWGcQw3Ny9WwlZA6JSXFsIkbN2707dtXPJdVlk/ALHHSrcm7PGlFvHglODhY2ZaKborAQrasOWM7Pz9f7HvjEt9Ivnn7yUHa3DLChQsX8JdklppXnogD5BnrXbt2PXjwILq4dOlSsXAH55eQkADt1Y5wx44dVatWdXd3N9+bBW2IL5q3KsyfP59wMHPmTHWFJKwTJ06EhzSnmcy9devWiBEj6DNBavbs2QQRQUXi1+3bt8mJ33zzTbitfLht2zbiVFBQkLXc9MqVK2JbLsl0amqqKEZniB2ouzi3X7OeAQ9NxwgfuGd+H7k1VaLEYIhOmzaNYTZ+/HjNFL943ajYiEnyxiBkcGZmZpJqMib1FvPo0aN1LdBPfSqgia1bt5KRTpgwQb2+nGHMjZqDwBjYM2bMoAPly5ePjY0V3bt//z4STnqM4hqmjoJ0BATxuAgTIG6kZuUdS5BLzSm+V0REhJjMxUDzHeXad4nS4PLly25uboxz/ZpyRvWqVauQDwa2mMGoVq0aqqF/qYp4N4rJa49QGcqIQ/RatWqFLiiLhc6fP08HIiMjlVwUcSSHFIe1026HDh2QQlgML9BfDw8PsV1s+/bthiuOsrKynJ2d+/TpI6SNMjhmpA3HHBgYqD8SFNIRB4Q5prlKlSoNHTqUEHHo0CGcfcOGDfmQbxcaGvrjjz+qI4845ZeriDVueO3atSbHtkiUGNLmlhHEyh7s2nvvvadxmR999BFqJI46wuAiaXhK4e2aNGkSHx+vfpIkNmtPmTLF2mmdkBm24IORMYICtli5HZ8KS9WPeI8dO4bkN2rUCJdJHwhABw4cUDd3/fr1Tz/9tF27djVq1ID5vr6+Y8eOHTVqVOfOnTt27EgIEwrKLaipeP+Fk5MT+b0+N/3ll19gMmm0aIsYtGLFilOnTuE8CFLUj/bzfaOjo9UOnt8nPDycKMCPw5caOXKk+kwlCYlHwt69exlpDF29a0TbGN716tVr0aIFNAkODvb09GRwGr59VLybVLxsybAhPp81axaMQPNocfDgwcpqeC6NHj1avTYRSkIN5LBy5cqw28HBAZadOHGCyMDIF+sOo6Ki9FtzEHuMuNi4BqdcXV1JPrOzs+k/jVaxAFGnJ2r3AL8GDhxIzZQh4BAB5Em6EiUGwZ/EiXE7Z84c/YQ+AoGZmzRpEhaWYU9Wpp+iRBwhGsNYf56JgoKCghEjRsDQ4cOHDxkyhCGtLPhBCiGvWjXwl6RwAQEBgwYNot1u3bqhWadPnyapCwkJ6d27t4+PD4yjQvWZvupvRMZIjir+iwhOnz4d6aFdvK/+mEsSRX4BOE4ZmNWvXz9qRrgRa7ox8k/w9RcuXKiOGPw44r3iogC/kmaiVeKxQNrcsoM4/QTrqTkwBQVKSEiAkLAoKSnpxo0b6BmfID+YTrVf5MauXbviI3Nzc621gmJ98803cIwaSH8PHz6shB7+4Ko6El28eBGl3PUnaA7aa0IV/4XnZOpQdNy4cYSJ2NhY+ql5cQORZc2aNaKegwcP6m3u2bNn6RV9U5rLycmhOe7auXMnt/ClCIj8Spol+fw+XEW8yZgJPcrp/RISjwo8KwTERxq+pBcFgi8QBxGdN28eo87wYQ+qjDLZ29tr1vypgYBhqdevXw8HExMTN2zYoGY9DannJaAhjcIpklIKk/7xX2wxXFhhAXnjvn379FMZ586d27Jli8KpPXv2kATm5eXBVoVlGRkZaKdmkoTfATZxiVvkJIlEKXHmzBk3N7fWrVtbOzsMJ4qoWXs0Q+R3dHT09vY2X0XDKEVWxObLYrtESca8aBcoj2PE2Z2AS496iBC3iw7oL4m2iizBgX4q70WSzPr/AGlzyw6QberUqQ0bNjR8mSeU0EQBfVBITk5u1KgRsmfy4qUnCtj7VzUtIfFYgPWsU6fOxIkTS7wYDlV2dnYm5ZMv6pSQKLLoArlW/fr1586d+6jG7t69eyNHjmzZsqX5bhMJiRLj/wAAAP//7N09a1pRAIDhnyL5AyLOQhxcdHAIkiEYXLIpuLsKQmbNEv0JWTM4O7qIS0bxA8kQEAdxbA8tOASb3JSatKfPM1/hLnLey/mSuZ9qvV6XSqVisXi4iCG58KF8fn5erVbNMMJvC8Pw7e1tKpX61R6Utz0/P1cqlUKhcPRiT/g/hb9Vt9s9Ozvr9/vJSzc07t3dXTqdHo1GTo3kRGTuZ1sul9fX161W60N3EW2322azWS6XX20mBT4qDK7tdjuXy71aif6u0Lg3Nzf5fP7n1WLAwX6/7/V6mUwmlGuSqZIwAoZxMJvNPjw8OFGL05G5X2A2m11dXTUajSS3IH77sQKvVqvV6/WEzwNv2+129/f3l5eXyadKQ+NeXFyEnzw9PZ303eAfFWp1PB53Op0kOygWi0X42pxMJhbCcVIy92u8vLwMBoPpdJrk4dVq9fj4aK0C/Fnz+fzoKfFHbTab4XB49OAF4MDyA/4qMhcAgAjJXAAAIiRzAQCIkMwFACBCMhcAgAjJXAAAIiRzAQCIkMwFACBCMhcAgAjJXAAAIiRzAQCIkMwFACBCMhcAgAjJXAAAIiRzAQCIkMwFACBCMhcAgAh9BwAA///s1oEMAAAAwCB/63t8RZHmAgAwpLkAAAxpLgAAQ5oLAMCQ5gIAMKS5AAAMBQAA//8DAH4PwGeSCbdCAAAAAElFTkSuQmCC)\n",
        "### Representación gráfica de ausencias.\n",
        "X representa las variables observadas, Y representa una variable parcialmente ausente, Z representa el componente de las causas de ausencia no relacionadas con X e Y, y R representa la ausencia. (Schafer and Graham 2002)."
      ]
    },
    {
      "cell_type": "markdown",
      "id": "d59586d1",
      "metadata": {
        "papermill": {
          "duration": 0.018925,
          "end_time": "2023-06-03T09:23:36.143509",
          "exception": false,
          "start_time": "2023-06-03T09:23:36.124584",
          "status": "completed"
        },
        "tags": [],
        "id": "d59586d1"
      },
      "source": [
        "# **Análisis visual de nuestros datos**\n",
        "\n",
        "Vamos a comenzar con un análisis visual de nuestras variables.\n",
        "\n",
        "**airquality:** Mediciones diarias de la calidad del aire en Nueva York, de mayo a septiembre de 1973.\n",
        "\n",
        "Lecturas diarias de los siguientes valores de calidad del aire para el 1 de mayo de 1973 (a martes) al 30 de septiembre de 1973.\n",
        "\n",
        "**Variables:**\n",
        "\n",
        "* Ozone: Ozono medio en partes por mil millones de 1300 a 1500 horas en Roosevelt Island\n",
        "\n",
        "* Solar.R:Radiación solar en Langleys en la banda de frecuencia 4000--7700 Angstroms de 0800 a 1200 horas en Central Park\n",
        "\n",
        "* Wind: Velocidad media del viento en millas por hora a las 0700 y 1000 horas en el aeropuerto de LaGuardia\n",
        "\n",
        "* Temp: Máximo diario temperatura en grados Fahrenheit en el aeropuerto de La Guardia.\n",
        "\n",
        "¿Hay valores perdidos?"
      ]
    },
    {
      "cell_type": "code",
      "source": [
        "head(airquality)"
      ],
      "metadata": {
        "colab": {
          "base_uri": "https://localhost:8080/",
          "height": 286
        },
        "id": "Aw6gktaV_O1D",
        "outputId": "ccf318a4-0a5f-4aa1-f8cc-5d37f7d27667"
      },
      "id": "Aw6gktaV_O1D",
      "execution_count": 152,
      "outputs": [
        {
          "output_type": "display_data",
          "data": {
            "text/html": [
              "<table class=\"dataframe\">\n",
              "<caption>A data.frame: 6 × 6</caption>\n",
              "<thead>\n",
              "\t<tr><th></th><th scope=col>Ozone</th><th scope=col>Solar.R</th><th scope=col>Wind</th><th scope=col>Temp</th><th scope=col>Month</th><th scope=col>Day</th></tr>\n",
              "\t<tr><th></th><th scope=col>&lt;int&gt;</th><th scope=col>&lt;int&gt;</th><th scope=col>&lt;dbl&gt;</th><th scope=col>&lt;int&gt;</th><th scope=col>&lt;int&gt;</th><th scope=col>&lt;int&gt;</th></tr>\n",
              "</thead>\n",
              "<tbody>\n",
              "\t<tr><th scope=row>1</th><td>41</td><td>190</td><td> 7.4</td><td>67</td><td>5</td><td>1</td></tr>\n",
              "\t<tr><th scope=row>2</th><td>36</td><td>118</td><td> 8.0</td><td>72</td><td>5</td><td>2</td></tr>\n",
              "\t<tr><th scope=row>3</th><td>12</td><td>149</td><td>12.6</td><td>74</td><td>5</td><td>3</td></tr>\n",
              "\t<tr><th scope=row>4</th><td>18</td><td>313</td><td>11.5</td><td>62</td><td>5</td><td>4</td></tr>\n",
              "\t<tr><th scope=row>5</th><td>NA</td><td> NA</td><td>14.3</td><td>56</td><td>5</td><td>5</td></tr>\n",
              "\t<tr><th scope=row>6</th><td>28</td><td> NA</td><td>14.9</td><td>66</td><td>5</td><td>6</td></tr>\n",
              "</tbody>\n",
              "</table>\n"
            ],
            "text/markdown": "\nA data.frame: 6 × 6\n\n| <!--/--> | Ozone &lt;int&gt; | Solar.R &lt;int&gt; | Wind &lt;dbl&gt; | Temp &lt;int&gt; | Month &lt;int&gt; | Day &lt;int&gt; |\n|---|---|---|---|---|---|---|\n| 1 | 41 | 190 |  7.4 | 67 | 5 | 1 |\n| 2 | 36 | 118 |  8.0 | 72 | 5 | 2 |\n| 3 | 12 | 149 | 12.6 | 74 | 5 | 3 |\n| 4 | 18 | 313 | 11.5 | 62 | 5 | 4 |\n| 5 | NA |  NA | 14.3 | 56 | 5 | 5 |\n| 6 | 28 |  NA | 14.9 | 66 | 5 | 6 |\n\n",
            "text/latex": "A data.frame: 6 × 6\n\\begin{tabular}{r|llllll}\n  & Ozone & Solar.R & Wind & Temp & Month & Day\\\\\n  & <int> & <int> & <dbl> & <int> & <int> & <int>\\\\\n\\hline\n\t1 & 41 & 190 &  7.4 & 67 & 5 & 1\\\\\n\t2 & 36 & 118 &  8.0 & 72 & 5 & 2\\\\\n\t3 & 12 & 149 & 12.6 & 74 & 5 & 3\\\\\n\t4 & 18 & 313 & 11.5 & 62 & 5 & 4\\\\\n\t5 & NA &  NA & 14.3 & 56 & 5 & 5\\\\\n\t6 & 28 &  NA & 14.9 & 66 & 5 & 6\\\\\n\\end{tabular}\n",
            "text/plain": [
              "  Ozone Solar.R Wind Temp Month Day\n",
              "1 41    190      7.4 67   5     1  \n",
              "2 36    118      8.0 72   5     2  \n",
              "3 12    149     12.6 74   5     3  \n",
              "4 18    313     11.5 62   5     4  \n",
              "5 NA     NA     14.3 56   5     5  \n",
              "6 28     NA     14.9 66   5     6  "
            ]
          },
          "metadata": {}
        }
      ]
    },
    {
      "cell_type": "code",
      "source": [
        "dim(airquality)"
      ],
      "metadata": {
        "colab": {
          "base_uri": "https://localhost:8080/",
          "height": 34
        },
        "id": "1VCfjvYt59o1",
        "outputId": "fee87a82-8c0c-4cfd-8940-573e016e7790"
      },
      "id": "1VCfjvYt59o1",
      "execution_count": 153,
      "outputs": [
        {
          "output_type": "display_data",
          "data": {
            "text/html": [
              "<style>\n",
              ".list-inline {list-style: none; margin:0; padding: 0}\n",
              ".list-inline>li {display: inline-block}\n",
              ".list-inline>li:not(:last-child)::after {content: \"\\00b7\"; padding: 0 .5ex}\n",
              "</style>\n",
              "<ol class=list-inline><li>153</li><li>6</li></ol>\n"
            ],
            "text/markdown": "1. 153\n2. 6\n\n\n",
            "text/latex": "\\begin{enumerate*}\n\\item 153\n\\item 6\n\\end{enumerate*}\n",
            "text/plain": [
              "[1] 153   6"
            ]
          },
          "metadata": {}
        }
      ]
    },
    {
      "cell_type": "code",
      "source": [
        "#tipos de variable\n",
        "str(airquality)"
      ],
      "metadata": {
        "colab": {
          "base_uri": "https://localhost:8080/"
        },
        "id": "eVh2HIcrAjaW",
        "outputId": "10c2a873-a308-407a-c2c3-db2f4cf410a4"
      },
      "id": "eVh2HIcrAjaW",
      "execution_count": 154,
      "outputs": [
        {
          "output_type": "stream",
          "name": "stdout",
          "text": [
            "'data.frame':\t153 obs. of  6 variables:\n",
            " $ Ozone  : int  41 36 12 18 NA 28 23 19 8 NA ...\n",
            " $ Solar.R: int  190 118 149 313 NA NA 299 99 19 194 ...\n",
            " $ Wind   : num  7.4 8 12.6 11.5 14.3 14.9 8.6 13.8 20.1 8.6 ...\n",
            " $ Temp   : int  67 72 74 62 56 66 65 59 61 69 ...\n",
            " $ Month  : int  5 5 5 5 5 5 5 5 5 5 ...\n",
            " $ Day    : int  1 2 3 4 5 6 7 8 9 10 ...\n"
          ]
        }
      ]
    },
    {
      "cell_type": "code",
      "execution_count": 155,
      "id": "64f7ee2b",
      "metadata": {
        "execution": {
          "iopub.execute_input": "2023-06-03T09:23:36.187416Z",
          "iopub.status.busy": "2023-06-03T09:23:36.185506Z",
          "iopub.status.idle": "2023-06-03T09:23:38.090814Z",
          "shell.execute_reply": "2023-06-03T09:23:38.086445Z"
        },
        "papermill": {
          "duration": 1.932316,
          "end_time": "2023-06-03T09:23:38.094864",
          "exception": false,
          "start_time": "2023-06-03T09:23:36.162548",
          "status": "completed"
        },
        "tags": [],
        "id": "64f7ee2b",
        "colab": {
          "base_uri": "https://localhost:8080/",
          "height": 437
        },
        "outputId": "6f485efb-f09f-46eb-ec7b-52b3bd0e015b"
      },
      "outputs": [
        {
          "output_type": "display_data",
          "data": {
            "text/plain": [
              "plot without title"
            ],
            "image/png": "[encoded data removed]"
          },
          "metadata": {
            "image/png": {
              "width": 420,
              "height": 420
            }
          }
        }
      ],
      "source": [
        "library(pastecs)\n",
        "#library(summarytools)\n",
        "library(DataExplorer)\n",
        "\n",
        "plot_missing(airquality) #datos perdidos por variable"
      ]
    },
    {
      "cell_type": "markdown",
      "id": "de84e675",
      "metadata": {
        "papermill": {
          "duration": 0.020963,
          "end_time": "2023-06-03T09:23:38.137841",
          "exception": false,
          "start_time": "2023-06-03T09:23:38.116878",
          "status": "completed"
        },
        "tags": [],
        "id": "de84e675"
      },
      "source": [
        "# Con un histograma y diagrama de densidades para cada una de nuestras variables cuantitativas. Podemos hacernos una primera idea de la distribución de nuestros datos."
      ]
    },
    {
      "cell_type": "code",
      "execution_count": 156,
      "id": "1c16ba01",
      "metadata": {
        "execution": {
          "iopub.execute_input": "2023-06-03T09:23:38.187219Z",
          "iopub.status.busy": "2023-06-03T09:23:38.183984Z",
          "iopub.status.idle": "2023-06-03T09:23:39.650227Z",
          "shell.execute_reply": "2023-06-03T09:23:39.647527Z"
        },
        "papermill": {
          "duration": 1.493949,
          "end_time": "2023-06-03T09:23:39.653630",
          "exception": false,
          "start_time": "2023-06-03T09:23:38.159681",
          "status": "completed"
        },
        "tags": [],
        "id": "1c16ba01",
        "colab": {
          "base_uri": "https://localhost:8080/",
          "height": 437
        },
        "outputId": "b0c3ea84-db83-4ee1-8c39-a375e4aa29db"
      },
      "outputs": [
        {
          "output_type": "display_data",
          "data": {
            "text/plain": [
              "plot without title"
            ],
            "image/png": "[encoded data removed]"
          },
          "metadata": {
            "image/png": {
              "width": 420,
              "height": 420
            }
          }
        }
      ],
      "source": [
        "plot_histogram(airquality)"
      ]
    },
    {
      "cell_type": "code",
      "execution_count": 157,
      "id": "ee464486",
      "metadata": {
        "execution": {
          "iopub.execute_input": "2023-06-03T09:23:39.720649Z",
          "iopub.status.busy": "2023-06-03T09:23:39.718310Z",
          "iopub.status.idle": "2023-06-03T09:23:41.014181Z",
          "shell.execute_reply": "2023-06-03T09:23:41.011301Z"
        },
        "papermill": {
          "duration": 1.331345,
          "end_time": "2023-06-03T09:23:41.018105",
          "exception": false,
          "start_time": "2023-06-03T09:23:39.686760",
          "status": "completed"
        },
        "tags": [],
        "id": "ee464486",
        "colab": {
          "base_uri": "https://localhost:8080/",
          "height": 437
        },
        "outputId": "5ea0c80b-881d-48fe-a599-96427e020e4f"
      },
      "outputs": [
        {
          "output_type": "display_data",
          "data": {
            "text/plain": [
              "plot without title"
            ],
            "image/png": "[encoded data removed]"
          },
          "metadata": {
            "image/png": {
              "width": 420,
              "height": 420
            }
          }
        }
      ],
      "source": [
        "plot_density(airquality)"
      ]
    },
    {
      "cell_type": "markdown",
      "id": "b2c4d8f5",
      "metadata": {
        "papermill": {
          "duration": 0.024562,
          "end_time": "2023-06-03T09:23:41.067132",
          "exception": false,
          "start_time": "2023-06-03T09:23:41.042570",
          "status": "completed"
        },
        "tags": [],
        "id": "b2c4d8f5"
      },
      "source": [
        "# ¿Se correlacionan nuestras variables? Esto es importante a la hora por ejemplo de realizar un análisis multivariantes o a la hora de seleccionar las variables más influyentes."
      ]
    },
    {
      "cell_type": "code",
      "execution_count": 158,
      "id": "8eb7393b",
      "metadata": {
        "execution": {
          "iopub.execute_input": "2023-06-03T09:23:41.121444Z",
          "iopub.status.busy": "2023-06-03T09:23:41.119355Z",
          "iopub.status.idle": "2023-06-03T09:23:41.622641Z",
          "shell.execute_reply": "2023-06-03T09:23:41.619383Z"
        },
        "papermill": {
          "duration": 0.534297,
          "end_time": "2023-06-03T09:23:41.626358",
          "exception": false,
          "start_time": "2023-06-03T09:23:41.092061",
          "status": "completed"
        },
        "tags": [],
        "id": "8eb7393b",
        "colab": {
          "base_uri": "https://localhost:8080/",
          "height": 472
        },
        "outputId": "31f6e3f4-0947-4a29-f98b-36f0a6bcbf1f"
      },
      "outputs": [
        {
          "output_type": "stream",
          "name": "stderr",
          "text": [
            "Warning message:\n",
            "“\u001b[1m\u001b[22mRemoved 18 rows containing missing values (`geom_text()`).”\n"
          ]
        },
        {
          "output_type": "display_data",
          "data": {
            "text/plain": [
              "plot without title"
            ],
            "image/png": "[encoded data removed]"
          },
          "metadata": {
            "image/png": {
              "width": 420,
              "height": 420
            }
          }
        }
      ],
      "source": [
        "plot_correlation(airquality, type = 'continuous','Review.Date')"
      ]
    },
    {
      "cell_type": "markdown",
      "id": "de85a2ef",
      "metadata": {
        "papermill": {
          "duration": 0.02407,
          "end_time": "2023-06-03T09:23:41.674524",
          "exception": false,
          "start_time": "2023-06-03T09:23:41.650454",
          "status": "completed"
        },
        "tags": [],
        "id": "de85a2ef"
      },
      "source": [
        "Vemos que para las variables con valores perdidos no se ha hecho la correlación. Los colores más intensos muestran una mayor correlación entre las variables.\n",
        "\n",
        "Para las variables categóricas utilizamos plot_bar:"
      ]
    },
    {
      "cell_type": "code",
      "execution_count": 159,
      "id": "e9d47bde",
      "metadata": {
        "execution": {
          "iopub.execute_input": "2023-06-03T09:23:41.728747Z",
          "iopub.status.busy": "2023-06-03T09:23:41.726151Z",
          "iopub.status.idle": "2023-06-03T09:23:41.750373Z",
          "shell.execute_reply": "2023-06-03T09:23:41.748063Z"
        },
        "papermill": {
          "duration": 0.057981,
          "end_time": "2023-06-03T09:23:41.756532",
          "exception": false,
          "start_time": "2023-06-03T09:23:41.698551",
          "status": "completed"
        },
        "tags": [],
        "id": "e9d47bde"
      },
      "outputs": [],
      "source": [
        "# Ejemplo: plot_bar(airquality)"
      ]
    },
    {
      "cell_type": "markdown",
      "id": "d60c3d33",
      "metadata": {
        "papermill": {
          "duration": 0.026572,
          "end_time": "2023-06-03T09:23:41.808814",
          "exception": false,
          "start_time": "2023-06-03T09:23:41.782242",
          "status": "completed"
        },
        "tags": [],
        "id": "d60c3d33"
      },
      "source": [
        "# Análisis cuantitativo de nuestros datos\n",
        "Vamos a comenzar con un análisis cuantitativo de nuestras variables. ¿Cuál es la media de cada variables? ¿su valor máximo? ¿el número de casos? etc."
      ]
    },
    {
      "cell_type": "code",
      "execution_count": 160,
      "id": "f31084ae",
      "metadata": {
        "execution": {
          "iopub.execute_input": "2023-06-03T09:23:41.866414Z",
          "iopub.status.busy": "2023-06-03T09:23:41.863908Z",
          "iopub.status.idle": "2023-06-03T09:23:41.943707Z",
          "shell.execute_reply": "2023-06-03T09:23:41.940639Z"
        },
        "papermill": {
          "duration": 0.111767,
          "end_time": "2023-06-03T09:23:41.947826",
          "exception": false,
          "start_time": "2023-06-03T09:23:41.836059",
          "status": "completed"
        },
        "tags": [],
        "id": "f31084ae",
        "colab": {
          "base_uri": "https://localhost:8080/",
          "height": 537
        },
        "outputId": "08cccfb6-b0de-4930-b9c0-322d184384eb"
      },
      "outputs": [
        {
          "output_type": "display_data",
          "data": {
            "text/html": [
              "<table class=\"dataframe\">\n",
              "<caption>A data.frame: 14 × 6</caption>\n",
              "<thead>\n",
              "\t<tr><th></th><th scope=col>Ozone</th><th scope=col>Solar.R</th><th scope=col>Wind</th><th scope=col>Temp</th><th scope=col>Month</th><th scope=col>Day</th></tr>\n",
              "\t<tr><th></th><th scope=col>&lt;dbl&gt;</th><th scope=col>&lt;dbl&gt;</th><th scope=col>&lt;dbl&gt;</th><th scope=col>&lt;dbl&gt;</th><th scope=col>&lt;dbl&gt;</th><th scope=col>&lt;dbl&gt;</th></tr>\n",
              "</thead>\n",
              "<tbody>\n",
              "\t<tr><th scope=row>nbr.val</th><td> 116.0000000</td><td>1.460000e+02</td><td> 153.0000000</td><td>1.530000e+02</td><td> 153.0000000</td><td> 153.0000000</td></tr>\n",
              "\t<tr><th scope=row>nbr.null</th><td>   0.0000000</td><td>0.000000e+00</td><td>   0.0000000</td><td>0.000000e+00</td><td>   0.0000000</td><td>   0.0000000</td></tr>\n",
              "\t<tr><th scope=row>nbr.na</th><td>  37.0000000</td><td>7.000000e+00</td><td>   0.0000000</td><td>0.000000e+00</td><td>   0.0000000</td><td>   0.0000000</td></tr>\n",
              "\t<tr><th scope=row>min</th><td>   1.0000000</td><td>7.000000e+00</td><td>   1.7000000</td><td>5.600000e+01</td><td>   5.0000000</td><td>   1.0000000</td></tr>\n",
              "\t<tr><th scope=row>max</th><td> 168.0000000</td><td>3.340000e+02</td><td>  20.7000000</td><td>9.700000e+01</td><td>   9.0000000</td><td>  31.0000000</td></tr>\n",
              "\t<tr><th scope=row>range</th><td> 167.0000000</td><td>3.270000e+02</td><td>  19.0000000</td><td>4.100000e+01</td><td>   4.0000000</td><td>  30.0000000</td></tr>\n",
              "\t<tr><th scope=row>sum</th><td>4887.0000000</td><td>2.714600e+04</td><td>1523.5000000</td><td>1.191600e+04</td><td>1070.0000000</td><td>2418.0000000</td></tr>\n",
              "\t<tr><th scope=row>median</th><td>  31.5000000</td><td>2.050000e+02</td><td>   9.7000000</td><td>7.900000e+01</td><td>   7.0000000</td><td>  16.0000000</td></tr>\n",
              "\t<tr><th scope=row>mean</th><td>  42.1293103</td><td>1.859315e+02</td><td>   9.9575163</td><td>7.788235e+01</td><td>   6.9934641</td><td>  15.8039216</td></tr>\n",
              "\t<tr><th scope=row>SE.mean</th><td>   3.0628482</td><td>7.453288e+00</td><td>   0.2848178</td><td>7.652217e-01</td><td>   0.1145191</td><td>   0.7166540</td></tr>\n",
              "\t<tr><th scope=row>CI.mean.0.95</th><td>   6.0669128</td><td>1.473112e+01</td><td>   0.5627128</td><td>1.511844e+00</td><td>   0.2262546</td><td>   1.4158889</td></tr>\n",
              "\t<tr><th scope=row>var</th><td>1088.2005247</td><td>8.110519e+03</td><td>  12.4115385</td><td>8.959133e+01</td><td>   2.0065359</td><td>  78.5797214</td></tr>\n",
              "\t<tr><th scope=row>std.dev</th><td>  32.9878845</td><td>9.005842e+01</td><td>   3.5230014</td><td>9.465270e+00</td><td>   1.4165225</td><td>   8.8645204</td></tr>\n",
              "\t<tr><th scope=row>coef.var</th><td>   0.7830151</td><td>4.843634e-01</td><td>   0.3538032</td><td>1.215329e-01</td><td>   0.2025495</td><td>   0.5609064</td></tr>\n",
              "</tbody>\n",
              "</table>\n"
            ],
            "text/markdown": "\nA data.frame: 14 × 6\n\n| <!--/--> | Ozone &lt;dbl&gt; | Solar.R &lt;dbl&gt; | Wind &lt;dbl&gt; | Temp &lt;dbl&gt; | Month &lt;dbl&gt; | Day &lt;dbl&gt; |\n|---|---|---|---|---|---|---|\n| nbr.val |  116.0000000 | 1.460000e+02 |  153.0000000 | 1.530000e+02 |  153.0000000 |  153.0000000 |\n| nbr.null |    0.0000000 | 0.000000e+00 |    0.0000000 | 0.000000e+00 |    0.0000000 |    0.0000000 |\n| nbr.na |   37.0000000 | 7.000000e+00 |    0.0000000 | 0.000000e+00 |    0.0000000 |    0.0000000 |\n| min |    1.0000000 | 7.000000e+00 |    1.7000000 | 5.600000e+01 |    5.0000000 |    1.0000000 |\n| max |  168.0000000 | 3.340000e+02 |   20.7000000 | 9.700000e+01 |    9.0000000 |   31.0000000 |\n| range |  167.0000000 | 3.270000e+02 |   19.0000000 | 4.100000e+01 |    4.0000000 |   30.0000000 |\n| sum | 4887.0000000 | 2.714600e+04 | 1523.5000000 | 1.191600e+04 | 1070.0000000 | 2418.0000000 |\n| median |   31.5000000 | 2.050000e+02 |    9.7000000 | 7.900000e+01 |    7.0000000 |   16.0000000 |\n| mean |   42.1293103 | 1.859315e+02 |    9.9575163 | 7.788235e+01 |    6.9934641 |   15.8039216 |\n| SE.mean |    3.0628482 | 7.453288e+00 |    0.2848178 | 7.652217e-01 |    0.1145191 |    0.7166540 |\n| CI.mean.0.95 |    6.0669128 | 1.473112e+01 |    0.5627128 | 1.511844e+00 |    0.2262546 |    1.4158889 |\n| var | 1088.2005247 | 8.110519e+03 |   12.4115385 | 8.959133e+01 |    2.0065359 |   78.5797214 |\n| std.dev |   32.9878845 | 9.005842e+01 |    3.5230014 | 9.465270e+00 |    1.4165225 |    8.8645204 |\n| coef.var |    0.7830151 | 4.843634e-01 |    0.3538032 | 1.215329e-01 |    0.2025495 |    0.5609064 |\n\n",
            "text/latex": "A data.frame: 14 × 6\n\\begin{tabular}{r|llllll}\n  & Ozone & Solar.R & Wind & Temp & Month & Day\\\\\n  & <dbl> & <dbl> & <dbl> & <dbl> & <dbl> & <dbl>\\\\\n\\hline\n\tnbr.val &  116.0000000 & 1.460000e+02 &  153.0000000 & 1.530000e+02 &  153.0000000 &  153.0000000\\\\\n\tnbr.null &    0.0000000 & 0.000000e+00 &    0.0000000 & 0.000000e+00 &    0.0000000 &    0.0000000\\\\\n\tnbr.na &   37.0000000 & 7.000000e+00 &    0.0000000 & 0.000000e+00 &    0.0000000 &    0.0000000\\\\\n\tmin &    1.0000000 & 7.000000e+00 &    1.7000000 & 5.600000e+01 &    5.0000000 &    1.0000000\\\\\n\tmax &  168.0000000 & 3.340000e+02 &   20.7000000 & 9.700000e+01 &    9.0000000 &   31.0000000\\\\\n\trange &  167.0000000 & 3.270000e+02 &   19.0000000 & 4.100000e+01 &    4.0000000 &   30.0000000\\\\\n\tsum & 4887.0000000 & 2.714600e+04 & 1523.5000000 & 1.191600e+04 & 1070.0000000 & 2418.0000000\\\\\n\tmedian &   31.5000000 & 2.050000e+02 &    9.7000000 & 7.900000e+01 &    7.0000000 &   16.0000000\\\\\n\tmean &   42.1293103 & 1.859315e+02 &    9.9575163 & 7.788235e+01 &    6.9934641 &   15.8039216\\\\\n\tSE.mean &    3.0628482 & 7.453288e+00 &    0.2848178 & 7.652217e-01 &    0.1145191 &    0.7166540\\\\\n\tCI.mean.0.95 &    6.0669128 & 1.473112e+01 &    0.5627128 & 1.511844e+00 &    0.2262546 &    1.4158889\\\\\n\tvar & 1088.2005247 & 8.110519e+03 &   12.4115385 & 8.959133e+01 &    2.0065359 &   78.5797214\\\\\n\tstd.dev &   32.9878845 & 9.005842e+01 &    3.5230014 & 9.465270e+00 &    1.4165225 &    8.8645204\\\\\n\tcoef.var &    0.7830151 & 4.843634e-01 &    0.3538032 & 1.215329e-01 &    0.2025495 &    0.5609064\\\\\n\\end{tabular}\n",
            "text/plain": [
              "             Ozone        Solar.R      Wind         Temp         Month       \n",
              "nbr.val       116.0000000 1.460000e+02  153.0000000 1.530000e+02  153.0000000\n",
              "nbr.null        0.0000000 0.000000e+00    0.0000000 0.000000e+00    0.0000000\n",
              "nbr.na         37.0000000 7.000000e+00    0.0000000 0.000000e+00    0.0000000\n",
              "min             1.0000000 7.000000e+00    1.7000000 5.600000e+01    5.0000000\n",
              "max           168.0000000 3.340000e+02   20.7000000 9.700000e+01    9.0000000\n",
              "range         167.0000000 3.270000e+02   19.0000000 4.100000e+01    4.0000000\n",
              "sum          4887.0000000 2.714600e+04 1523.5000000 1.191600e+04 1070.0000000\n",
              "median         31.5000000 2.050000e+02    9.7000000 7.900000e+01    7.0000000\n",
              "mean           42.1293103 1.859315e+02    9.9575163 7.788235e+01    6.9934641\n",
              "SE.mean         3.0628482 7.453288e+00    0.2848178 7.652217e-01    0.1145191\n",
              "CI.mean.0.95    6.0669128 1.473112e+01    0.5627128 1.511844e+00    0.2262546\n",
              "var          1088.2005247 8.110519e+03   12.4115385 8.959133e+01    2.0065359\n",
              "std.dev        32.9878845 9.005842e+01    3.5230014 9.465270e+00    1.4165225\n",
              "coef.var        0.7830151 4.843634e-01    0.3538032 1.215329e-01    0.2025495\n",
              "             Day         \n",
              "nbr.val       153.0000000\n",
              "nbr.null        0.0000000\n",
              "nbr.na          0.0000000\n",
              "min             1.0000000\n",
              "max            31.0000000\n",
              "range          30.0000000\n",
              "sum          2418.0000000\n",
              "median         16.0000000\n",
              "mean           15.8039216\n",
              "SE.mean         0.7166540\n",
              "CI.mean.0.95    1.4158889\n",
              "var            78.5797214\n",
              "std.dev         8.8645204\n",
              "coef.var        0.5609064"
            ]
          },
          "metadata": {}
        }
      ],
      "source": [
        "stat.desc(airquality)\n",
        "\n",
        "# Otra forma similar de hacer la tabla anterior: summarytools::descr(datas)"
      ]
    },
    {
      "cell_type": "markdown",
      "id": "6bb9afbe",
      "metadata": {
        "papermill": {
          "duration": 0.027153,
          "end_time": "2023-06-03T09:23:43.044036",
          "exception": false,
          "start_time": "2023-06-03T09:23:43.016883",
          "status": "completed"
        },
        "tags": [],
        "id": "6bb9afbe"
      },
      "source": [
        "# Resumen\n",
        "Cono todo lo anterior nos podemos hacer una primera idea de como son nuestros datos y los posible errores en los mismos. También tenemos una primera idea de sus distribuciones (por medio de los histogramas) y de los valores perdidos o los posibles outliers. Sin este trabajo previo no debemos realizar un análisis estadístico, ya que desconocemos la naturaleza de nuestras variables y su posible interpretación."
      ]
    },
    {
      "cell_type": "markdown",
      "id": "94c87a71",
      "metadata": {
        "papermill": {
          "duration": 0.028209,
          "end_time": "2023-06-03T09:23:43.099317",
          "exception": false,
          "start_time": "2023-06-03T09:23:43.071108",
          "status": "completed"
        },
        "tags": [],
        "id": "94c87a71"
      },
      "source": [
        "# Exploración\n",
        "La primera misión de un analista es determinar la existencia de valores ausentes, y determinar posteriormente, las acciones a tomar frente a ello.\n",
        "\n",
        "Como siempre en R, hay más de una forma de obtener los resultados esperados.\n",
        "\n",
        "Para determinar el patrón de datos hacemos uso de la librería **mice**."
      ]
    },
    {
      "cell_type": "code",
      "execution_count": 161,
      "id": "1c465967",
      "metadata": {
        "execution": {
          "iopub.execute_input": "2023-06-03T09:23:43.159060Z",
          "iopub.status.busy": "2023-06-03T09:23:43.156898Z",
          "iopub.status.idle": "2023-06-03T09:23:43.568912Z",
          "shell.execute_reply": "2023-06-03T09:23:43.566544Z"
        },
        "papermill": {
          "duration": 0.445188,
          "end_time": "2023-06-03T09:23:43.572085",
          "exception": false,
          "start_time": "2023-06-03T09:23:43.126897",
          "status": "completed"
        },
        "tags": [],
        "id": "1c465967",
        "colab": {
          "base_uri": "https://localhost:8080/",
          "height": 644
        },
        "outputId": "f83fbcc7-4b57-4d08-b659-733e27dbb408"
      },
      "outputs": [
        {
          "output_type": "display_data",
          "data": {
            "text/html": [
              "<table class=\"dataframe\">\n",
              "<caption>A matrix: 5 × 7 of type dbl</caption>\n",
              "<thead>\n",
              "\t<tr><th></th><th scope=col>Wind</th><th scope=col>Temp</th><th scope=col>Month</th><th scope=col>Day</th><th scope=col>Solar.R</th><th scope=col>Ozone</th><th scope=col></th></tr>\n",
              "</thead>\n",
              "<tbody>\n",
              "\t<tr><th scope=row>111</th><td>1</td><td>1</td><td>1</td><td>1</td><td>1</td><td> 1</td><td> 0</td></tr>\n",
              "\t<tr><th scope=row>35</th><td>1</td><td>1</td><td>1</td><td>1</td><td>1</td><td> 0</td><td> 1</td></tr>\n",
              "\t<tr><th scope=row>5</th><td>1</td><td>1</td><td>1</td><td>1</td><td>0</td><td> 1</td><td> 1</td></tr>\n",
              "\t<tr><th scope=row>2</th><td>1</td><td>1</td><td>1</td><td>1</td><td>0</td><td> 0</td><td> 2</td></tr>\n",
              "\t<tr><th scope=row></th><td>0</td><td>0</td><td>0</td><td>0</td><td>7</td><td>37</td><td>44</td></tr>\n",
              "</tbody>\n",
              "</table>\n"
            ],
            "text/markdown": "\nA matrix: 5 × 7 of type dbl\n\n| <!--/--> | Wind | Temp | Month | Day | Solar.R | Ozone | <!----> |\n|---|---|---|---|---|---|---|---|\n| 111 | 1 | 1 | 1 | 1 | 1 |  1 |  0 |\n| 35 | 1 | 1 | 1 | 1 | 1 |  0 |  1 |\n| 5 | 1 | 1 | 1 | 1 | 0 |  1 |  1 |\n| 2 | 1 | 1 | 1 | 1 | 0 |  0 |  2 |\n| <!----> | 0 | 0 | 0 | 0 | 7 | 37 | 44 |\n\n",
            "text/latex": "A matrix: 5 × 7 of type dbl\n\\begin{tabular}{r|lllllll}\n  & Wind & Temp & Month & Day & Solar.R & Ozone & \\\\\n\\hline\n\t111 & 1 & 1 & 1 & 1 & 1 &  1 &  0\\\\\n\t35 & 1 & 1 & 1 & 1 & 1 &  0 &  1\\\\\n\t5 & 1 & 1 & 1 & 1 & 0 &  1 &  1\\\\\n\t2 & 1 & 1 & 1 & 1 & 0 &  0 &  2\\\\\n\t & 0 & 0 & 0 & 0 & 7 & 37 & 44\\\\\n\\end{tabular}\n",
            "text/plain": [
              "    Wind Temp Month Day Solar.R Ozone   \n",
              "111 1    1    1     1   1        1     0\n",
              "35  1    1    1     1   1        0     1\n",
              "5   1    1    1     1   0        1     1\n",
              "2   1    1    1     1   0        0     2\n",
              "    0    0    0     0   7       37    44"
            ]
          },
          "metadata": {}
        },
        {
          "output_type": "display_data",
          "data": {
            "text/plain": [
              "plot without title"
            ],
            "image/png": "[encoded data removed]"
          },
          "metadata": {
            "image/png": {
              "width": 420,
              "height": 420
            }
          }
        }
      ],
      "source": [
        "library(mice)\n",
        "md.pattern(airquality)"
      ]
    },
    {
      "cell_type": "markdown",
      "source": [
        "**Interpretación:**\n",
        "\n",
        "* La columna \"Wind\" tiene datos completos en todos los patrones (todos los valores son 0), lo que significa que no faltan datos para esta variable en ningún registro.\n",
        "\n",
        "* La columna \"Temp\" también tiene datos completos en todos los patrones.\n",
        "\n",
        "* La columna \"Month\" tiene datos completos en todos los patrones.\n",
        "\n",
        "* La columna \"Day\" tiene datos completos en todos los patrones.\n",
        "\n",
        "* La columna \"Solar.R\" tiene valores faltantes en algunos patrones. En la última fila, todos los valores de \"Solar.R\" son 7, lo que significa que los valores de esta columna están presentes en todos los registros, excepto en el último.\n",
        "\n",
        "* La columna \"Ozone\" tiene valores faltantes en algunos patrones. En la última fila, todos los valores de \"Ozone\" son 37 y 44, lo que significa que los valores de esta columna están presentes en todos los registros, excepto en el último."
      ],
      "metadata": {
        "id": "i6Lf93MvsG85"
      },
      "id": "i6Lf93MvsG85"
    },
    {
      "cell_type": "markdown",
      "id": "a4f69c1c",
      "metadata": {
        "papermill": {
          "duration": 0.029262,
          "end_time": "2023-06-03T09:23:43.630903",
          "exception": false,
          "start_time": "2023-06-03T09:23:43.601641",
          "status": "completed"
        },
        "tags": [],
        "id": "a4f69c1c"
      },
      "source": [
        "## Primero determinamos si una columna en particular contiene NAs mediante \"is.na\""
      ]
    },
    {
      "cell_type": "code",
      "execution_count": 162,
      "id": "c05174c2",
      "metadata": {
        "execution": {
          "iopub.execute_input": "2023-06-03T09:23:43.754867Z",
          "iopub.status.busy": "2023-06-03T09:23:43.752976Z",
          "iopub.status.idle": "2023-06-03T09:23:43.778518Z",
          "shell.execute_reply": "2023-06-03T09:23:43.776292Z"
        },
        "papermill": {
          "duration": 0.121266,
          "end_time": "2023-06-03T09:23:43.781336",
          "exception": false,
          "start_time": "2023-06-03T09:23:43.660070",
          "status": "completed"
        },
        "tags": [],
        "id": "c05174c2",
        "colab": {
          "base_uri": "https://localhost:8080/",
          "height": 34
        },
        "outputId": "391bd942-f4c1-4a8e-89ea-20ef9c63abd9"
      },
      "outputs": [
        {
          "output_type": "display_data",
          "data": {
            "text/html": [
              "7"
            ],
            "text/markdown": "7",
            "text/latex": "7",
            "text/plain": [
              "[1] 7"
            ]
          },
          "metadata": {}
        }
      ],
      "source": [
        "sum(is.na(airquality$Solar.R))"
      ]
    },
    {
      "cell_type": "code",
      "source": [
        "sum(is.na(airquality$Ozone))"
      ],
      "metadata": {
        "colab": {
          "base_uri": "https://localhost:8080/",
          "height": 34
        },
        "id": "7PLFBpBI2aJX",
        "outputId": "48d7f499-1534-4837-d211-9fe1b4b58126"
      },
      "id": "7PLFBpBI2aJX",
      "execution_count": 163,
      "outputs": [
        {
          "output_type": "display_data",
          "data": {
            "text/html": [
              "37"
            ],
            "text/markdown": "37",
            "text/latex": "37",
            "text/plain": [
              "[1] 37"
            ]
          },
          "metadata": {}
        }
      ]
    },
    {
      "cell_type": "code",
      "source": [
        "sum(is.na(airquality$Wind))"
      ],
      "metadata": {
        "colab": {
          "base_uri": "https://localhost:8080/",
          "height": 34
        },
        "id": "aqef-yiU2jHU",
        "outputId": "a4789579-9ddf-46ea-f7f4-fdfa8b7bb722"
      },
      "id": "aqef-yiU2jHU",
      "execution_count": 164,
      "outputs": [
        {
          "output_type": "display_data",
          "data": {
            "text/html": [
              "0"
            ],
            "text/markdown": "0",
            "text/latex": "0",
            "text/plain": [
              "[1] 0"
            ]
          },
          "metadata": {}
        }
      ]
    },
    {
      "cell_type": "markdown",
      "id": "9cda2034",
      "metadata": {
        "papermill": {
          "duration": 0.029767,
          "end_time": "2023-06-03T09:23:43.842139",
          "exception": false,
          "start_time": "2023-06-03T09:23:43.812372",
          "status": "completed"
        },
        "tags": [],
        "id": "9cda2034"
      },
      "source": [
        "## Lo usual es verificar la existencia de casos donde existan valores ausentes. Si desea aplicar una función solamente con aquellos casos con todos sus valores existe la función **complete()**."
      ]
    },
    {
      "cell_type": "code",
      "execution_count": 165,
      "id": "496265e1",
      "metadata": {
        "execution": {
          "iopub.execute_input": "2023-06-03T09:23:43.906608Z",
          "iopub.status.busy": "2023-06-03T09:23:43.904589Z",
          "iopub.status.idle": "2023-06-03T09:23:43.985205Z",
          "shell.execute_reply": "2023-06-03T09:23:43.982805Z"
        },
        "papermill": {
          "duration": 0.116559,
          "end_time": "2023-06-03T09:23:43.988283",
          "exception": false,
          "start_time": "2023-06-03T09:23:43.871724",
          "status": "completed"
        },
        "tags": [],
        "id": "496265e1",
        "colab": {
          "base_uri": "https://localhost:8080/",
          "height": 1000
        },
        "outputId": "3aed44c9-d400-45e8-ee25-9a14d9f03d96"
      },
      "outputs": [
        {
          "output_type": "display_data",
          "data": {
            "text/html": [
              "<table class=\"dataframe\">\n",
              "<caption>A data.frame: 42 × 4</caption>\n",
              "<thead>\n",
              "\t<tr><th scope=col>Ozone</th><th scope=col>Solar.R</th><th scope=col>Wind</th><th scope=col>Temp</th></tr>\n",
              "\t<tr><th scope=col>&lt;int&gt;</th><th scope=col>&lt;int&gt;</th><th scope=col>&lt;dbl&gt;</th><th scope=col>&lt;int&gt;</th></tr>\n",
              "</thead>\n",
              "<tbody>\n",
              "\t<tr><td>NA</td><td> NA</td><td>14.3</td><td>56</td></tr>\n",
              "\t<tr><td>28</td><td> NA</td><td>14.9</td><td>66</td></tr>\n",
              "\t<tr><td>NA</td><td>194</td><td> 8.6</td><td>69</td></tr>\n",
              "\t<tr><td> 7</td><td> NA</td><td> 6.9</td><td>74</td></tr>\n",
              "\t<tr><td>NA</td><td> 66</td><td>16.6</td><td>57</td></tr>\n",
              "\t<tr><td>NA</td><td>266</td><td>14.9</td><td>58</td></tr>\n",
              "\t<tr><td>NA</td><td> NA</td><td> 8.0</td><td>57</td></tr>\n",
              "\t<tr><td>NA</td><td>286</td><td> 8.6</td><td>78</td></tr>\n",
              "\t<tr><td>NA</td><td>287</td><td> 9.7</td><td>74</td></tr>\n",
              "\t<tr><td>NA</td><td>242</td><td>16.1</td><td>67</td></tr>\n",
              "\t<tr><td>NA</td><td>186</td><td> 9.2</td><td>84</td></tr>\n",
              "\t<tr><td>NA</td><td>220</td><td> 8.6</td><td>85</td></tr>\n",
              "\t<tr><td>NA</td><td>264</td><td>14.3</td><td>79</td></tr>\n",
              "\t<tr><td>NA</td><td>273</td><td> 6.9</td><td>87</td></tr>\n",
              "\t<tr><td>NA</td><td>259</td><td>10.9</td><td>93</td></tr>\n",
              "\t<tr><td>NA</td><td>250</td><td> 9.2</td><td>92</td></tr>\n",
              "\t<tr><td>NA</td><td>332</td><td>13.8</td><td>80</td></tr>\n",
              "\t<tr><td>NA</td><td>322</td><td>11.5</td><td>79</td></tr>\n",
              "\t<tr><td>NA</td><td>150</td><td> 6.3</td><td>77</td></tr>\n",
              "\t<tr><td>NA</td><td> 59</td><td> 1.7</td><td>76</td></tr>\n",
              "\t<tr><td>NA</td><td> 91</td><td> 4.6</td><td>76</td></tr>\n",
              "\t<tr><td>NA</td><td>250</td><td> 6.3</td><td>76</td></tr>\n",
              "\t<tr><td>NA</td><td>135</td><td> 8.0</td><td>75</td></tr>\n",
              "\t<tr><td>NA</td><td>127</td><td> 8.0</td><td>78</td></tr>\n",
              "\t<tr><td>NA</td><td> 47</td><td>10.3</td><td>73</td></tr>\n",
              "\t<tr><td>NA</td><td> 98</td><td>11.5</td><td>80</td></tr>\n",
              "\t<tr><td>NA</td><td> 31</td><td>14.9</td><td>77</td></tr>\n",
              "\t<tr><td>NA</td><td>138</td><td> 8.0</td><td>83</td></tr>\n",
              "\t<tr><td>NA</td><td>101</td><td>10.9</td><td>84</td></tr>\n",
              "\t<tr><td>NA</td><td>139</td><td> 8.6</td><td>82</td></tr>\n",
              "\t<tr><td>NA</td><td>291</td><td>14.9</td><td>91</td></tr>\n",
              "\t<tr><td>NA</td><td>258</td><td> 9.7</td><td>81</td></tr>\n",
              "\t<tr><td>NA</td><td>295</td><td>11.5</td><td>82</td></tr>\n",
              "\t<tr><td>78</td><td> NA</td><td> 6.9</td><td>86</td></tr>\n",
              "\t<tr><td>35</td><td> NA</td><td> 7.4</td><td>85</td></tr>\n",
              "\t<tr><td>66</td><td> NA</td><td> 4.6</td><td>87</td></tr>\n",
              "\t<tr><td>NA</td><td>222</td><td> 8.6</td><td>92</td></tr>\n",
              "\t<tr><td>NA</td><td>137</td><td>11.5</td><td>86</td></tr>\n",
              "\t<tr><td>NA</td><td> 64</td><td>11.5</td><td>79</td></tr>\n",
              "\t<tr><td>NA</td><td>255</td><td>12.6</td><td>75</td></tr>\n",
              "\t<tr><td>NA</td><td>153</td><td> 5.7</td><td>88</td></tr>\n",
              "\t<tr><td>NA</td><td>145</td><td>13.2</td><td>77</td></tr>\n",
              "</tbody>\n",
              "</table>\n"
            ],
            "text/markdown": "\nA data.frame: 42 × 4\n\n| Ozone &lt;int&gt; | Solar.R &lt;int&gt; | Wind &lt;dbl&gt; | Temp &lt;int&gt; |\n|---|---|---|---|\n| NA |  NA | 14.3 | 56 |\n| 28 |  NA | 14.9 | 66 |\n| NA | 194 |  8.6 | 69 |\n|  7 |  NA |  6.9 | 74 |\n| NA |  66 | 16.6 | 57 |\n| NA | 266 | 14.9 | 58 |\n| NA |  NA |  8.0 | 57 |\n| NA | 286 |  8.6 | 78 |\n| NA | 287 |  9.7 | 74 |\n| NA | 242 | 16.1 | 67 |\n| NA | 186 |  9.2 | 84 |\n| NA | 220 |  8.6 | 85 |\n| NA | 264 | 14.3 | 79 |\n| NA | 273 |  6.9 | 87 |\n| NA | 259 | 10.9 | 93 |\n| NA | 250 |  9.2 | 92 |\n| NA | 332 | 13.8 | 80 |\n| NA | 322 | 11.5 | 79 |\n| NA | 150 |  6.3 | 77 |\n| NA |  59 |  1.7 | 76 |\n| NA |  91 |  4.6 | 76 |\n| NA | 250 |  6.3 | 76 |\n| NA | 135 |  8.0 | 75 |\n| NA | 127 |  8.0 | 78 |\n| NA |  47 | 10.3 | 73 |\n| NA |  98 | 11.5 | 80 |\n| NA |  31 | 14.9 | 77 |\n| NA | 138 |  8.0 | 83 |\n| NA | 101 | 10.9 | 84 |\n| NA | 139 |  8.6 | 82 |\n| NA | 291 | 14.9 | 91 |\n| NA | 258 |  9.7 | 81 |\n| NA | 295 | 11.5 | 82 |\n| 78 |  NA |  6.9 | 86 |\n| 35 |  NA |  7.4 | 85 |\n| 66 |  NA |  4.6 | 87 |\n| NA | 222 |  8.6 | 92 |\n| NA | 137 | 11.5 | 86 |\n| NA |  64 | 11.5 | 79 |\n| NA | 255 | 12.6 | 75 |\n| NA | 153 |  5.7 | 88 |\n| NA | 145 | 13.2 | 77 |\n\n",
            "text/latex": "A data.frame: 42 × 4\n\\begin{tabular}{llll}\n Ozone & Solar.R & Wind & Temp\\\\\n <int> & <int> & <dbl> & <int>\\\\\n\\hline\n\t NA &  NA & 14.3 & 56\\\\\n\t 28 &  NA & 14.9 & 66\\\\\n\t NA & 194 &  8.6 & 69\\\\\n\t  7 &  NA &  6.9 & 74\\\\\n\t NA &  66 & 16.6 & 57\\\\\n\t NA & 266 & 14.9 & 58\\\\\n\t NA &  NA &  8.0 & 57\\\\\n\t NA & 286 &  8.6 & 78\\\\\n\t NA & 287 &  9.7 & 74\\\\\n\t NA & 242 & 16.1 & 67\\\\\n\t NA & 186 &  9.2 & 84\\\\\n\t NA & 220 &  8.6 & 85\\\\\n\t NA & 264 & 14.3 & 79\\\\\n\t NA & 273 &  6.9 & 87\\\\\n\t NA & 259 & 10.9 & 93\\\\\n\t NA & 250 &  9.2 & 92\\\\\n\t NA & 332 & 13.8 & 80\\\\\n\t NA & 322 & 11.5 & 79\\\\\n\t NA & 150 &  6.3 & 77\\\\\n\t NA &  59 &  1.7 & 76\\\\\n\t NA &  91 &  4.6 & 76\\\\\n\t NA & 250 &  6.3 & 76\\\\\n\t NA & 135 &  8.0 & 75\\\\\n\t NA & 127 &  8.0 & 78\\\\\n\t NA &  47 & 10.3 & 73\\\\\n\t NA &  98 & 11.5 & 80\\\\\n\t NA &  31 & 14.9 & 77\\\\\n\t NA & 138 &  8.0 & 83\\\\\n\t NA & 101 & 10.9 & 84\\\\\n\t NA & 139 &  8.6 & 82\\\\\n\t NA & 291 & 14.9 & 91\\\\\n\t NA & 258 &  9.7 & 81\\\\\n\t NA & 295 & 11.5 & 82\\\\\n\t 78 &  NA &  6.9 & 86\\\\\n\t 35 &  NA &  7.4 & 85\\\\\n\t 66 &  NA &  4.6 & 87\\\\\n\t NA & 222 &  8.6 & 92\\\\\n\t NA & 137 & 11.5 & 86\\\\\n\t NA &  64 & 11.5 & 79\\\\\n\t NA & 255 & 12.6 & 75\\\\\n\t NA & 153 &  5.7 & 88\\\\\n\t NA & 145 & 13.2 & 77\\\\\n\\end{tabular}\n",
            "text/plain": [
              "   Ozone Solar.R Wind Temp\n",
              "1  NA     NA     14.3 56  \n",
              "2  28     NA     14.9 66  \n",
              "3  NA    194      8.6 69  \n",
              "4   7     NA      6.9 74  \n",
              "5  NA     66     16.6 57  \n",
              "6  NA    266     14.9 58  \n",
              "7  NA     NA      8.0 57  \n",
              "8  NA    286      8.6 78  \n",
              "9  NA    287      9.7 74  \n",
              "10 NA    242     16.1 67  \n",
              "11 NA    186      9.2 84  \n",
              "12 NA    220      8.6 85  \n",
              "13 NA    264     14.3 79  \n",
              "14 NA    273      6.9 87  \n",
              "15 NA    259     10.9 93  \n",
              "16 NA    250      9.2 92  \n",
              "17 NA    332     13.8 80  \n",
              "18 NA    322     11.5 79  \n",
              "19 NA    150      6.3 77  \n",
              "20 NA     59      1.7 76  \n",
              "21 NA     91      4.6 76  \n",
              "22 NA    250      6.3 76  \n",
              "23 NA    135      8.0 75  \n",
              "24 NA    127      8.0 78  \n",
              "25 NA     47     10.3 73  \n",
              "26 NA     98     11.5 80  \n",
              "27 NA     31     14.9 77  \n",
              "28 NA    138      8.0 83  \n",
              "29 NA    101     10.9 84  \n",
              "30 NA    139      8.6 82  \n",
              "31 NA    291     14.9 91  \n",
              "32 NA    258      9.7 81  \n",
              "33 NA    295     11.5 82  \n",
              "34 78     NA      6.9 86  \n",
              "35 35     NA      7.4 85  \n",
              "36 66     NA      4.6 87  \n",
              "37 NA    222      8.6 92  \n",
              "38 NA    137     11.5 86  \n",
              "39 NA     64     11.5 79  \n",
              "40 NA    255     12.6 75  \n",
              "41 NA    153      5.7 88  \n",
              "42 NA    145     13.2 77  "
            ]
          },
          "metadata": {}
        }
      ],
      "source": [
        "# mostrar solo aquellos registros que no estan completos (poseen algún valor ausente)\n",
        "# la columna Ozone posee NA's\n",
        "\n",
        "airquality %>%\n",
        "  select(Ozone, Solar.R, Wind, Temp) %>%\n",
        "  filter(!complete.cases(.))\n",
        "\n",
        "# En este ejemplo filter () sólo deja las filas que contienen NAs (elimina las otras)"
      ]
    },
    {
      "cell_type": "markdown",
      "id": "81017c3f",
      "metadata": {
        "papermill": {
          "duration": 0.030276,
          "end_time": "2023-06-03T09:23:44.050244",
          "exception": false,
          "start_time": "2023-06-03T09:23:44.019968",
          "status": "completed"
        },
        "tags": [],
        "id": "81017c3f"
      },
      "source": [
        "## El número de valores ausentes por cada variable es:"
      ]
    },
    {
      "cell_type": "code",
      "execution_count": 166,
      "id": "d7016610",
      "metadata": {
        "execution": {
          "iopub.execute_input": "2023-06-03T09:23:44.116546Z",
          "iopub.status.busy": "2023-06-03T09:23:44.114517Z",
          "iopub.status.idle": "2023-06-03T09:23:44.139398Z",
          "shell.execute_reply": "2023-06-03T09:23:44.136920Z"
        },
        "papermill": {
          "duration": 0.063285,
          "end_time": "2023-06-03T09:23:44.143407",
          "exception": false,
          "start_time": "2023-06-03T09:23:44.080122",
          "status": "completed"
        },
        "tags": [],
        "id": "d7016610",
        "colab": {
          "base_uri": "https://localhost:8080/",
          "height": 34
        },
        "outputId": "6702a098-7841-4b0d-cb18-97282288efb6"
      },
      "outputs": [
        {
          "output_type": "display_data",
          "data": {
            "text/html": [
              "<style>\n",
              ".dl-inline {width: auto; margin:0; padding: 0}\n",
              ".dl-inline>dt, .dl-inline>dd {float: none; width: auto; display: inline-block}\n",
              ".dl-inline>dt::after {content: \":\\0020\"; padding-right: .5ex}\n",
              ".dl-inline>dt:not(:first-of-type) {padding-left: .5ex}\n",
              "</style><dl class=dl-inline><dt>Ozone</dt><dd>37</dd><dt>Solar.R</dt><dd>7</dd><dt>Wind</dt><dd>0</dd><dt>Temp</dt><dd>0</dd><dt>Month</dt><dd>0</dd><dt>Day</dt><dd>0</dd></dl>\n"
            ],
            "text/markdown": "Ozone\n:   37Solar.R\n:   7Wind\n:   0Temp\n:   0Month\n:   0Day\n:   0\n\n",
            "text/latex": "\\begin{description*}\n\\item[Ozone] 37\n\\item[Solar.R] 7\n\\item[Wind] 0\n\\item[Temp] 0\n\\item[Month] 0\n\\item[Day] 0\n\\end{description*}\n",
            "text/plain": [
              "  Ozone Solar.R    Wind    Temp   Month     Day \n",
              "     37       7       0       0       0       0 "
            ]
          },
          "metadata": {}
        }
      ],
      "source": [
        "colSums(is.na(airquality))"
      ]
    },
    {
      "cell_type": "markdown",
      "id": "c68920de",
      "metadata": {
        "papermill": {
          "duration": 0.029266,
          "end_time": "2023-06-03T09:23:44.202157",
          "exception": false,
          "start_time": "2023-06-03T09:23:44.172891",
          "status": "completed"
        },
        "tags": [],
        "id": "c68920de"
      },
      "source": [
        "# Valoración de datos perdidos\n",
        "\n",
        "El umbral predeterminado para tolerar datos perdidos suele ser de un 5% para grandes volumenes de datos. Si el porcentaje es mucho mayor, tal vez se deba omitir esa propiedad, o en su defecto considerar realizar imputación de datos."
      ]
    },
    {
      "cell_type": "code",
      "execution_count": 167,
      "id": "33705fd7",
      "metadata": {
        "execution": {
          "iopub.execute_input": "2023-06-03T09:23:44.266950Z",
          "iopub.status.busy": "2023-06-03T09:23:44.264931Z",
          "iopub.status.idle": "2023-06-03T09:23:44.304258Z",
          "shell.execute_reply": "2023-06-03T09:23:44.301647Z"
        },
        "papermill": {
          "duration": 0.076359,
          "end_time": "2023-06-03T09:23:44.307811",
          "exception": false,
          "start_time": "2023-06-03T09:23:44.231452",
          "status": "completed"
        },
        "tags": [],
        "id": "33705fd7",
        "colab": {
          "base_uri": "https://localhost:8080/",
          "height": 34
        },
        "outputId": "5aed557d-c3c9-4241-cfce-6a094990c1ea"
      },
      "outputs": [
        {
          "output_type": "display_data",
          "data": {
            "text/html": [
              "<style>\n",
              ".dl-inline {width: auto; margin:0; padding: 0}\n",
              ".dl-inline>dt, .dl-inline>dd {float: none; width: auto; display: inline-block}\n",
              ".dl-inline>dt::after {content: \":\\0020\"; padding-right: .5ex}\n",
              ".dl-inline>dt:not(:first-of-type) {padding-left: .5ex}\n",
              "</style><dl class=dl-inline><dt>Ozone</dt><dd>24.1830065359477</dd><dt>Solar.R</dt><dd>4.57516339869281</dd><dt>Wind</dt><dd>0</dd><dt>Temp</dt><dd>0</dd><dt>Month</dt><dd>0</dd><dt>Day</dt><dd>0</dd></dl>\n"
            ],
            "text/markdown": "Ozone\n:   24.1830065359477Solar.R\n:   4.57516339869281Wind\n:   0Temp\n:   0Month\n:   0Day\n:   0\n\n",
            "text/latex": "\\begin{description*}\n\\item[Ozone] 24.1830065359477\n\\item[Solar.R] 4.57516339869281\n\\item[Wind] 0\n\\item[Temp] 0\n\\item[Month] 0\n\\item[Day] 0\n\\end{description*}\n",
            "text/plain": [
              "    Ozone   Solar.R      Wind      Temp     Month       Day \n",
              "24.183007  4.575163  0.000000  0.000000  0.000000  0.000000 "
            ]
          },
          "metadata": {}
        }
      ],
      "source": [
        "# determinación del porcentaje de valores perdidos respecto del total de datos para cada columna:\n",
        "\n",
        "porcentajeMiss <- function(x) {sum(is.na(x)) / length(x)*100}\n",
        "\n",
        "# por columnas:\n",
        "\n",
        "apply(airquality, 2, porcentajeMiss)"
      ]
    },
    {
      "cell_type": "markdown",
      "id": "9c915aef",
      "metadata": {
        "papermill": {
          "duration": 0.029438,
          "end_time": "2023-06-03T09:23:44.366612",
          "exception": false,
          "start_time": "2023-06-03T09:23:44.337174",
          "status": "completed"
        },
        "tags": [],
        "id": "9c915aef"
      },
      "source": [
        "La columna “Ozone” tiene cerca de un 25% de datos perdidos, por tanto no debería considerarse para mediciones futuras."
      ]
    },
    {
      "cell_type": "code",
      "execution_count": 168,
      "id": "d53bbfa1",
      "metadata": {
        "execution": {
          "iopub.execute_input": "2023-06-03T09:23:44.430125Z",
          "iopub.status.busy": "2023-06-03T09:23:44.428066Z",
          "iopub.status.idle": "2023-06-03T09:23:44.458110Z",
          "shell.execute_reply": "2023-06-03T09:23:44.455327Z"
        },
        "papermill": {
          "duration": 0.065688,
          "end_time": "2023-06-03T09:23:44.461553",
          "exception": false,
          "start_time": "2023-06-03T09:23:44.395865",
          "status": "completed"
        },
        "tags": [],
        "id": "d53bbfa1",
        "colab": {
          "base_uri": "https://localhost:8080/",
          "height": 139
        },
        "outputId": "81a1407c-acea-4338-fb27-36cd48a764b3"
      },
      "outputs": [
        {
          "output_type": "display_data",
          "data": {
            "text/html": [
              "<style>\n",
              ".list-inline {list-style: none; margin:0; padding: 0}\n",
              ".list-inline>li {display: inline-block}\n",
              ".list-inline>li:not(:last-child)::after {content: \"\\00b7\"; padding: 0 .5ex}\n",
              "</style>\n",
              "<ol class=list-inline><li>0</li><li>0</li><li>0</li><li>0</li><li>33.3333333333333</li><li>16.6666666666667</li><li>0</li><li>0</li><li>0</li><li>16.6666666666667</li><li>16.6666666666667</li><li>0</li><li>0</li><li>0</li><li>0</li><li>0</li><li>0</li><li>0</li><li>0</li><li>0</li><li>0</li><li>0</li><li>0</li><li>0</li><li>16.6666666666667</li><li>16.6666666666667</li><li>33.3333333333333</li><li>0</li><li>0</li><li>0</li><li>0</li><li>16.6666666666667</li><li>16.6666666666667</li><li>16.6666666666667</li><li>16.6666666666667</li><li>16.6666666666667</li><li>16.6666666666667</li><li>0</li><li>16.6666666666667</li><li>0</li><li>0</li><li>16.6666666666667</li><li>16.6666666666667</li><li>0</li><li>16.6666666666667</li><li>16.6666666666667</li><li>0</li><li>0</li><li>0</li><li>0</li><li>0</li><li>16.6666666666667</li><li>16.6666666666667</li><li>16.6666666666667</li><li>16.6666666666667</li><li>16.6666666666667</li><li>16.6666666666667</li><li>16.6666666666667</li><li>16.6666666666667</li><li>16.6666666666667</li><li>16.6666666666667</li><li>0</li><li>0</li><li>0</li><li>16.6666666666667</li><li>0</li><li>0</li><li>0</li><li>0</li><li>0</li><li>0</li><li>16.6666666666667</li><li>0</li><li>0</li><li>16.6666666666667</li><li>0</li><li>0</li><li>0</li><li>0</li><li>0</li><li>0</li><li>0</li><li>16.6666666666667</li><li>16.6666666666667</li><li>0</li><li>0</li><li>0</li><li>0</li><li>0</li><li>0</li><li>0</li><li>0</li><li>0</li><li>0</li><li>0</li><li>16.6666666666667</li><li>16.6666666666667</li><li>16.6666666666667</li><li>0</li><li>0</li><li>0</li><li>16.6666666666667</li><li>16.6666666666667</li><li>0</li><li>0</li><li>0</li><li>16.6666666666667</li><li>0</li><li>0</li><li>0</li><li>0</li><li>0</li><li>0</li><li>0</li><li>16.6666666666667</li><li>0</li><li>0</li><li>0</li><li>16.6666666666667</li><li>0</li><li>0</li><li>0</li><li>0</li><li>0</li><li>0</li><li>0</li><li>0</li><li>0</li><li>0</li><li>0</li><li>0</li><li>0</li><li>0</li><li>0</li><li>0</li><li>0</li><li>0</li><li>0</li><li>0</li><li>0</li><li>0</li><li>0</li><li>0</li><li>0</li><li>0</li><li>0</li><li>0</li><li>0</li><li>0</li><li>16.6666666666667</li><li>0</li><li>0</li><li>0</li></ol>\n"
            ],
            "text/markdown": "1. 0\n2. 0\n3. 0\n4. 0\n5. 33.3333333333333\n6. 16.6666666666667\n7. 0\n8. 0\n9. 0\n10. 16.6666666666667\n11. 16.6666666666667\n12. 0\n13. 0\n14. 0\n15. 0\n16. 0\n17. 0\n18. 0\n19. 0\n20. 0\n21. 0\n22. 0\n23. 0\n24. 0\n25. 16.6666666666667\n26. 16.6666666666667\n27. 33.3333333333333\n28. 0\n29. 0\n30. 0\n31. 0\n32. 16.6666666666667\n33. 16.6666666666667\n34. 16.6666666666667\n35. 16.6666666666667\n36. 16.6666666666667\n37. 16.6666666666667\n38. 0\n39. 16.6666666666667\n40. 0\n41. 0\n42. 16.6666666666667\n43. 16.6666666666667\n44. 0\n45. 16.6666666666667\n46. 16.6666666666667\n47. 0\n48. 0\n49. 0\n50. 0\n51. 0\n52. 16.6666666666667\n53. 16.6666666666667\n54. 16.6666666666667\n55. 16.6666666666667\n56. 16.6666666666667\n57. 16.6666666666667\n58. 16.6666666666667\n59. 16.6666666666667\n60. 16.6666666666667\n61. 16.6666666666667\n62. 0\n63. 0\n64. 0\n65. 16.6666666666667\n66. 0\n67. 0\n68. 0\n69. 0\n70. 0\n71. 0\n72. 16.6666666666667\n73. 0\n74. 0\n75. 16.6666666666667\n76. 0\n77. 0\n78. 0\n79. 0\n80. 0\n81. 0\n82. 0\n83. 16.6666666666667\n84. 16.6666666666667\n85. 0\n86. 0\n87. 0\n88. 0\n89. 0\n90. 0\n91. 0\n92. 0\n93. 0\n94. 0\n95. 0\n96. 16.6666666666667\n97. 16.6666666666667\n98. 16.6666666666667\n99. 0\n100. 0\n101. 0\n102. 16.6666666666667\n103. 16.6666666666667\n104. 0\n105. 0\n106. 0\n107. 16.6666666666667\n108. 0\n109. 0\n110. 0\n111. 0\n112. 0\n113. 0\n114. 0\n115. 16.6666666666667\n116. 0\n117. 0\n118. 0\n119. 16.6666666666667\n120. 0\n121. 0\n122. 0\n123. 0\n124. 0\n125. 0\n126. 0\n127. 0\n128. 0\n129. 0\n130. 0\n131. 0\n132. 0\n133. 0\n134. 0\n135. 0\n136. 0\n137. 0\n138. 0\n139. 0\n140. 0\n141. 0\n142. 0\n143. 0\n144. 0\n145. 0\n146. 0\n147. 0\n148. 0\n149. 0\n150. 16.6666666666667\n151. 0\n152. 0\n153. 0\n\n\n",
            "text/latex": "\\begin{enumerate*}\n\\item 0\n\\item 0\n\\item 0\n\\item 0\n\\item 33.3333333333333\n\\item 16.6666666666667\n\\item 0\n\\item 0\n\\item 0\n\\item 16.6666666666667\n\\item 16.6666666666667\n\\item 0\n\\item 0\n\\item 0\n\\item 0\n\\item 0\n\\item 0\n\\item 0\n\\item 0\n\\item 0\n\\item 0\n\\item 0\n\\item 0\n\\item 0\n\\item 16.6666666666667\n\\item 16.6666666666667\n\\item 33.3333333333333\n\\item 0\n\\item 0\n\\item 0\n\\item 0\n\\item 16.6666666666667\n\\item 16.6666666666667\n\\item 16.6666666666667\n\\item 16.6666666666667\n\\item 16.6666666666667\n\\item 16.6666666666667\n\\item 0\n\\item 16.6666666666667\n\\item 0\n\\item 0\n\\item 16.6666666666667\n\\item 16.6666666666667\n\\item 0\n\\item 16.6666666666667\n\\item 16.6666666666667\n\\item 0\n\\item 0\n\\item 0\n\\item 0\n\\item 0\n\\item 16.6666666666667\n\\item 16.6666666666667\n\\item 16.6666666666667\n\\item 16.6666666666667\n\\item 16.6666666666667\n\\item 16.6666666666667\n\\item 16.6666666666667\n\\item 16.6666666666667\n\\item 16.6666666666667\n\\item 16.6666666666667\n\\item 0\n\\item 0\n\\item 0\n\\item 16.6666666666667\n\\item 0\n\\item 0\n\\item 0\n\\item 0\n\\item 0\n\\item 0\n\\item 16.6666666666667\n\\item 0\n\\item 0\n\\item 16.6666666666667\n\\item 0\n\\item 0\n\\item 0\n\\item 0\n\\item 0\n\\item 0\n\\item 0\n\\item 16.6666666666667\n\\item 16.6666666666667\n\\item 0\n\\item 0\n\\item 0\n\\item 0\n\\item 0\n\\item 0\n\\item 0\n\\item 0\n\\item 0\n\\item 0\n\\item 0\n\\item 16.6666666666667\n\\item 16.6666666666667\n\\item 16.6666666666667\n\\item 0\n\\item 0\n\\item 0\n\\item 16.6666666666667\n\\item 16.6666666666667\n\\item 0\n\\item 0\n\\item 0\n\\item 16.6666666666667\n\\item 0\n\\item 0\n\\item 0\n\\item 0\n\\item 0\n\\item 0\n\\item 0\n\\item 16.6666666666667\n\\item 0\n\\item 0\n\\item 0\n\\item 16.6666666666667\n\\item 0\n\\item 0\n\\item 0\n\\item 0\n\\item 0\n\\item 0\n\\item 0\n\\item 0\n\\item 0\n\\item 0\n\\item 0\n\\item 0\n\\item 0\n\\item 0\n\\item 0\n\\item 0\n\\item 0\n\\item 0\n\\item 0\n\\item 0\n\\item 0\n\\item 0\n\\item 0\n\\item 0\n\\item 0\n\\item 0\n\\item 0\n\\item 0\n\\item 0\n\\item 0\n\\item 16.6666666666667\n\\item 0\n\\item 0\n\\item 0\n\\end{enumerate*}\n",
            "text/plain": [
              "  [1]  0.00000  0.00000  0.00000  0.00000 33.33333 16.66667  0.00000  0.00000\n",
              "  [9]  0.00000 16.66667 16.66667  0.00000  0.00000  0.00000  0.00000  0.00000\n",
              " [17]  0.00000  0.00000  0.00000  0.00000  0.00000  0.00000  0.00000  0.00000\n",
              " [25] 16.66667 16.66667 33.33333  0.00000  0.00000  0.00000  0.00000 16.66667\n",
              " [33] 16.66667 16.66667 16.66667 16.66667 16.66667  0.00000 16.66667  0.00000\n",
              " [41]  0.00000 16.66667 16.66667  0.00000 16.66667 16.66667  0.00000  0.00000\n",
              " [49]  0.00000  0.00000  0.00000 16.66667 16.66667 16.66667 16.66667 16.66667\n",
              " [57] 16.66667 16.66667 16.66667 16.66667 16.66667  0.00000  0.00000  0.00000\n",
              " [65] 16.66667  0.00000  0.00000  0.00000  0.00000  0.00000  0.00000 16.66667\n",
              " [73]  0.00000  0.00000 16.66667  0.00000  0.00000  0.00000  0.00000  0.00000\n",
              " [81]  0.00000  0.00000 16.66667 16.66667  0.00000  0.00000  0.00000  0.00000\n",
              " [89]  0.00000  0.00000  0.00000  0.00000  0.00000  0.00000  0.00000 16.66667\n",
              " [97] 16.66667 16.66667  0.00000  0.00000  0.00000 16.66667 16.66667  0.00000\n",
              "[105]  0.00000  0.00000 16.66667  0.00000  0.00000  0.00000  0.00000  0.00000\n",
              "[113]  0.00000  0.00000 16.66667  0.00000  0.00000  0.00000 16.66667  0.00000\n",
              "[121]  0.00000  0.00000  0.00000  0.00000  0.00000  0.00000  0.00000  0.00000\n",
              "[129]  0.00000  0.00000  0.00000  0.00000  0.00000  0.00000  0.00000  0.00000\n",
              "[137]  0.00000  0.00000  0.00000  0.00000  0.00000  0.00000  0.00000  0.00000\n",
              "[145]  0.00000  0.00000  0.00000  0.00000  0.00000 16.66667  0.00000  0.00000\n",
              "[153]  0.00000"
            ]
          },
          "metadata": {}
        }
      ],
      "source": [
        "# por filas:\n",
        "\n",
        "apply(airquality, 1, porcentajeMiss)"
      ]
    },
    {
      "cell_type": "markdown",
      "id": "e6208ffc",
      "metadata": {
        "papermill": {
          "duration": 0.029985,
          "end_time": "2023-06-03T09:23:44.521356",
          "exception": false,
          "start_time": "2023-06-03T09:23:44.491371",
          "status": "completed"
        },
        "tags": [],
        "id": "e6208ffc"
      },
      "source": [
        "# Determinar que valores deben ser cambiados por NA.\n",
        "No basta con la búsqueda de valores vacíos o nulos, que rápidamente se pueden detectar y cambiar por NA para ser incorporados dentro de las acciones de funciones (mediante omisión de valores NA).\n",
        "\n",
        "# ¿Cómo detectar qué valores no son correctos y por tanto deben ser cambiados/omitidos?\n",
        "\n",
        "La primera opción debiera ser revisar esos valores en detalle, lo que es posible solamente cuando tenemos tal vez unos cientos de valores únicos. Es extremadamente dificil y costoso cuando son miles de variantes."
      ]
    },
    {
      "cell_type": "code",
      "execution_count": 169,
      "id": "9cc73f87",
      "metadata": {
        "execution": {
          "iopub.execute_input": "2023-06-03T09:23:44.586543Z",
          "iopub.status.busy": "2023-06-03T09:23:44.584284Z",
          "iopub.status.idle": "2023-06-03T09:23:44.723629Z",
          "shell.execute_reply": "2023-06-03T09:23:44.720668Z"
        },
        "papermill": {
          "duration": 0.17574,
          "end_time": "2023-06-03T09:23:44.727420",
          "exception": false,
          "start_time": "2023-06-03T09:23:44.551680",
          "status": "completed"
        },
        "tags": [],
        "id": "9cc73f87",
        "colab": {
          "base_uri": "https://localhost:8080/",
          "height": 286
        },
        "outputId": "ae570776-ec21-449c-a490-6497010ee213"
      },
      "outputs": [
        {
          "output_type": "stream",
          "name": "stderr",
          "text": [
            "Warning message:\n",
            "“\u001b[1m\u001b[22m`funs()` was deprecated in dplyr 0.8.0.\n",
            "\u001b[36mℹ\u001b[39m Please use a list of either functions or lambdas:\n",
            "\n",
            "# Simple named list: list(mean = mean, median = median)\n",
            "\n",
            "# Auto named with `tibble::lst()`: tibble::lst(mean, median)\n",
            "\n",
            "# Using lambdas list(~ mean(., trim = .2), ~ median(., na.rm = TRUE))”\n"
          ]
        },
        {
          "output_type": "display_data",
          "data": {
            "text/html": [
              "<table class=\"dataframe\">\n",
              "<caption>A data.frame: 1 × 6</caption>\n",
              "<thead>\n",
              "\t<tr><th scope=col>Ozone</th><th scope=col>Solar.R</th><th scope=col>Wind</th><th scope=col>Temp</th><th scope=col>Month</th><th scope=col>Day</th></tr>\n",
              "\t<tr><th scope=col>&lt;int&gt;</th><th scope=col>&lt;int&gt;</th><th scope=col>&lt;int&gt;</th><th scope=col>&lt;int&gt;</th><th scope=col>&lt;int&gt;</th><th scope=col>&lt;int&gt;</th></tr>\n",
              "</thead>\n",
              "<tbody>\n",
              "\t<tr><td>68</td><td>118</td><td>31</td><td>40</td><td>5</td><td>31</td></tr>\n",
              "</tbody>\n",
              "</table>\n"
            ],
            "text/markdown": "\nA data.frame: 1 × 6\n\n| Ozone &lt;int&gt; | Solar.R &lt;int&gt; | Wind &lt;int&gt; | Temp &lt;int&gt; | Month &lt;int&gt; | Day &lt;int&gt; |\n|---|---|---|---|---|---|\n| 68 | 118 | 31 | 40 | 5 | 31 |\n\n",
            "text/latex": "A data.frame: 1 × 6\n\\begin{tabular}{llllll}\n Ozone & Solar.R & Wind & Temp & Month & Day\\\\\n <int> & <int> & <int> & <int> & <int> & <int>\\\\\n\\hline\n\t 68 & 118 & 31 & 40 & 5 & 31\\\\\n\\end{tabular}\n",
            "text/plain": [
              "  Ozone Solar.R Wind Temp Month Day\n",
              "1 68    118     31   40   5     31 "
            ]
          },
          "metadata": {}
        }
      ],
      "source": [
        "# contabilidad de datos únicos en cada columna\n",
        "\n",
        "airquality %>% summarise_all(funs(n_distinct(.)))"
      ]
    },
    {
      "cell_type": "markdown",
      "id": "3d59bf46",
      "metadata": {
        "papermill": {
          "duration": 0.03182,
          "end_time": "2023-06-03T09:23:44.791451",
          "exception": false,
          "start_time": "2023-06-03T09:23:44.759631",
          "status": "completed"
        },
        "tags": [],
        "id": "3d59bf46"
      },
      "source": [
        "# Determinar los valores existentes en cada columna del set de datos:"
      ]
    },
    {
      "cell_type": "code",
      "execution_count": 170,
      "id": "8bce5365",
      "metadata": {
        "execution": {
          "iopub.execute_input": "2023-06-03T09:23:44.860394Z",
          "iopub.status.busy": "2023-06-03T09:23:44.857758Z",
          "iopub.status.idle": "2023-06-03T09:23:44.902375Z",
          "shell.execute_reply": "2023-06-03T09:23:44.898907Z"
        },
        "papermill": {
          "duration": 0.083132,
          "end_time": "2023-06-03T09:23:44.906259",
          "exception": false,
          "start_time": "2023-06-03T09:23:44.823127",
          "status": "completed"
        },
        "tags": [],
        "id": "8bce5365",
        "colab": {
          "base_uri": "https://localhost:8080/",
          "height": 52
        },
        "outputId": "0f50eea4-5463-4d32-c7f8-0bd88bd36b72"
      },
      "outputs": [
        {
          "output_type": "display_data",
          "data": {
            "text/html": [
              "<style>\n",
              ".list-inline {list-style: none; margin:0; padding: 0}\n",
              ".list-inline>li {display: inline-block}\n",
              ".list-inline>li:not(:last-child)::after {content: \"\\00b7\"; padding: 0 .5ex}\n",
              "</style>\n",
              "<ol class=list-inline><li>41</li><li>36</li><li>12</li><li>18</li><li>&lt;NA&gt;</li><li>28</li><li>23</li><li>19</li><li>8</li><li>7</li><li>16</li><li>11</li><li>14</li><li>34</li><li>6</li><li>30</li><li>1</li><li>4</li><li>32</li><li>45</li><li>115</li><li>37</li><li>29</li><li>71</li><li>39</li><li>21</li><li>20</li><li>13</li><li>135</li><li>49</li><li>64</li><li>40</li><li>77</li><li>97</li><li>85</li><li>10</li><li>27</li><li>48</li><li>35</li><li>61</li><li>79</li><li>63</li><li>80</li><li>108</li><li>52</li><li>82</li><li>50</li><li>59</li><li>9</li><li>78</li><li>66</li><li>122</li><li>89</li><li>110</li><li>44</li><li>65</li><li>22</li><li>31</li><li>168</li><li>73</li><li>76</li><li>118</li><li>84</li><li>96</li><li>91</li><li>47</li><li>24</li><li>46</li></ol>\n"
            ],
            "text/markdown": "1. 41\n2. 36\n3. 12\n4. 18\n5. &lt;NA&gt;\n6. 28\n7. 23\n8. 19\n9. 8\n10. 7\n11. 16\n12. 11\n13. 14\n14. 34\n15. 6\n16. 30\n17. 1\n18. 4\n19. 32\n20. 45\n21. 115\n22. 37\n23. 29\n24. 71\n25. 39\n26. 21\n27. 20\n28. 13\n29. 135\n30. 49\n31. 64\n32. 40\n33. 77\n34. 97\n35. 85\n36. 10\n37. 27\n38. 48\n39. 35\n40. 61\n41. 79\n42. 63\n43. 80\n44. 108\n45. 52\n46. 82\n47. 50\n48. 59\n49. 9\n50. 78\n51. 66\n52. 122\n53. 89\n54. 110\n55. 44\n56. 65\n57. 22\n58. 31\n59. 168\n60. 73\n61. 76\n62. 118\n63. 84\n64. 96\n65. 91\n66. 47\n67. 24\n68. 46\n\n\n",
            "text/latex": "\\begin{enumerate*}\n\\item 41\n\\item 36\n\\item 12\n\\item 18\n\\item <NA>\n\\item 28\n\\item 23\n\\item 19\n\\item 8\n\\item 7\n\\item 16\n\\item 11\n\\item 14\n\\item 34\n\\item 6\n\\item 30\n\\item 1\n\\item 4\n\\item 32\n\\item 45\n\\item 115\n\\item 37\n\\item 29\n\\item 71\n\\item 39\n\\item 21\n\\item 20\n\\item 13\n\\item 135\n\\item 49\n\\item 64\n\\item 40\n\\item 77\n\\item 97\n\\item 85\n\\item 10\n\\item 27\n\\item 48\n\\item 35\n\\item 61\n\\item 79\n\\item 63\n\\item 80\n\\item 108\n\\item 52\n\\item 82\n\\item 50\n\\item 59\n\\item 9\n\\item 78\n\\item 66\n\\item 122\n\\item 89\n\\item 110\n\\item 44\n\\item 65\n\\item 22\n\\item 31\n\\item 168\n\\item 73\n\\item 76\n\\item 118\n\\item 84\n\\item 96\n\\item 91\n\\item 47\n\\item 24\n\\item 46\n\\end{enumerate*}\n",
            "text/plain": [
              " [1]  41  36  12  18  NA  28  23  19   8   7  16  11  14  34   6  30   1   4  32\n",
              "[20]  45 115  37  29  71  39  21  20  13 135  49  64  40  77  97  85  10  27  48\n",
              "[39]  35  61  79  63  80 108  52  82  50  59   9  78  66 122  89 110  44  65  22\n",
              "[58]  31 168  73  76 118  84  96  91  47  24  46"
            ]
          },
          "metadata": {}
        }
      ],
      "source": [
        "unique(airquality$Ozone)"
      ]
    },
    {
      "cell_type": "code",
      "execution_count": 171,
      "id": "fd3c4b55",
      "metadata": {
        "execution": {
          "iopub.execute_input": "2023-06-03T09:23:44.978622Z",
          "iopub.status.busy": "2023-06-03T09:23:44.974714Z",
          "iopub.status.idle": "2023-06-03T09:23:45.004084Z",
          "shell.execute_reply": "2023-06-03T09:23:45.001864Z"
        },
        "papermill": {
          "duration": 0.06862,
          "end_time": "2023-06-03T09:23:45.006981",
          "exception": false,
          "start_time": "2023-06-03T09:23:44.938361",
          "status": "completed"
        },
        "tags": [],
        "id": "fd3c4b55",
        "colab": {
          "base_uri": "https://localhost:8080/",
          "height": 34
        },
        "outputId": "0e256518-1407-4703-9089-353930eef4f1"
      },
      "outputs": [
        {
          "output_type": "display_data",
          "data": {
            "text/html": [
              "<style>\n",
              ".list-inline {list-style: none; margin:0; padding: 0}\n",
              ".list-inline>li {display: inline-block}\n",
              ".list-inline>li:not(:last-child)::after {content: \"\\00b7\"; padding: 0 .5ex}\n",
              "</style>\n",
              "<ol class=list-inline><li>7.4</li><li>8</li><li>12.6</li><li>11.5</li><li>14.3</li><li>14.9</li><li>8.6</li><li>13.8</li><li>20.1</li><li>6.9</li><li>9.7</li><li>9.2</li><li>10.9</li><li>13.2</li><li>12</li><li>18.4</li><li>16.6</li><li>5.7</li><li>16.1</li><li>20.7</li><li>10.3</li><li>6.3</li><li>1.7</li><li>4.6</li><li>4.1</li><li>5.1</li><li>4</li><li>15.5</li><li>3.4</li><li>2.3</li><li>2.8</li></ol>\n"
            ],
            "text/markdown": "1. 7.4\n2. 8\n3. 12.6\n4. 11.5\n5. 14.3\n6. 14.9\n7. 8.6\n8. 13.8\n9. 20.1\n10. 6.9\n11. 9.7\n12. 9.2\n13. 10.9\n14. 13.2\n15. 12\n16. 18.4\n17. 16.6\n18. 5.7\n19. 16.1\n20. 20.7\n21. 10.3\n22. 6.3\n23. 1.7\n24. 4.6\n25. 4.1\n26. 5.1\n27. 4\n28. 15.5\n29. 3.4\n30. 2.3\n31. 2.8\n\n\n",
            "text/latex": "\\begin{enumerate*}\n\\item 7.4\n\\item 8\n\\item 12.6\n\\item 11.5\n\\item 14.3\n\\item 14.9\n\\item 8.6\n\\item 13.8\n\\item 20.1\n\\item 6.9\n\\item 9.7\n\\item 9.2\n\\item 10.9\n\\item 13.2\n\\item 12\n\\item 18.4\n\\item 16.6\n\\item 5.7\n\\item 16.1\n\\item 20.7\n\\item 10.3\n\\item 6.3\n\\item 1.7\n\\item 4.6\n\\item 4.1\n\\item 5.1\n\\item 4\n\\item 15.5\n\\item 3.4\n\\item 2.3\n\\item 2.8\n\\end{enumerate*}\n",
            "text/plain": [
              " [1]  7.4  8.0 12.6 11.5 14.3 14.9  8.6 13.8 20.1  6.9  9.7  9.2 10.9 13.2 12.0\n",
              "[16] 18.4 16.6  5.7 16.1 20.7 10.3  6.3  1.7  4.6  4.1  5.1  4.0 15.5  3.4  2.3\n",
              "[31]  2.8"
            ]
          },
          "metadata": {}
        }
      ],
      "source": [
        "unique(airquality$Wind)"
      ]
    },
    {
      "cell_type": "markdown",
      "id": "0f09da36",
      "metadata": {
        "papermill": {
          "duration": 0.032387,
          "end_time": "2023-06-03T09:23:45.072314",
          "exception": false,
          "start_time": "2023-06-03T09:23:45.039927",
          "status": "completed"
        },
        "tags": [],
        "id": "0f09da36"
      },
      "source": [
        "# Reemplazar valores nulos u otros a “NA”\n",
        "\n",
        "En muchas ocasiones tendremos en lugar de valores normales NA, valores vacíos del tipo \"\" o de otro tipo indicando errores. Para tratarlos correctamente en R deben ser cambiados a NA, que si es reconocido como un valor."
      ]
    },
    {
      "cell_type": "code",
      "execution_count": 172,
      "id": "4d863fcb",
      "metadata": {
        "execution": {
          "iopub.execute_input": "2023-06-03T09:23:45.142736Z",
          "iopub.status.busy": "2023-06-03T09:23:45.140594Z",
          "iopub.status.idle": "2023-06-03T09:23:45.169154Z",
          "shell.execute_reply": "2023-06-03T09:23:45.166526Z"
        },
        "papermill": {
          "duration": 0.067874,
          "end_time": "2023-06-03T09:23:45.172293",
          "exception": false,
          "start_time": "2023-06-03T09:23:45.104419",
          "status": "completed"
        },
        "tags": [],
        "id": "4d863fcb"
      },
      "outputs": [],
      "source": [
        "# modifica aquellos valores vacíos por NA.\n",
        "airquality$Ozone[airquality$Ozone == \"\"] <- NA\n",
        "\n",
        "airquality$Ozone[airquality$Ozone == 0] <- NA\n",
        "\n",
        "# modifica una columna de factores para agregar un NA\n",
        "# pacientes$sexo <- factor(pacientes$sexo, levels = c(\"M\", \"F\", NA))"
      ]
    },
    {
      "cell_type": "markdown",
      "id": "d4b2ee94",
      "metadata": {
        "papermill": {
          "duration": 0.032578,
          "end_time": "2023-06-03T09:23:45.238610",
          "exception": false,
          "start_time": "2023-06-03T09:23:45.206032",
          "status": "completed"
        },
        "tags": [],
        "id": "d4b2ee94"
      },
      "source": [
        "# Reemplazar los valores ausentes por otro valor:"
      ]
    },
    {
      "cell_type": "code",
      "execution_count": 173,
      "id": "06651306",
      "metadata": {
        "execution": {
          "iopub.execute_input": "2023-06-03T09:23:45.309062Z",
          "iopub.status.busy": "2023-06-03T09:23:45.306961Z",
          "iopub.status.idle": "2023-06-03T09:23:45.324944Z",
          "shell.execute_reply": "2023-06-03T09:23:45.322531Z"
        },
        "papermill": {
          "duration": 0.056911,
          "end_time": "2023-06-03T09:23:45.328887",
          "exception": false,
          "start_time": "2023-06-03T09:23:45.271976",
          "status": "completed"
        },
        "tags": [],
        "id": "06651306"
      },
      "outputs": [],
      "source": [
        "# datos <- read.csv(file=\"\",\n",
        "#          sep = \",\", dec = \".\",\n",
        "#          na.strings = \"\")\n",
        "\n",
        "# esto reemplazará los espacios en blancos por 'NA'"
      ]
    },
    {
      "cell_type": "code",
      "execution_count": 174,
      "id": "58ec36a9",
      "metadata": {
        "execution": {
          "iopub.execute_input": "2023-06-03T09:23:45.399159Z",
          "iopub.status.busy": "2023-06-03T09:23:45.396793Z",
          "iopub.status.idle": "2023-06-03T09:23:45.416356Z",
          "shell.execute_reply": "2023-06-03T09:23:45.413764Z"
        },
        "papermill": {
          "duration": 0.058963,
          "end_time": "2023-06-03T09:23:45.419808",
          "exception": false,
          "start_time": "2023-06-03T09:23:45.360845",
          "status": "completed"
        },
        "tags": [],
        "id": "58ec36a9"
      },
      "outputs": [],
      "source": [
        "# altera los valores NA y los cambia por \"0\"\n",
        "\n",
        "# airquality %>%\n",
        "  # select(Ozone, Wind, Temp) %>%\n",
        "  # \"replace_na\"  reemplaza los NA por \"0\" en Ozone\n",
        "  # mutate(Ozone = replace_na(Ozone, \"0\")) %>%\n",
        "  # no contabiliza los NA en columna Ozone, pero como se modificaron por \"0\", mostrará todos los registros (153)\n",
        "  # drop_na(Ozone)"
      ]
    },
    {
      "cell_type": "markdown",
      "id": "717c614b",
      "metadata": {
        "papermill": {
          "duration": 0.032539,
          "end_time": "2023-06-03T09:23:45.486394",
          "exception": false,
          "start_time": "2023-06-03T09:23:45.453855",
          "status": "completed"
        },
        "tags": [],
        "id": "717c614b"
      },
      "source": [
        "# Tambien se puede buscar valores vacíos con is.empty()\n",
        "\n",
        "Reemplazar ciertos valores (“0” en este caso) por NA es relevante para detectar valores sin sentido."
      ]
    },
    {
      "cell_type": "code",
      "execution_count": 175,
      "id": "ef85e167",
      "metadata": {
        "execution": {
          "iopub.execute_input": "2023-06-03T09:23:45.556083Z",
          "iopub.status.busy": "2023-06-03T09:23:45.553940Z",
          "iopub.status.idle": "2023-06-03T09:23:45.632543Z",
          "shell.execute_reply": "2023-06-03T09:23:45.630000Z"
        },
        "papermill": {
          "duration": 0.117624,
          "end_time": "2023-06-03T09:23:45.636027",
          "exception": false,
          "start_time": "2023-06-03T09:23:45.518403",
          "status": "completed"
        },
        "tags": [],
        "id": "ef85e167",
        "colab": {
          "base_uri": "https://localhost:8080/",
          "height": 1000
        },
        "outputId": "bf463d6a-09c4-452b-aa1f-2238d4360cba"
      },
      "outputs": [
        {
          "output_type": "display_data",
          "data": {
            "text/plain": [
              "   Ozone Wind Temp Solar.R\n",
              "1  NA    14.3 56    NA    \n",
              "2  NA     8.6 69   194    \n",
              "3  NA    16.6 57    66    \n",
              "4  NA    14.9 58   266    \n",
              "5  NA     8.0 57    NA    \n",
              "6  NA     8.6 78   286    \n",
              "7  NA     9.7 74   287    \n",
              "8  NA    16.1 67   242    \n",
              "9  NA     9.2 84   186    \n",
              "10 NA     8.6 85   220    \n",
              "11 NA    14.3 79   264    \n",
              "12 NA     6.9 87   273    \n",
              "13 NA    10.9 93   259    \n",
              "14 NA     9.2 92   250    \n",
              "15 NA    13.8 80   332    \n",
              "16 NA    11.5 79   322    \n",
              "17 NA     6.3 77   150    \n",
              "18 NA     1.7 76    59    \n",
              "19 NA     4.6 76    91    \n",
              "20 NA     6.3 76   250    \n",
              "21 NA     8.0 75   135    \n",
              "22 NA     8.0 78   127    \n",
              "23 NA    10.3 73    47    \n",
              "24 NA    11.5 80    98    \n",
              "25 NA    14.9 77    31    \n",
              "26 NA     8.0 83   138    \n",
              "27 NA    10.9 84   101    \n",
              "28 NA     8.6 82   139    \n",
              "29 NA    14.9 91   291    \n",
              "30 NA     9.7 81   258    \n",
              "31 NA    11.5 82   295    \n",
              "32 NA     8.6 92   222    \n",
              "33 NA    11.5 86   137    \n",
              "34 NA    11.5 79    64    \n",
              "35 NA    12.6 75   255    \n",
              "36 NA     5.7 88   153    \n",
              "37 NA    13.2 77   145    "
            ],
            "text/html": [
              "<table class=\"dataframe\">\n",
              "<caption>A data.frame: 37 × 4</caption>\n",
              "<thead>\n",
              "\t<tr><th scope=col>Ozone</th><th scope=col>Wind</th><th scope=col>Temp</th><th scope=col>Solar.R</th></tr>\n",
              "\t<tr><th scope=col>&lt;int&gt;</th><th scope=col>&lt;dbl&gt;</th><th scope=col>&lt;int&gt;</th><th scope=col>&lt;int&gt;</th></tr>\n",
              "</thead>\n",
              "<tbody>\n",
              "\t<tr><td>NA</td><td>14.3</td><td>56</td><td> NA</td></tr>\n",
              "\t<tr><td>NA</td><td> 8.6</td><td>69</td><td>194</td></tr>\n",
              "\t<tr><td>NA</td><td>16.6</td><td>57</td><td> 66</td></tr>\n",
              "\t<tr><td>NA</td><td>14.9</td><td>58</td><td>266</td></tr>\n",
              "\t<tr><td>NA</td><td> 8.0</td><td>57</td><td> NA</td></tr>\n",
              "\t<tr><td>NA</td><td> 8.6</td><td>78</td><td>286</td></tr>\n",
              "\t<tr><td>NA</td><td> 9.7</td><td>74</td><td>287</td></tr>\n",
              "\t<tr><td>NA</td><td>16.1</td><td>67</td><td>242</td></tr>\n",
              "\t<tr><td>NA</td><td> 9.2</td><td>84</td><td>186</td></tr>\n",
              "\t<tr><td>NA</td><td> 8.6</td><td>85</td><td>220</td></tr>\n",
              "\t<tr><td>NA</td><td>14.3</td><td>79</td><td>264</td></tr>\n",
              "\t<tr><td>NA</td><td> 6.9</td><td>87</td><td>273</td></tr>\n",
              "\t<tr><td>NA</td><td>10.9</td><td>93</td><td>259</td></tr>\n",
              "\t<tr><td>NA</td><td> 9.2</td><td>92</td><td>250</td></tr>\n",
              "\t<tr><td>NA</td><td>13.8</td><td>80</td><td>332</td></tr>\n",
              "\t<tr><td>NA</td><td>11.5</td><td>79</td><td>322</td></tr>\n",
              "\t<tr><td>NA</td><td> 6.3</td><td>77</td><td>150</td></tr>\n",
              "\t<tr><td>NA</td><td> 1.7</td><td>76</td><td> 59</td></tr>\n",
              "\t<tr><td>NA</td><td> 4.6</td><td>76</td><td> 91</td></tr>\n",
              "\t<tr><td>NA</td><td> 6.3</td><td>76</td><td>250</td></tr>\n",
              "\t<tr><td>NA</td><td> 8.0</td><td>75</td><td>135</td></tr>\n",
              "\t<tr><td>NA</td><td> 8.0</td><td>78</td><td>127</td></tr>\n",
              "\t<tr><td>NA</td><td>10.3</td><td>73</td><td> 47</td></tr>\n",
              "\t<tr><td>NA</td><td>11.5</td><td>80</td><td> 98</td></tr>\n",
              "\t<tr><td>NA</td><td>14.9</td><td>77</td><td> 31</td></tr>\n",
              "\t<tr><td>NA</td><td> 8.0</td><td>83</td><td>138</td></tr>\n",
              "\t<tr><td>NA</td><td>10.9</td><td>84</td><td>101</td></tr>\n",
              "\t<tr><td>NA</td><td> 8.6</td><td>82</td><td>139</td></tr>\n",
              "\t<tr><td>NA</td><td>14.9</td><td>91</td><td>291</td></tr>\n",
              "\t<tr><td>NA</td><td> 9.7</td><td>81</td><td>258</td></tr>\n",
              "\t<tr><td>NA</td><td>11.5</td><td>82</td><td>295</td></tr>\n",
              "\t<tr><td>NA</td><td> 8.6</td><td>92</td><td>222</td></tr>\n",
              "\t<tr><td>NA</td><td>11.5</td><td>86</td><td>137</td></tr>\n",
              "\t<tr><td>NA</td><td>11.5</td><td>79</td><td> 64</td></tr>\n",
              "\t<tr><td>NA</td><td>12.6</td><td>75</td><td>255</td></tr>\n",
              "\t<tr><td>NA</td><td> 5.7</td><td>88</td><td>153</td></tr>\n",
              "\t<tr><td>NA</td><td>13.2</td><td>77</td><td>145</td></tr>\n",
              "</tbody>\n",
              "</table>\n"
            ],
            "text/markdown": "\nA data.frame: 37 × 4\n\n| Ozone &lt;int&gt; | Wind &lt;dbl&gt; | Temp &lt;int&gt; | Solar.R &lt;int&gt; |\n|---|---|---|---|\n| NA | 14.3 | 56 |  NA |\n| NA |  8.6 | 69 | 194 |\n| NA | 16.6 | 57 |  66 |\n| NA | 14.9 | 58 | 266 |\n| NA |  8.0 | 57 |  NA |\n| NA |  8.6 | 78 | 286 |\n| NA |  9.7 | 74 | 287 |\n| NA | 16.1 | 67 | 242 |\n| NA |  9.2 | 84 | 186 |\n| NA |  8.6 | 85 | 220 |\n| NA | 14.3 | 79 | 264 |\n| NA |  6.9 | 87 | 273 |\n| NA | 10.9 | 93 | 259 |\n| NA |  9.2 | 92 | 250 |\n| NA | 13.8 | 80 | 332 |\n| NA | 11.5 | 79 | 322 |\n| NA |  6.3 | 77 | 150 |\n| NA |  1.7 | 76 |  59 |\n| NA |  4.6 | 76 |  91 |\n| NA |  6.3 | 76 | 250 |\n| NA |  8.0 | 75 | 135 |\n| NA |  8.0 | 78 | 127 |\n| NA | 10.3 | 73 |  47 |\n| NA | 11.5 | 80 |  98 |\n| NA | 14.9 | 77 |  31 |\n| NA |  8.0 | 83 | 138 |\n| NA | 10.9 | 84 | 101 |\n| NA |  8.6 | 82 | 139 |\n| NA | 14.9 | 91 | 291 |\n| NA |  9.7 | 81 | 258 |\n| NA | 11.5 | 82 | 295 |\n| NA |  8.6 | 92 | 222 |\n| NA | 11.5 | 86 | 137 |\n| NA | 11.5 | 79 |  64 |\n| NA | 12.6 | 75 | 255 |\n| NA |  5.7 | 88 | 153 |\n| NA | 13.2 | 77 | 145 |\n\n",
            "text/latex": "A data.frame: 37 × 4\n\\begin{tabular}{llll}\n Ozone & Wind & Temp & Solar.R\\\\\n <int> & <dbl> & <int> & <int>\\\\\n\\hline\n\t NA & 14.3 & 56 &  NA\\\\\n\t NA &  8.6 & 69 & 194\\\\\n\t NA & 16.6 & 57 &  66\\\\\n\t NA & 14.9 & 58 & 266\\\\\n\t NA &  8.0 & 57 &  NA\\\\\n\t NA &  8.6 & 78 & 286\\\\\n\t NA &  9.7 & 74 & 287\\\\\n\t NA & 16.1 & 67 & 242\\\\\n\t NA &  9.2 & 84 & 186\\\\\n\t NA &  8.6 & 85 & 220\\\\\n\t NA & 14.3 & 79 & 264\\\\\n\t NA &  6.9 & 87 & 273\\\\\n\t NA & 10.9 & 93 & 259\\\\\n\t NA &  9.2 & 92 & 250\\\\\n\t NA & 13.8 & 80 & 332\\\\\n\t NA & 11.5 & 79 & 322\\\\\n\t NA &  6.3 & 77 & 150\\\\\n\t NA &  1.7 & 76 &  59\\\\\n\t NA &  4.6 & 76 &  91\\\\\n\t NA &  6.3 & 76 & 250\\\\\n\t NA &  8.0 & 75 & 135\\\\\n\t NA &  8.0 & 78 & 127\\\\\n\t NA & 10.3 & 73 &  47\\\\\n\t NA & 11.5 & 80 &  98\\\\\n\t NA & 14.9 & 77 &  31\\\\\n\t NA &  8.0 & 83 & 138\\\\\n\t NA & 10.9 & 84 & 101\\\\\n\t NA &  8.6 & 82 & 139\\\\\n\t NA & 14.9 & 91 & 291\\\\\n\t NA &  9.7 & 81 & 258\\\\\n\t NA & 11.5 & 82 & 295\\\\\n\t NA &  8.6 & 92 & 222\\\\\n\t NA & 11.5 & 86 & 137\\\\\n\t NA & 11.5 & 79 &  64\\\\\n\t NA & 12.6 & 75 & 255\\\\\n\t NA &  5.7 & 88 & 153\\\\\n\t NA & 13.2 & 77 & 145\\\\\n\\end{tabular}\n"
          },
          "metadata": {}
        }
      ],
      "source": [
        "# Reemplaza los valores \"0\" en Ozone por NA.\n",
        "airquality %>%\n",
        "  select(Ozone, Wind, Temp, Solar.R) %>%\n",
        "  # efectua el reemplazo de los valores '0' por NA\n",
        "  mutate(Ozone = na_if(Ozone, 0)) %>%\n",
        "  # filtrar para mostrar solamente los que posean valor NA en Ozone\n",
        "  filter(is.na(Ozone)) %>%\n",
        "  View() # cambiar por: head()"
      ]
    },
    {
      "cell_type": "markdown",
      "id": "e4aad4ad",
      "metadata": {
        "papermill": {
          "duration": 0.032757,
          "end_time": "2023-06-03T09:23:45.702859",
          "exception": false,
          "start_time": "2023-06-03T09:23:45.670102",
          "status": "completed"
        },
        "tags": [],
        "id": "e4aad4ad"
      },
      "source": [
        "# Trabajar con funciones que permiten omitir valores NA."
      ]
    },
    {
      "cell_type": "code",
      "execution_count": 176,
      "id": "26aec064",
      "metadata": {
        "execution": {
          "iopub.execute_input": "2023-06-03T09:23:45.774163Z",
          "iopub.status.busy": "2023-06-03T09:23:45.771493Z",
          "iopub.status.idle": "2023-06-03T09:23:45.804739Z",
          "shell.execute_reply": "2023-06-03T09:23:45.802110Z"
        },
        "papermill": {
          "duration": 0.073423,
          "end_time": "2023-06-03T09:23:45.808833",
          "exception": false,
          "start_time": "2023-06-03T09:23:45.735410",
          "status": "completed"
        },
        "tags": [],
        "id": "26aec064",
        "colab": {
          "base_uri": "https://localhost:8080/",
          "height": 34
        },
        "outputId": "e0cb2150-34e9-43d5-e738-146a71ab4cd0"
      },
      "outputs": [
        {
          "output_type": "display_data",
          "data": {
            "text/html": [
              "&lt;NA&gt;"
            ],
            "text/markdown": "&lt;NA&gt;",
            "text/latex": "<NA>",
            "text/plain": [
              "[1] NA"
            ]
          },
          "metadata": {}
        }
      ],
      "source": [
        "# incidencia de valores NA en el cálculo de algunas funciones.\n",
        "# la primera indicará un error por contener valores NA\n",
        "\n",
        "mean(airquality$Ozone)"
      ]
    },
    {
      "cell_type": "code",
      "execution_count": 177,
      "id": "1516af51",
      "metadata": {
        "execution": {
          "iopub.execute_input": "2023-06-03T09:23:45.880650Z",
          "iopub.status.busy": "2023-06-03T09:23:45.878423Z",
          "iopub.status.idle": "2023-06-03T09:23:45.906411Z",
          "shell.execute_reply": "2023-06-03T09:23:45.903966Z"
        },
        "papermill": {
          "duration": 0.06758,
          "end_time": "2023-06-03T09:23:45.909451",
          "exception": false,
          "start_time": "2023-06-03T09:23:45.841871",
          "status": "completed"
        },
        "tags": [],
        "id": "1516af51",
        "colab": {
          "base_uri": "https://localhost:8080/",
          "height": 34
        },
        "outputId": "93e97a78-8a44-4c54-fa34-b9a427e20abb"
      },
      "outputs": [
        {
          "output_type": "display_data",
          "data": {
            "text/html": [
              "42.1293103448276"
            ],
            "text/markdown": "42.1293103448276",
            "text/latex": "42.1293103448276",
            "text/plain": [
              "[1] 42.12931"
            ]
          },
          "metadata": {}
        }
      ],
      "source": [
        "# al omitir los valores NA presentará el valor correcto\n",
        "\n",
        "mean(airquality$Ozone, na.rm = TRUE)"
      ]
    },
    {
      "cell_type": "markdown",
      "id": "5014928d",
      "metadata": {
        "papermill": {
          "duration": 0.033808,
          "end_time": "2023-06-03T09:23:45.976367",
          "exception": false,
          "start_time": "2023-06-03T09:23:45.942559",
          "status": "completed"
        },
        "tags": [],
        "id": "5014928d"
      },
      "source": [
        "# **is.na()**\n",
        "Es la función más sencilla para evaluar los valores ausentes, ya que presenta un valor lógico de TRUE si existe un valor ausente en una fila (funciona en vector, lista, matrices y data frame)."
      ]
    },
    {
      "cell_type": "code",
      "execution_count": 178,
      "id": "9391d0af",
      "metadata": {
        "execution": {
          "iopub.execute_input": "2023-06-03T09:23:46.048369Z",
          "iopub.status.busy": "2023-06-03T09:23:46.046144Z",
          "iopub.status.idle": "2023-06-03T09:23:46.079966Z",
          "shell.execute_reply": "2023-06-03T09:23:46.077430Z"
        },
        "papermill": {
          "duration": 0.073872,
          "end_time": "2023-06-03T09:23:46.083466",
          "exception": false,
          "start_time": "2023-06-03T09:23:46.009594",
          "status": "completed"
        },
        "tags": [],
        "id": "9391d0af",
        "colab": {
          "base_uri": "https://localhost:8080/",
          "height": 255
        },
        "outputId": "8dd48aff-ee2a-44af-ffcd-b35868153736"
      },
      "outputs": [
        {
          "output_type": "display_data",
          "data": {
            "text/html": [
              "<table class=\"dataframe\">\n",
              "<caption>A matrix: 6 × 6 of type lgl</caption>\n",
              "<thead>\n",
              "\t<tr><th scope=col>Ozone</th><th scope=col>Solar.R</th><th scope=col>Wind</th><th scope=col>Temp</th><th scope=col>Month</th><th scope=col>Day</th></tr>\n",
              "</thead>\n",
              "<tbody>\n",
              "\t<tr><td>FALSE</td><td>FALSE</td><td>FALSE</td><td>FALSE</td><td>FALSE</td><td>FALSE</td></tr>\n",
              "\t<tr><td>FALSE</td><td>FALSE</td><td>FALSE</td><td>FALSE</td><td>FALSE</td><td>FALSE</td></tr>\n",
              "\t<tr><td>FALSE</td><td>FALSE</td><td>FALSE</td><td>FALSE</td><td>FALSE</td><td>FALSE</td></tr>\n",
              "\t<tr><td>FALSE</td><td>FALSE</td><td>FALSE</td><td>FALSE</td><td>FALSE</td><td>FALSE</td></tr>\n",
              "\t<tr><td> TRUE</td><td> TRUE</td><td>FALSE</td><td>FALSE</td><td>FALSE</td><td>FALSE</td></tr>\n",
              "\t<tr><td>FALSE</td><td> TRUE</td><td>FALSE</td><td>FALSE</td><td>FALSE</td><td>FALSE</td></tr>\n",
              "</tbody>\n",
              "</table>\n"
            ],
            "text/markdown": "\nA matrix: 6 × 6 of type lgl\n\n| Ozone | Solar.R | Wind | Temp | Month | Day |\n|---|---|---|---|---|---|\n| FALSE | FALSE | FALSE | FALSE | FALSE | FALSE |\n| FALSE | FALSE | FALSE | FALSE | FALSE | FALSE |\n| FALSE | FALSE | FALSE | FALSE | FALSE | FALSE |\n| FALSE | FALSE | FALSE | FALSE | FALSE | FALSE |\n|  TRUE |  TRUE | FALSE | FALSE | FALSE | FALSE |\n| FALSE |  TRUE | FALSE | FALSE | FALSE | FALSE |\n\n",
            "text/latex": "A matrix: 6 × 6 of type lgl\n\\begin{tabular}{llllll}\n Ozone & Solar.R & Wind & Temp & Month & Day\\\\\n\\hline\n\t FALSE & FALSE & FALSE & FALSE & FALSE & FALSE\\\\\n\t FALSE & FALSE & FALSE & FALSE & FALSE & FALSE\\\\\n\t FALSE & FALSE & FALSE & FALSE & FALSE & FALSE\\\\\n\t FALSE & FALSE & FALSE & FALSE & FALSE & FALSE\\\\\n\t  TRUE &  TRUE & FALSE & FALSE & FALSE & FALSE\\\\\n\t FALSE &  TRUE & FALSE & FALSE & FALSE & FALSE\\\\\n\\end{tabular}\n",
            "text/plain": [
              "     Ozone Solar.R Wind  Temp  Month Day  \n",
              "[1,] FALSE FALSE   FALSE FALSE FALSE FALSE\n",
              "[2,] FALSE FALSE   FALSE FALSE FALSE FALSE\n",
              "[3,] FALSE FALSE   FALSE FALSE FALSE FALSE\n",
              "[4,] FALSE FALSE   FALSE FALSE FALSE FALSE\n",
              "[5,]  TRUE  TRUE   FALSE FALSE FALSE FALSE\n",
              "[6,] FALSE  TRUE   FALSE FALSE FALSE FALSE"
            ]
          },
          "metadata": {}
        }
      ],
      "source": [
        "is.na(airquality) %>%\n",
        "  head()"
      ]
    },
    {
      "cell_type": "code",
      "execution_count": 179,
      "id": "6dd2fb5b",
      "metadata": {
        "execution": {
          "iopub.execute_input": "2023-06-03T09:23:46.153829Z",
          "iopub.status.busy": "2023-06-03T09:23:46.151716Z",
          "iopub.status.idle": "2023-06-03T09:23:46.179032Z",
          "shell.execute_reply": "2023-06-03T09:23:46.175341Z"
        },
        "papermill": {
          "duration": 0.0649,
          "end_time": "2023-06-03T09:23:46.182048",
          "exception": false,
          "start_time": "2023-06-03T09:23:46.117148",
          "status": "completed"
        },
        "tags": [],
        "id": "6dd2fb5b",
        "colab": {
          "base_uri": "https://localhost:8080/",
          "height": 34
        },
        "outputId": "ad581c14-8048-4162-e7e0-d4004470e231"
      },
      "outputs": [
        {
          "output_type": "display_data",
          "data": {
            "text/html": [
              "<style>\n",
              ".dl-inline {width: auto; margin:0; padding: 0}\n",
              ".dl-inline>dt, .dl-inline>dd {float: none; width: auto; display: inline-block}\n",
              ".dl-inline>dt::after {content: \":\\0020\"; padding-right: .5ex}\n",
              ".dl-inline>dt:not(:first-of-type) {padding-left: .5ex}\n",
              "</style><dl class=dl-inline><dt>Ozone</dt><dd>37</dd><dt>Solar.R</dt><dd>7</dd><dt>Wind</dt><dd>0</dd><dt>Temp</dt><dd>0</dd><dt>Month</dt><dd>0</dd><dt>Day</dt><dd>0</dd></dl>\n"
            ],
            "text/markdown": "Ozone\n:   37Solar.R\n:   7Wind\n:   0Temp\n:   0Month\n:   0Day\n:   0\n\n",
            "text/latex": "\\begin{description*}\n\\item[Ozone] 37\n\\item[Solar.R] 7\n\\item[Wind] 0\n\\item[Temp] 0\n\\item[Month] 0\n\\item[Day] 0\n\\end{description*}\n",
            "text/plain": [
              "  Ozone Solar.R    Wind    Temp   Month     Day \n",
              "     37       7       0       0       0       0 "
            ]
          },
          "metadata": {}
        }
      ],
      "source": [
        "# Otra forma de evaluar cuantos NA hay en cada columna de un data frame es:\n",
        "\n",
        "colSums(is.na(airquality))"
      ]
    },
    {
      "cell_type": "markdown",
      "id": "290f0992",
      "metadata": {
        "papermill": {
          "duration": 0.033683,
          "end_time": "2023-06-03T09:23:46.248674",
          "exception": false,
          "start_time": "2023-06-03T09:23:46.214991",
          "status": "completed"
        },
        "tags": [],
        "id": "290f0992"
      },
      "source": [
        "# **na.omit()**\n",
        "Permite omitir (eliminar) los registros que posean los valores “NA” de un conjunto de datos, para su inclusión como argumento de otras funciones."
      ]
    },
    {
      "cell_type": "code",
      "execution_count": 180,
      "id": "a372f5da",
      "metadata": {
        "execution": {
          "iopub.execute_input": "2023-06-03T09:23:46.320320Z",
          "iopub.status.busy": "2023-06-03T09:23:46.317862Z",
          "iopub.status.idle": "2023-06-03T09:23:46.471175Z",
          "shell.execute_reply": "2023-06-03T09:23:46.468364Z"
        },
        "papermill": {
          "duration": 0.192548,
          "end_time": "2023-06-03T09:23:46.474464",
          "exception": false,
          "start_time": "2023-06-03T09:23:46.281916",
          "status": "completed"
        },
        "tags": [],
        "id": "a372f5da",
        "colab": {
          "base_uri": "https://localhost:8080/",
          "height": 1000
        },
        "outputId": "47a1d739-2c78-455e-c187-83df2526f839"
      },
      "outputs": [
        {
          "output_type": "display_data",
          "data": {
            "text/html": [
              "<table class=\"dataframe\">\n",
              "<caption>A data.frame: 111 × 6</caption>\n",
              "<thead>\n",
              "\t<tr><th></th><th scope=col>Ozone</th><th scope=col>Solar.R</th><th scope=col>Wind</th><th scope=col>Temp</th><th scope=col>Month</th><th scope=col>Day</th></tr>\n",
              "\t<tr><th></th><th scope=col>&lt;int&gt;</th><th scope=col>&lt;int&gt;</th><th scope=col>&lt;dbl&gt;</th><th scope=col>&lt;int&gt;</th><th scope=col>&lt;int&gt;</th><th scope=col>&lt;int&gt;</th></tr>\n",
              "</thead>\n",
              "<tbody>\n",
              "\t<tr><th scope=row>1</th><td> 41</td><td>190</td><td> 7.4</td><td>67</td><td>5</td><td> 1</td></tr>\n",
              "\t<tr><th scope=row>2</th><td> 36</td><td>118</td><td> 8.0</td><td>72</td><td>5</td><td> 2</td></tr>\n",
              "\t<tr><th scope=row>3</th><td> 12</td><td>149</td><td>12.6</td><td>74</td><td>5</td><td> 3</td></tr>\n",
              "\t<tr><th scope=row>4</th><td> 18</td><td>313</td><td>11.5</td><td>62</td><td>5</td><td> 4</td></tr>\n",
              "\t<tr><th scope=row>7</th><td> 23</td><td>299</td><td> 8.6</td><td>65</td><td>5</td><td> 7</td></tr>\n",
              "\t<tr><th scope=row>8</th><td> 19</td><td> 99</td><td>13.8</td><td>59</td><td>5</td><td> 8</td></tr>\n",
              "\t<tr><th scope=row>9</th><td>  8</td><td> 19</td><td>20.1</td><td>61</td><td>5</td><td> 9</td></tr>\n",
              "\t<tr><th scope=row>12</th><td> 16</td><td>256</td><td> 9.7</td><td>69</td><td>5</td><td>12</td></tr>\n",
              "\t<tr><th scope=row>13</th><td> 11</td><td>290</td><td> 9.2</td><td>66</td><td>5</td><td>13</td></tr>\n",
              "\t<tr><th scope=row>14</th><td> 14</td><td>274</td><td>10.9</td><td>68</td><td>5</td><td>14</td></tr>\n",
              "\t<tr><th scope=row>15</th><td> 18</td><td> 65</td><td>13.2</td><td>58</td><td>5</td><td>15</td></tr>\n",
              "\t<tr><th scope=row>16</th><td> 14</td><td>334</td><td>11.5</td><td>64</td><td>5</td><td>16</td></tr>\n",
              "\t<tr><th scope=row>17</th><td> 34</td><td>307</td><td>12.0</td><td>66</td><td>5</td><td>17</td></tr>\n",
              "\t<tr><th scope=row>18</th><td>  6</td><td> 78</td><td>18.4</td><td>57</td><td>5</td><td>18</td></tr>\n",
              "\t<tr><th scope=row>19</th><td> 30</td><td>322</td><td>11.5</td><td>68</td><td>5</td><td>19</td></tr>\n",
              "\t<tr><th scope=row>20</th><td> 11</td><td> 44</td><td> 9.7</td><td>62</td><td>5</td><td>20</td></tr>\n",
              "\t<tr><th scope=row>21</th><td>  1</td><td>  8</td><td> 9.7</td><td>59</td><td>5</td><td>21</td></tr>\n",
              "\t<tr><th scope=row>22</th><td> 11</td><td>320</td><td>16.6</td><td>73</td><td>5</td><td>22</td></tr>\n",
              "\t<tr><th scope=row>23</th><td>  4</td><td> 25</td><td> 9.7</td><td>61</td><td>5</td><td>23</td></tr>\n",
              "\t<tr><th scope=row>24</th><td> 32</td><td> 92</td><td>12.0</td><td>61</td><td>5</td><td>24</td></tr>\n",
              "\t<tr><th scope=row>28</th><td> 23</td><td> 13</td><td>12.0</td><td>67</td><td>5</td><td>28</td></tr>\n",
              "\t<tr><th scope=row>29</th><td> 45</td><td>252</td><td>14.9</td><td>81</td><td>5</td><td>29</td></tr>\n",
              "\t<tr><th scope=row>30</th><td>115</td><td>223</td><td> 5.7</td><td>79</td><td>5</td><td>30</td></tr>\n",
              "\t<tr><th scope=row>31</th><td> 37</td><td>279</td><td> 7.4</td><td>76</td><td>5</td><td>31</td></tr>\n",
              "\t<tr><th scope=row>38</th><td> 29</td><td>127</td><td> 9.7</td><td>82</td><td>6</td><td> 7</td></tr>\n",
              "\t<tr><th scope=row>40</th><td> 71</td><td>291</td><td>13.8</td><td>90</td><td>6</td><td> 9</td></tr>\n",
              "\t<tr><th scope=row>41</th><td> 39</td><td>323</td><td>11.5</td><td>87</td><td>6</td><td>10</td></tr>\n",
              "\t<tr><th scope=row>44</th><td> 23</td><td>148</td><td> 8.0</td><td>82</td><td>6</td><td>13</td></tr>\n",
              "\t<tr><th scope=row>47</th><td> 21</td><td>191</td><td>14.9</td><td>77</td><td>6</td><td>16</td></tr>\n",
              "\t<tr><th scope=row>48</th><td> 37</td><td>284</td><td>20.7</td><td>72</td><td>6</td><td>17</td></tr>\n",
              "\t<tr><th scope=row>⋮</th><td>⋮</td><td>⋮</td><td>⋮</td><td>⋮</td><td>⋮</td><td>⋮</td></tr>\n",
              "\t<tr><th scope=row>123</th><td>85</td><td>188</td><td> 6.3</td><td>94</td><td>8</td><td>31</td></tr>\n",
              "\t<tr><th scope=row>124</th><td>96</td><td>167</td><td> 6.9</td><td>91</td><td>9</td><td> 1</td></tr>\n",
              "\t<tr><th scope=row>125</th><td>78</td><td>197</td><td> 5.1</td><td>92</td><td>9</td><td> 2</td></tr>\n",
              "\t<tr><th scope=row>126</th><td>73</td><td>183</td><td> 2.8</td><td>93</td><td>9</td><td> 3</td></tr>\n",
              "\t<tr><th scope=row>127</th><td>91</td><td>189</td><td> 4.6</td><td>93</td><td>9</td><td> 4</td></tr>\n",
              "\t<tr><th scope=row>128</th><td>47</td><td> 95</td><td> 7.4</td><td>87</td><td>9</td><td> 5</td></tr>\n",
              "\t<tr><th scope=row>129</th><td>32</td><td> 92</td><td>15.5</td><td>84</td><td>9</td><td> 6</td></tr>\n",
              "\t<tr><th scope=row>130</th><td>20</td><td>252</td><td>10.9</td><td>80</td><td>9</td><td> 7</td></tr>\n",
              "\t<tr><th scope=row>131</th><td>23</td><td>220</td><td>10.3</td><td>78</td><td>9</td><td> 8</td></tr>\n",
              "\t<tr><th scope=row>132</th><td>21</td><td>230</td><td>10.9</td><td>75</td><td>9</td><td> 9</td></tr>\n",
              "\t<tr><th scope=row>133</th><td>24</td><td>259</td><td> 9.7</td><td>73</td><td>9</td><td>10</td></tr>\n",
              "\t<tr><th scope=row>134</th><td>44</td><td>236</td><td>14.9</td><td>81</td><td>9</td><td>11</td></tr>\n",
              "\t<tr><th scope=row>135</th><td>21</td><td>259</td><td>15.5</td><td>76</td><td>9</td><td>12</td></tr>\n",
              "\t<tr><th scope=row>136</th><td>28</td><td>238</td><td> 6.3</td><td>77</td><td>9</td><td>13</td></tr>\n",
              "\t<tr><th scope=row>137</th><td> 9</td><td> 24</td><td>10.9</td><td>71</td><td>9</td><td>14</td></tr>\n",
              "\t<tr><th scope=row>138</th><td>13</td><td>112</td><td>11.5</td><td>71</td><td>9</td><td>15</td></tr>\n",
              "\t<tr><th scope=row>139</th><td>46</td><td>237</td><td> 6.9</td><td>78</td><td>9</td><td>16</td></tr>\n",
              "\t<tr><th scope=row>140</th><td>18</td><td>224</td><td>13.8</td><td>67</td><td>9</td><td>17</td></tr>\n",
              "\t<tr><th scope=row>141</th><td>13</td><td> 27</td><td>10.3</td><td>76</td><td>9</td><td>18</td></tr>\n",
              "\t<tr><th scope=row>142</th><td>24</td><td>238</td><td>10.3</td><td>68</td><td>9</td><td>19</td></tr>\n",
              "\t<tr><th scope=row>143</th><td>16</td><td>201</td><td> 8.0</td><td>82</td><td>9</td><td>20</td></tr>\n",
              "\t<tr><th scope=row>144</th><td>13</td><td>238</td><td>12.6</td><td>64</td><td>9</td><td>21</td></tr>\n",
              "\t<tr><th scope=row>145</th><td>23</td><td> 14</td><td> 9.2</td><td>71</td><td>9</td><td>22</td></tr>\n",
              "\t<tr><th scope=row>146</th><td>36</td><td>139</td><td>10.3</td><td>81</td><td>9</td><td>23</td></tr>\n",
              "\t<tr><th scope=row>147</th><td> 7</td><td> 49</td><td>10.3</td><td>69</td><td>9</td><td>24</td></tr>\n",
              "\t<tr><th scope=row>148</th><td>14</td><td> 20</td><td>16.6</td><td>63</td><td>9</td><td>25</td></tr>\n",
              "\t<tr><th scope=row>149</th><td>30</td><td>193</td><td> 6.9</td><td>70</td><td>9</td><td>26</td></tr>\n",
              "\t<tr><th scope=row>151</th><td>14</td><td>191</td><td>14.3</td><td>75</td><td>9</td><td>28</td></tr>\n",
              "\t<tr><th scope=row>152</th><td>18</td><td>131</td><td> 8.0</td><td>76</td><td>9</td><td>29</td></tr>\n",
              "\t<tr><th scope=row>153</th><td>20</td><td>223</td><td>11.5</td><td>68</td><td>9</td><td>30</td></tr>\n",
              "</tbody>\n",
              "</table>\n"
            ],
            "text/markdown": "\nA data.frame: 111 × 6\n\n| <!--/--> | Ozone &lt;int&gt; | Solar.R &lt;int&gt; | Wind &lt;dbl&gt; | Temp &lt;int&gt; | Month &lt;int&gt; | Day &lt;int&gt; |\n|---|---|---|---|---|---|---|\n| 1 |  41 | 190 |  7.4 | 67 | 5 |  1 |\n| 2 |  36 | 118 |  8.0 | 72 | 5 |  2 |\n| 3 |  12 | 149 | 12.6 | 74 | 5 |  3 |\n| 4 |  18 | 313 | 11.5 | 62 | 5 |  4 |\n| 7 |  23 | 299 |  8.6 | 65 | 5 |  7 |\n| 8 |  19 |  99 | 13.8 | 59 | 5 |  8 |\n| 9 |   8 |  19 | 20.1 | 61 | 5 |  9 |\n| 12 |  16 | 256 |  9.7 | 69 | 5 | 12 |\n| 13 |  11 | 290 |  9.2 | 66 | 5 | 13 |\n| 14 |  14 | 274 | 10.9 | 68 | 5 | 14 |\n| 15 |  18 |  65 | 13.2 | 58 | 5 | 15 |\n| 16 |  14 | 334 | 11.5 | 64 | 5 | 16 |\n| 17 |  34 | 307 | 12.0 | 66 | 5 | 17 |\n| 18 |   6 |  78 | 18.4 | 57 | 5 | 18 |\n| 19 |  30 | 322 | 11.5 | 68 | 5 | 19 |\n| 20 |  11 |  44 |  9.7 | 62 | 5 | 20 |\n| 21 |   1 |   8 |  9.7 | 59 | 5 | 21 |\n| 22 |  11 | 320 | 16.6 | 73 | 5 | 22 |\n| 23 |   4 |  25 |  9.7 | 61 | 5 | 23 |\n| 24 |  32 |  92 | 12.0 | 61 | 5 | 24 |\n| 28 |  23 |  13 | 12.0 | 67 | 5 | 28 |\n| 29 |  45 | 252 | 14.9 | 81 | 5 | 29 |\n| 30 | 115 | 223 |  5.7 | 79 | 5 | 30 |\n| 31 |  37 | 279 |  7.4 | 76 | 5 | 31 |\n| 38 |  29 | 127 |  9.7 | 82 | 6 |  7 |\n| 40 |  71 | 291 | 13.8 | 90 | 6 |  9 |\n| 41 |  39 | 323 | 11.5 | 87 | 6 | 10 |\n| 44 |  23 | 148 |  8.0 | 82 | 6 | 13 |\n| 47 |  21 | 191 | 14.9 | 77 | 6 | 16 |\n| 48 |  37 | 284 | 20.7 | 72 | 6 | 17 |\n| ⋮ | ⋮ | ⋮ | ⋮ | ⋮ | ⋮ | ⋮ |\n| 123 | 85 | 188 |  6.3 | 94 | 8 | 31 |\n| 124 | 96 | 167 |  6.9 | 91 | 9 |  1 |\n| 125 | 78 | 197 |  5.1 | 92 | 9 |  2 |\n| 126 | 73 | 183 |  2.8 | 93 | 9 |  3 |\n| 127 | 91 | 189 |  4.6 | 93 | 9 |  4 |\n| 128 | 47 |  95 |  7.4 | 87 | 9 |  5 |\n| 129 | 32 |  92 | 15.5 | 84 | 9 |  6 |\n| 130 | 20 | 252 | 10.9 | 80 | 9 |  7 |\n| 131 | 23 | 220 | 10.3 | 78 | 9 |  8 |\n| 132 | 21 | 230 | 10.9 | 75 | 9 |  9 |\n| 133 | 24 | 259 |  9.7 | 73 | 9 | 10 |\n| 134 | 44 | 236 | 14.9 | 81 | 9 | 11 |\n| 135 | 21 | 259 | 15.5 | 76 | 9 | 12 |\n| 136 | 28 | 238 |  6.3 | 77 | 9 | 13 |\n| 137 |  9 |  24 | 10.9 | 71 | 9 | 14 |\n| 138 | 13 | 112 | 11.5 | 71 | 9 | 15 |\n| 139 | 46 | 237 |  6.9 | 78 | 9 | 16 |\n| 140 | 18 | 224 | 13.8 | 67 | 9 | 17 |\n| 141 | 13 |  27 | 10.3 | 76 | 9 | 18 |\n| 142 | 24 | 238 | 10.3 | 68 | 9 | 19 |\n| 143 | 16 | 201 |  8.0 | 82 | 9 | 20 |\n| 144 | 13 | 238 | 12.6 | 64 | 9 | 21 |\n| 145 | 23 |  14 |  9.2 | 71 | 9 | 22 |\n| 146 | 36 | 139 | 10.3 | 81 | 9 | 23 |\n| 147 |  7 |  49 | 10.3 | 69 | 9 | 24 |\n| 148 | 14 |  20 | 16.6 | 63 | 9 | 25 |\n| 149 | 30 | 193 |  6.9 | 70 | 9 | 26 |\n| 151 | 14 | 191 | 14.3 | 75 | 9 | 28 |\n| 152 | 18 | 131 |  8.0 | 76 | 9 | 29 |\n| 153 | 20 | 223 | 11.5 | 68 | 9 | 30 |\n\n",
            "text/latex": "A data.frame: 111 × 6\n\\begin{tabular}{r|llllll}\n  & Ozone & Solar.R & Wind & Temp & Month & Day\\\\\n  & <int> & <int> & <dbl> & <int> & <int> & <int>\\\\\n\\hline\n\t1 &  41 & 190 &  7.4 & 67 & 5 &  1\\\\\n\t2 &  36 & 118 &  8.0 & 72 & 5 &  2\\\\\n\t3 &  12 & 149 & 12.6 & 74 & 5 &  3\\\\\n\t4 &  18 & 313 & 11.5 & 62 & 5 &  4\\\\\n\t7 &  23 & 299 &  8.6 & 65 & 5 &  7\\\\\n\t8 &  19 &  99 & 13.8 & 59 & 5 &  8\\\\\n\t9 &   8 &  19 & 20.1 & 61 & 5 &  9\\\\\n\t12 &  16 & 256 &  9.7 & 69 & 5 & 12\\\\\n\t13 &  11 & 290 &  9.2 & 66 & 5 & 13\\\\\n\t14 &  14 & 274 & 10.9 & 68 & 5 & 14\\\\\n\t15 &  18 &  65 & 13.2 & 58 & 5 & 15\\\\\n\t16 &  14 & 334 & 11.5 & 64 & 5 & 16\\\\\n\t17 &  34 & 307 & 12.0 & 66 & 5 & 17\\\\\n\t18 &   6 &  78 & 18.4 & 57 & 5 & 18\\\\\n\t19 &  30 & 322 & 11.5 & 68 & 5 & 19\\\\\n\t20 &  11 &  44 &  9.7 & 62 & 5 & 20\\\\\n\t21 &   1 &   8 &  9.7 & 59 & 5 & 21\\\\\n\t22 &  11 & 320 & 16.6 & 73 & 5 & 22\\\\\n\t23 &   4 &  25 &  9.7 & 61 & 5 & 23\\\\\n\t24 &  32 &  92 & 12.0 & 61 & 5 & 24\\\\\n\t28 &  23 &  13 & 12.0 & 67 & 5 & 28\\\\\n\t29 &  45 & 252 & 14.9 & 81 & 5 & 29\\\\\n\t30 & 115 & 223 &  5.7 & 79 & 5 & 30\\\\\n\t31 &  37 & 279 &  7.4 & 76 & 5 & 31\\\\\n\t38 &  29 & 127 &  9.7 & 82 & 6 &  7\\\\\n\t40 &  71 & 291 & 13.8 & 90 & 6 &  9\\\\\n\t41 &  39 & 323 & 11.5 & 87 & 6 & 10\\\\\n\t44 &  23 & 148 &  8.0 & 82 & 6 & 13\\\\\n\t47 &  21 & 191 & 14.9 & 77 & 6 & 16\\\\\n\t48 &  37 & 284 & 20.7 & 72 & 6 & 17\\\\\n\t⋮ & ⋮ & ⋮ & ⋮ & ⋮ & ⋮ & ⋮\\\\\n\t123 & 85 & 188 &  6.3 & 94 & 8 & 31\\\\\n\t124 & 96 & 167 &  6.9 & 91 & 9 &  1\\\\\n\t125 & 78 & 197 &  5.1 & 92 & 9 &  2\\\\\n\t126 & 73 & 183 &  2.8 & 93 & 9 &  3\\\\\n\t127 & 91 & 189 &  4.6 & 93 & 9 &  4\\\\\n\t128 & 47 &  95 &  7.4 & 87 & 9 &  5\\\\\n\t129 & 32 &  92 & 15.5 & 84 & 9 &  6\\\\\n\t130 & 20 & 252 & 10.9 & 80 & 9 &  7\\\\\n\t131 & 23 & 220 & 10.3 & 78 & 9 &  8\\\\\n\t132 & 21 & 230 & 10.9 & 75 & 9 &  9\\\\\n\t133 & 24 & 259 &  9.7 & 73 & 9 & 10\\\\\n\t134 & 44 & 236 & 14.9 & 81 & 9 & 11\\\\\n\t135 & 21 & 259 & 15.5 & 76 & 9 & 12\\\\\n\t136 & 28 & 238 &  6.3 & 77 & 9 & 13\\\\\n\t137 &  9 &  24 & 10.9 & 71 & 9 & 14\\\\\n\t138 & 13 & 112 & 11.5 & 71 & 9 & 15\\\\\n\t139 & 46 & 237 &  6.9 & 78 & 9 & 16\\\\\n\t140 & 18 & 224 & 13.8 & 67 & 9 & 17\\\\\n\t141 & 13 &  27 & 10.3 & 76 & 9 & 18\\\\\n\t142 & 24 & 238 & 10.3 & 68 & 9 & 19\\\\\n\t143 & 16 & 201 &  8.0 & 82 & 9 & 20\\\\\n\t144 & 13 & 238 & 12.6 & 64 & 9 & 21\\\\\n\t145 & 23 &  14 &  9.2 & 71 & 9 & 22\\\\\n\t146 & 36 & 139 & 10.3 & 81 & 9 & 23\\\\\n\t147 &  7 &  49 & 10.3 & 69 & 9 & 24\\\\\n\t148 & 14 &  20 & 16.6 & 63 & 9 & 25\\\\\n\t149 & 30 & 193 &  6.9 & 70 & 9 & 26\\\\\n\t151 & 14 & 191 & 14.3 & 75 & 9 & 28\\\\\n\t152 & 18 & 131 &  8.0 & 76 & 9 & 29\\\\\n\t153 & 20 & 223 & 11.5 & 68 & 9 & 30\\\\\n\\end{tabular}\n",
            "text/plain": [
              "    Ozone Solar.R Wind Temp Month Day\n",
              "1    41   190      7.4 67   5      1 \n",
              "2    36   118      8.0 72   5      2 \n",
              "3    12   149     12.6 74   5      3 \n",
              "4    18   313     11.5 62   5      4 \n",
              "7    23   299      8.6 65   5      7 \n",
              "8    19    99     13.8 59   5      8 \n",
              "9     8    19     20.1 61   5      9 \n",
              "12   16   256      9.7 69   5     12 \n",
              "13   11   290      9.2 66   5     13 \n",
              "14   14   274     10.9 68   5     14 \n",
              "15   18    65     13.2 58   5     15 \n",
              "16   14   334     11.5 64   5     16 \n",
              "17   34   307     12.0 66   5     17 \n",
              "18    6    78     18.4 57   5     18 \n",
              "19   30   322     11.5 68   5     19 \n",
              "20   11    44      9.7 62   5     20 \n",
              "21    1     8      9.7 59   5     21 \n",
              "22   11   320     16.6 73   5     22 \n",
              "23    4    25      9.7 61   5     23 \n",
              "24   32    92     12.0 61   5     24 \n",
              "28   23    13     12.0 67   5     28 \n",
              "29   45   252     14.9 81   5     29 \n",
              "30  115   223      5.7 79   5     30 \n",
              "31   37   279      7.4 76   5     31 \n",
              "38   29   127      9.7 82   6      7 \n",
              "40   71   291     13.8 90   6      9 \n",
              "41   39   323     11.5 87   6     10 \n",
              "44   23   148      8.0 82   6     13 \n",
              "47   21   191     14.9 77   6     16 \n",
              "48   37   284     20.7 72   6     17 \n",
              "⋮   ⋮     ⋮       ⋮    ⋮    ⋮     ⋮  \n",
              "123 85    188      6.3 94   8     31 \n",
              "124 96    167      6.9 91   9      1 \n",
              "125 78    197      5.1 92   9      2 \n",
              "126 73    183      2.8 93   9      3 \n",
              "127 91    189      4.6 93   9      4 \n",
              "128 47     95      7.4 87   9      5 \n",
              "129 32     92     15.5 84   9      6 \n",
              "130 20    252     10.9 80   9      7 \n",
              "131 23    220     10.3 78   9      8 \n",
              "132 21    230     10.9 75   9      9 \n",
              "133 24    259      9.7 73   9     10 \n",
              "134 44    236     14.9 81   9     11 \n",
              "135 21    259     15.5 76   9     12 \n",
              "136 28    238      6.3 77   9     13 \n",
              "137  9     24     10.9 71   9     14 \n",
              "138 13    112     11.5 71   9     15 \n",
              "139 46    237      6.9 78   9     16 \n",
              "140 18    224     13.8 67   9     17 \n",
              "141 13     27     10.3 76   9     18 \n",
              "142 24    238     10.3 68   9     19 \n",
              "143 16    201      8.0 82   9     20 \n",
              "144 13    238     12.6 64   9     21 \n",
              "145 23     14      9.2 71   9     22 \n",
              "146 36    139     10.3 81   9     23 \n",
              "147  7     49     10.3 69   9     24 \n",
              "148 14     20     16.6 63   9     25 \n",
              "149 30    193      6.9 70   9     26 \n",
              "151 14    191     14.3 75   9     28 \n",
              "152 18    131      8.0 76   9     29 \n",
              "153 20    223     11.5 68   9     30 "
            ]
          },
          "metadata": {}
        }
      ],
      "source": [
        "na.omit(airquality)"
      ]
    },
    {
      "cell_type": "code",
      "source": [
        "dim(airquality)"
      ],
      "metadata": {
        "colab": {
          "base_uri": "https://localhost:8080/",
          "height": 34
        },
        "id": "plB7jwaN51Th",
        "outputId": "27deddb2-071e-4874-ec04-046e2e36e755"
      },
      "id": "plB7jwaN51Th",
      "execution_count": 181,
      "outputs": [
        {
          "output_type": "display_data",
          "data": {
            "text/html": [
              "<style>\n",
              ".list-inline {list-style: none; margin:0; padding: 0}\n",
              ".list-inline>li {display: inline-block}\n",
              ".list-inline>li:not(:last-child)::after {content: \"\\00b7\"; padding: 0 .5ex}\n",
              "</style>\n",
              "<ol class=list-inline><li>153</li><li>6</li></ol>\n"
            ],
            "text/markdown": "1. 153\n2. 6\n\n\n",
            "text/latex": "\\begin{enumerate*}\n\\item 153\n\\item 6\n\\end{enumerate*}\n",
            "text/plain": [
              "[1] 153   6"
            ]
          },
          "metadata": {}
        }
      ]
    },
    {
      "cell_type": "markdown",
      "id": "2d19b84f",
      "metadata": {
        "papermill": {
          "duration": 0.033255,
          "end_time": "2023-06-03T09:23:46.541022",
          "exception": false,
          "start_time": "2023-06-03T09:23:46.507767",
          "status": "completed"
        },
        "tags": [],
        "id": "2d19b84f"
      },
      "source": [
        "# sapply\n",
        "La gracia de sapply es la no dependencia de otros paquetes. Aunque debido a que no es estable respecto a los tipos de datos, se utiliza más bien en modo interactivo que sobre rutinas de programas."
      ]
    },
    {
      "cell_type": "code",
      "execution_count": 182,
      "id": "a701ec75",
      "metadata": {
        "execution": {
          "iopub.execute_input": "2023-06-03T09:23:46.613580Z",
          "iopub.status.busy": "2023-06-03T09:23:46.610914Z",
          "iopub.status.idle": "2023-06-03T09:23:46.647949Z",
          "shell.execute_reply": "2023-06-03T09:23:46.644421Z"
        },
        "papermill": {
          "duration": 0.077087,
          "end_time": "2023-06-03T09:23:46.651424",
          "exception": false,
          "start_time": "2023-06-03T09:23:46.574337",
          "status": "completed"
        },
        "tags": [],
        "id": "a701ec75",
        "colab": {
          "base_uri": "https://localhost:8080/",
          "height": 34
        },
        "outputId": "bbe71d8e-1182-4ecc-a8d9-c10e0bc5e27d"
      },
      "outputs": [
        {
          "output_type": "display_data",
          "data": {
            "text/html": [
              "<style>\n",
              ".dl-inline {width: auto; margin:0; padding: 0}\n",
              ".dl-inline>dt, .dl-inline>dd {float: none; width: auto; display: inline-block}\n",
              ".dl-inline>dt::after {content: \":\\0020\"; padding-right: .5ex}\n",
              ".dl-inline>dt:not(:first-of-type) {padding-left: .5ex}\n",
              "</style><dl class=dl-inline><dt>Ozone</dt><dd>37</dd><dt>Solar.R</dt><dd>7</dd><dt>Wind</dt><dd>0</dd><dt>Temp</dt><dd>0</dd><dt>Month</dt><dd>0</dd><dt>Day</dt><dd>0</dd></dl>\n"
            ],
            "text/markdown": "Ozone\n:   37Solar.R\n:   7Wind\n:   0Temp\n:   0Month\n:   0Day\n:   0\n\n",
            "text/latex": "\\begin{description*}\n\\item[Ozone] 37\n\\item[Solar.R] 7\n\\item[Wind] 0\n\\item[Temp] 0\n\\item[Month] 0\n\\item[Day] 0\n\\end{description*}\n",
            "text/plain": [
              "  Ozone Solar.R    Wind    Temp   Month     Day \n",
              "     37       7       0       0       0       0 "
            ]
          },
          "metadata": {}
        }
      ],
      "source": [
        "# Determinar cuantos valores NA hay en cada columna.\n",
        "\n",
        "sapply(airquality, function(x) sum(is.na(x)))"
      ]
    },
    {
      "cell_type": "markdown",
      "id": "d2108b6d",
      "metadata": {
        "papermill": {
          "duration": 0.033372,
          "end_time": "2023-06-03T09:23:46.718417",
          "exception": false,
          "start_time": "2023-06-03T09:23:46.685045",
          "status": "completed"
        },
        "tags": [],
        "id": "d2108b6d"
      },
      "source": [
        "# **dplyr**\n",
        "Pertenece al paquete Tydyverse. El siguiente ejemplo toma todas las columnas de “airquality” y las resume (summarise), tomando todas las columnas y aplicando la función sum(is.na(.))\n",
        "##### El punto indica que toma la salida del paso anterior dentro de la tubería (pipe) creada con %>%"
      ]
    },
    {
      "cell_type": "code",
      "execution_count": 183,
      "id": "de3f0c44",
      "metadata": {
        "execution": {
          "iopub.execute_input": "2023-06-03T09:23:46.791072Z",
          "iopub.status.busy": "2023-06-03T09:23:46.788555Z",
          "iopub.status.idle": "2023-06-03T09:23:46.900074Z",
          "shell.execute_reply": "2023-06-03T09:23:46.897183Z"
        },
        "papermill": {
          "duration": 0.152769,
          "end_time": "2023-06-03T09:23:46.904501",
          "exception": false,
          "start_time": "2023-06-03T09:23:46.751732",
          "status": "completed"
        },
        "tags": [],
        "id": "de3f0c44",
        "colab": {
          "base_uri": "https://localhost:8080/",
          "height": 286
        },
        "outputId": "ef282583-3447-425b-9464-3293b0d15bc2"
      },
      "outputs": [
        {
          "output_type": "stream",
          "name": "stderr",
          "text": [
            "Warning message:\n",
            "“\u001b[1m\u001b[22m`funs()` was deprecated in dplyr 0.8.0.\n",
            "\u001b[36mℹ\u001b[39m Please use a list of either functions or lambdas:\n",
            "\n",
            "# Simple named list: list(mean = mean, median = median)\n",
            "\n",
            "# Auto named with `tibble::lst()`: tibble::lst(mean, median)\n",
            "\n",
            "# Using lambdas list(~ mean(., trim = .2), ~ median(., na.rm = TRUE))”\n"
          ]
        },
        {
          "output_type": "display_data",
          "data": {
            "text/html": [
              "<table class=\"dataframe\">\n",
              "<caption>A data.frame: 1 × 6</caption>\n",
              "<thead>\n",
              "\t<tr><th scope=col>Ozone</th><th scope=col>Solar.R</th><th scope=col>Wind</th><th scope=col>Temp</th><th scope=col>Month</th><th scope=col>Day</th></tr>\n",
              "\t<tr><th scope=col>&lt;int&gt;</th><th scope=col>&lt;int&gt;</th><th scope=col>&lt;int&gt;</th><th scope=col>&lt;int&gt;</th><th scope=col>&lt;int&gt;</th><th scope=col>&lt;int&gt;</th></tr>\n",
              "</thead>\n",
              "<tbody>\n",
              "\t<tr><td>37</td><td>7</td><td>0</td><td>0</td><td>0</td><td>0</td></tr>\n",
              "</tbody>\n",
              "</table>\n"
            ],
            "text/markdown": "\nA data.frame: 1 × 6\n\n| Ozone &lt;int&gt; | Solar.R &lt;int&gt; | Wind &lt;int&gt; | Temp &lt;int&gt; | Month &lt;int&gt; | Day &lt;int&gt; |\n|---|---|---|---|---|---|\n| 37 | 7 | 0 | 0 | 0 | 0 |\n\n",
            "text/latex": "A data.frame: 1 × 6\n\\begin{tabular}{llllll}\n Ozone & Solar.R & Wind & Temp & Month & Day\\\\\n <int> & <int> & <int> & <int> & <int> & <int>\\\\\n\\hline\n\t 37 & 7 & 0 & 0 & 0 & 0\\\\\n\\end{tabular}\n",
            "text/plain": [
              "  Ozone Solar.R Wind Temp Month Day\n",
              "1 37    7       0    0    0     0  "
            ]
          },
          "metadata": {}
        }
      ],
      "source": [
        "# Determinar cuantos valores NA hay en cada columna.\n",
        "airquality %>%\n",
        "  select(everything()) %>%\n",
        "  summarise_all(funs(sum(is.na(.))))"
      ]
    },
    {
      "cell_type": "markdown",
      "id": "b8082ea4",
      "metadata": {
        "papermill": {
          "duration": 0.036569,
          "end_time": "2023-06-03T09:23:46.977743",
          "exception": false,
          "start_time": "2023-06-03T09:23:46.941174",
          "status": "completed"
        },
        "tags": [],
        "id": "b8082ea4"
      },
      "source": [
        "# **apply**\n",
        "Para contabilizar los ‘NA’ fila a fila en un formato caso a caso, aplica una función a cada fila de un dataframe.\n",
        "\n",
        "apply posee los siguientes parámetros:\n",
        "\n",
        "**apply(data, margen, funcion)**\n",
        "\n",
        "* data: matriz u objeto que puede destinarse a un matriz, por lo regular un data frame.\n",
        "\n",
        "* margen: dimensión que agrupa a los elementos de la matriz para aplicar la función: 1 renglones, 2 columnas.\n",
        "\n",
        "* funcion: la función que se aplicará a la matriz en la dimensión margen."
      ]
    },
    {
      "cell_type": "code",
      "execution_count": 184,
      "id": "242a6cb7",
      "metadata": {
        "execution": {
          "iopub.execute_input": "2023-06-03T09:23:47.055685Z",
          "iopub.status.busy": "2023-06-03T09:23:47.053125Z",
          "iopub.status.idle": "2023-06-03T09:23:47.093388Z",
          "shell.execute_reply": "2023-06-03T09:23:47.090929Z"
        },
        "papermill": {
          "duration": 0.083653,
          "end_time": "2023-06-03T09:23:47.097292",
          "exception": false,
          "start_time": "2023-06-03T09:23:47.013639",
          "status": "completed"
        },
        "tags": [],
        "id": "242a6cb7",
        "colab": {
          "base_uri": "https://localhost:8080/",
          "height": 34
        },
        "outputId": "cecf9fa1-ae55-4766-8259-77bdb09838c9"
      },
      "outputs": [
        {
          "output_type": "display_data",
          "data": {
            "text/html": [
              "<style>\n",
              ".dl-inline {width: auto; margin:0; padding: 0}\n",
              ".dl-inline>dt, .dl-inline>dd {float: none; width: auto; display: inline-block}\n",
              ".dl-inline>dt::after {content: \":\\0020\"; padding-right: .5ex}\n",
              ".dl-inline>dt:not(:first-of-type) {padding-left: .5ex}\n",
              "</style><dl class=dl-inline><dt>Ozone</dt><dd>37</dd><dt>Solar.R</dt><dd>7</dd><dt>Wind</dt><dd>0</dd><dt>Temp</dt><dd>0</dd><dt>Month</dt><dd>0</dd><dt>Day</dt><dd>0</dd></dl>\n"
            ],
            "text/markdown": "Ozone\n:   37Solar.R\n:   7Wind\n:   0Temp\n:   0Month\n:   0Day\n:   0\n\n",
            "text/latex": "\\begin{description*}\n\\item[Ozone] 37\n\\item[Solar.R] 7\n\\item[Wind] 0\n\\item[Temp] 0\n\\item[Month] 0\n\\item[Day] 0\n\\end{description*}\n",
            "text/plain": [
              "  Ozone Solar.R    Wind    Temp   Month     Day \n",
              "     37       7       0       0       0       0 "
            ]
          },
          "metadata": {}
        }
      ],
      "source": [
        "# Determinar cuantos valores NA hay en cada columna.\n",
        "apply(airquality, MARGIN = -1, function(x) sum(is.na(x)))"
      ]
    },
    {
      "cell_type": "markdown",
      "id": "771c8c2d",
      "metadata": {
        "papermill": {
          "duration": 0.035684,
          "end_time": "2023-06-03T09:23:47.169637",
          "exception": false,
          "start_time": "2023-06-03T09:23:47.133953",
          "status": "completed"
        },
        "tags": [],
        "id": "771c8c2d"
      },
      "source": [
        "# **Resumen de datos** de set de datos airquality.\n",
        "### Aquí vemos que las columnas Ozone y Solar poseen datos NA:"
      ]
    },
    {
      "cell_type": "code",
      "execution_count": 185,
      "id": "7d11e702",
      "metadata": {
        "execution": {
          "iopub.execute_input": "2023-06-03T09:23:47.246319Z",
          "iopub.status.busy": "2023-06-03T09:23:47.244120Z",
          "iopub.status.idle": "2023-06-03T09:23:47.281817Z",
          "shell.execute_reply": "2023-06-03T09:23:47.278223Z"
        },
        "papermill": {
          "duration": 0.080407,
          "end_time": "2023-06-03T09:23:47.286165",
          "exception": false,
          "start_time": "2023-06-03T09:23:47.205758",
          "status": "completed"
        },
        "tags": [],
        "id": "7d11e702",
        "colab": {
          "base_uri": "https://localhost:8080/",
          "height": 295
        },
        "outputId": "05ba5b26-512e-4541-f9d0-acd7a1d976ba"
      },
      "outputs": [
        {
          "output_type": "display_data",
          "data": {
            "text/plain": [
              "     Ozone           Solar.R           Wind             Temp      \n",
              " Min.   :  1.00   Min.   :  7.0   Min.   : 1.700   Min.   :56.00  \n",
              " 1st Qu.: 18.00   1st Qu.:115.8   1st Qu.: 7.400   1st Qu.:72.00  \n",
              " Median : 31.50   Median :205.0   Median : 9.700   Median :79.00  \n",
              " Mean   : 42.13   Mean   :185.9   Mean   : 9.958   Mean   :77.88  \n",
              " 3rd Qu.: 63.25   3rd Qu.:258.8   3rd Qu.:11.500   3rd Qu.:85.00  \n",
              " Max.   :168.00   Max.   :334.0   Max.   :20.700   Max.   :97.00  \n",
              " NA's   :37       NA's   :7                                       \n",
              "     Month            Day      \n",
              " Min.   :5.000   Min.   : 1.0  \n",
              " 1st Qu.:6.000   1st Qu.: 8.0  \n",
              " Median :7.000   Median :16.0  \n",
              " Mean   :6.993   Mean   :15.8  \n",
              " 3rd Qu.:8.000   3rd Qu.:23.0  \n",
              " Max.   :9.000   Max.   :31.0  \n",
              "                               "
            ]
          },
          "metadata": {}
        }
      ],
      "source": [
        "summary(airquality)"
      ]
    },
    {
      "cell_type": "markdown",
      "id": "5b57c235",
      "metadata": {
        "papermill": {
          "duration": 0.03595,
          "end_time": "2023-06-03T09:23:47.359134",
          "exception": false,
          "start_time": "2023-06-03T09:23:47.323184",
          "status": "completed"
        },
        "tags": [],
        "id": "5b57c235"
      },
      "source": [
        "# Visualización\n",
        "Las herramientas de visualización permiten determinar rápidamente la incidencia de valores ausentes dentro de un set de datos, y evaluar sobre qué variables de deben realizar las acciones necesarias. Cuando las ausencias son notorias y abundantes, puede tomarse la decisión de omitir la variable completa.\n",
        "\n",
        "# Visdat y Naniar\n",
        "Estas librerías permiten visualizar en forma más expedita la proporción de datos perdidos dentro de un conjunto de datos."
      ]
    },
    {
      "cell_type": "code",
      "execution_count": 186,
      "id": "688612ac",
      "metadata": {
        "execution": {
          "iopub.execute_input": "2023-06-03T09:23:47.436924Z",
          "iopub.status.busy": "2023-06-03T09:23:47.434373Z",
          "iopub.status.idle": "2023-06-03T09:23:47.525870Z",
          "shell.execute_reply": "2023-06-03T09:23:47.523334Z"
        },
        "papermill": {
          "duration": 0.134121,
          "end_time": "2023-06-03T09:23:47.529201",
          "exception": false,
          "start_time": "2023-06-03T09:23:47.395080",
          "status": "completed"
        },
        "tags": [],
        "id": "688612ac",
        "colab": {
          "base_uri": "https://localhost:8080/"
        },
        "outputId": "084f4a85-ba81-4bb0-a4ba-e87ce284ea70"
      },
      "outputs": [
        {
          "output_type": "stream",
          "name": "stderr",
          "text": [
            "Installing package into ‘/usr/local/lib/R/site-library’\n",
            "(as ‘lib’ is unspecified)\n",
            "\n",
            "Installing package into ‘/usr/local/lib/R/site-library’\n",
            "(as ‘lib’ is unspecified)\n",
            "\n"
          ]
        }
      ],
      "source": [
        "install.packages(\"visdat\")\n",
        "install.packages(\"naniar\")\n",
        "\n",
        "library(visdat) # visualización de datos\n",
        "library(naniar)"
      ]
    },
    {
      "cell_type": "markdown",
      "id": "e6e95a18",
      "metadata": {
        "papermill": {
          "duration": 0.034414,
          "end_time": "2023-06-03T09:23:47.597880",
          "exception": false,
          "start_time": "2023-06-03T09:23:47.563466",
          "status": "completed"
        },
        "tags": [],
        "id": "e6e95a18"
      },
      "source": [
        "# Visualización gráfica de proporción de datos perdidos y dónde se producen:"
      ]
    },
    {
      "cell_type": "code",
      "execution_count": 187,
      "id": "0dbee571",
      "metadata": {
        "execution": {
          "iopub.execute_input": "2023-06-03T09:23:47.671694Z",
          "iopub.status.busy": "2023-06-03T09:23:47.669642Z",
          "iopub.status.idle": "2023-06-03T09:23:48.146472Z",
          "shell.execute_reply": "2023-06-03T09:23:48.144075Z"
        },
        "papermill": {
          "duration": 0.517204,
          "end_time": "2023-06-03T09:23:48.149437",
          "exception": false,
          "start_time": "2023-06-03T09:23:47.632233",
          "status": "completed"
        },
        "tags": [],
        "id": "0dbee571",
        "colab": {
          "base_uri": "https://localhost:8080/",
          "height": 437
        },
        "outputId": "a79bd56a-012e-49cb-a5a4-444a3b69310d"
      },
      "outputs": [
        {
          "output_type": "display_data",
          "data": {
            "text/plain": [
              "plot without title"
            ],
            "image/png": "[encoded data removed]"
          },
          "metadata": {
            "image/png": {
              "width": 420,
              "height": 420
            }
          }
        }
      ],
      "source": [
        "vis_dat(airquality)"
      ]
    },
    {
      "cell_type": "markdown",
      "id": "e7a2268a",
      "metadata": {
        "papermill": {
          "duration": 0.037966,
          "end_time": "2023-06-03T09:23:48.224876",
          "exception": false,
          "start_time": "2023-06-03T09:23:48.186910",
          "status": "completed"
        },
        "tags": [],
        "id": "e7a2268a"
      },
      "source": [
        "# Determinación del **porcentaje** de datos perdidos:"
      ]
    },
    {
      "cell_type": "code",
      "execution_count": 188,
      "id": "d3ffa31c",
      "metadata": {
        "execution": {
          "iopub.execute_input": "2023-06-03T09:23:48.305839Z",
          "iopub.status.busy": "2023-06-03T09:23:48.303342Z",
          "iopub.status.idle": "2023-06-03T09:23:48.800695Z",
          "shell.execute_reply": "2023-06-03T09:23:48.797448Z"
        },
        "papermill": {
          "duration": 0.542539,
          "end_time": "2023-06-03T09:23:48.803986",
          "exception": false,
          "start_time": "2023-06-03T09:23:48.261447",
          "status": "completed"
        },
        "tags": [],
        "id": "d3ffa31c",
        "colab": {
          "base_uri": "https://localhost:8080/",
          "height": 437
        },
        "outputId": "b671895c-19de-445d-9589-f98ed6b27a1a"
      },
      "outputs": [
        {
          "output_type": "display_data",
          "data": {
            "text/plain": [
              "plot without title"
            ],
            "image/png": "[encoded data removed]"
          },
          "metadata": {
            "image/png": {
              "width": 420,
              "height": 420
            }
          }
        }
      ],
      "source": [
        "vis_miss(airquality ,sort_miss = TRUE)\n",
        "\n",
        "# sort_miss = TRUE: es opcional\n",
        "# con sort_miss = TRUE, ordena las columnas desde la que posea mayor pérdida de datos (cantidad de datos faltantes) a la menor.\n",
        "# argumento opcional: cluster = TRUE, que permite agrupar los datos faltantes."
      ]
    },
    {
      "cell_type": "markdown",
      "id": "edfceae1",
      "metadata": {
        "papermill": {
          "duration": 0.035452,
          "end_time": "2023-06-03T09:23:48.876544",
          "exception": false,
          "start_time": "2023-06-03T09:23:48.841092",
          "status": "completed"
        },
        "tags": [],
        "id": "edfceae1"
      },
      "source": [
        "# cluster\n",
        "Para agrupar los datos faltantes, utilizamos cruster"
      ]
    },
    {
      "cell_type": "code",
      "execution_count": 189,
      "id": "bdf82383",
      "metadata": {
        "execution": {
          "iopub.execute_input": "2023-06-03T09:23:48.952366Z",
          "iopub.status.busy": "2023-06-03T09:23:48.950309Z",
          "iopub.status.idle": "2023-06-03T09:23:49.441590Z",
          "shell.execute_reply": "2023-06-03T09:23:49.437306Z"
        },
        "papermill": {
          "duration": 0.532993,
          "end_time": "2023-06-03T09:23:49.445097",
          "exception": false,
          "start_time": "2023-06-03T09:23:48.912104",
          "status": "completed"
        },
        "tags": [],
        "id": "bdf82383",
        "colab": {
          "base_uri": "https://localhost:8080/",
          "height": 437
        },
        "outputId": "5382fbb9-c81f-43f8-fd05-fef68d938a65"
      },
      "outputs": [
        {
          "output_type": "display_data",
          "data": {
            "text/plain": [
              "plot without title"
            ],
            "image/png": "[encoded data removed]"
          },
          "metadata": {
            "image/png": {
              "width": 420,
              "height": 420
            }
          }
        }
      ],
      "source": [
        "vis_miss(airquality ,sort_miss = TRUE, cluster = TRUE)"
      ]
    },
    {
      "cell_type": "code",
      "execution_count": 190,
      "id": "67264428",
      "metadata": {
        "execution": {
          "iopub.execute_input": "2023-06-03T09:23:49.524253Z",
          "iopub.status.busy": "2023-06-03T09:23:49.521715Z",
          "iopub.status.idle": "2023-06-03T09:23:50.642294Z",
          "shell.execute_reply": "2023-06-03T09:23:50.639567Z"
        },
        "papermill": {
          "duration": 1.163278,
          "end_time": "2023-06-03T09:23:50.645711",
          "exception": false,
          "start_time": "2023-06-03T09:23:49.482433",
          "status": "completed"
        },
        "tags": [],
        "id": "67264428",
        "colab": {
          "base_uri": "https://localhost:8080/",
          "height": 437
        },
        "outputId": "110fc7d6-6106-4ea3-e49c-0646f4ba7113"
      },
      "outputs": [
        {
          "output_type": "display_data",
          "data": {
            "text/plain": [
              "plot without title"
            ],
            "image/png": "[encoded data removed]"
          },
          "metadata": {
            "image/png": {
              "width": 420,
              "height": 420
            }
          }
        }
      ],
      "source": [
        "airquality %>% gg_miss_upset()"
      ]
    }
  ],
  "metadata": {
    "kernelspec": {
      "display_name": "R",
      "language": "R",
      "name": "ir"
    },
    "language_info": {
      "codemirror_mode": "r",
      "file_extension": ".r",
      "mimetype": "text/x-r-source",
      "name": "R",
      "pygments_lexer": "r",
      "version": "4.0.5"
    },
    "papermill": {
      "default_parameters": {},
      "duration": 20.484284,
      "end_time": "2023-06-03T09:23:50.808595",
      "environment_variables": {},
      "exception": null,
      "input_path": "__notebook__.ipynb",
      "output_path": "__notebook__.ipynb",
      "parameters": {},
      "start_time": "2023-06-03T09:23:30.324311",
      "version": "2.4.0"
    },
    "colab": {
      "provenance": []
    }
  },
  "nbformat": 4,
  "nbformat_minor": 5
}