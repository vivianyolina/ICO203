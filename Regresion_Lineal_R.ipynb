{
  "nbformat": 4,
  "nbformat_minor": 0,
  "metadata": {
    "colab": {
      "provenance": []
    },
    "kernelspec": {
      "name": "ir",
      "display_name": "R"
    },
    "language_info": {
      "name": "R"
    }
  },
  "cells": [
    {
      "cell_type": "markdown",
      "source": [
        "# **Regresión  Lineal**\n",
        "\n",
        "### **Paso 1: Recopilación de Datos**\n",
        "\n",
        "Supongamos que tienes un conjunto de datos que contiene observaciones de las ventas, el presupuesto de marketing y el número de empleados de una empresa comercial. Los datos se recopilan previamente en un archivo CSV llamado \"datos_comerciales.csv\"."
      ],
      "metadata": {
        "id": "1NFxh5lGQjRw"
      }
    },
    {
      "cell_type": "code",
      "source": [
        "# Establecer una semilla para la reproducibilidad\n",
        "set.seed(123)\n",
        "\n",
        "# Crear un conjunto de datos simulados\n",
        "n <- 100  # Número de observaciones\n",
        "Presupuesto <- rnorm(n, mean = 10000, sd = 2000)  # Datos de presupuesto simulados\n",
        "Empleados <- rnorm(n, mean = 5, sd = 1)  # Datos de empleados simulados\n",
        "Ventas <- 5000 + 3 * Presupuesto + 1000 * Empleados + rnorm(n, mean = 0, sd = 2000)  # Datos de ventas simulados\n",
        "\n",
        "# Crear un DataFrame con los datos simulados\n",
        "simulated_data <- data.frame(Ventas, Presupuesto, Empleados)\n"
      ],
      "metadata": {
        "id": "WbwBmLmnMnSD"
      },
      "execution_count": null,
      "outputs": []
    },
    {
      "cell_type": "markdown",
      "source": [
        "### **Paso 2: Exploración de Datos**\n",
        "\n",
        "Antes de construir el modelo, es importante explorar los datos para comprender su distribución y detectar posibles relaciones. Puedes utilizar bibliotecas como \"dplyr\" y \"ggplot2\" para este propósito en R."
      ],
      "metadata": {
        "id": "oL_Eyc96M-wd"
      }
    },
    {
      "cell_type": "code",
      "source": [
        "# Ajustar el modelo lineal a los datos simulados\n",
        "model <- lm(Ventas ~ Presupuesto + Empleados, data = simulated_data)\n",
        "\n",
        "# Ver el resumen del modelo\n",
        "summary(model)"
      ],
      "metadata": {
        "colab": {
          "base_uri": "https://localhost:8080/",
          "height": 347
        },
        "id": "oS8qOew1NAox",
        "outputId": "a56f685d-7726-4989-83e1-a724cfb12fab"
      },
      "execution_count": null,
      "outputs": [
        {
          "output_type": "display_data",
          "data": {
            "text/plain": [
              "\n",
              "Call:\n",
              "lm(formula = Ventas ~ Presupuesto + Empleados, data = simulated_data)\n",
              "\n",
              "Residuals:\n",
              "    Min      1Q  Median      3Q     Max \n",
              "-3746.0 -1321.5  -248.9  1242.7  4159.7 \n",
              "\n",
              "Coefficients:\n",
              "             Estimate Std. Error t value Pr(>|t|)    \n",
              "(Intercept) 6363.7333  1488.9025   4.274 4.49e-05 ***\n",
              "Presupuesto    2.8668     0.1049  27.337  < 2e-16 ***\n",
              "Empleados   1047.6226   197.9894   5.291 7.53e-07 ***\n",
              "---\n",
              "Signif. codes:  0 ‘***’ 0.001 ‘**’ 0.01 ‘*’ 0.05 ‘.’ 0.1 ‘ ’ 1\n",
              "\n",
              "Residual standard error: 1903 on 97 degrees of freedom\n",
              "Multiple R-squared:  0.8872,\tAdjusted R-squared:  0.8849 \n",
              "F-statistic: 381.4 on 2 and 97 DF,  p-value: < 2.2e-16\n"
            ]
          },
          "metadata": {}
        }
      ]
    },
    {
      "cell_type": "markdown",
      "source": [
        "### **Paso 3: Visualización de los Resultados**"
      ],
      "metadata": {
        "id": "0TnL_sQENJPP"
      }
    },
    {
      "cell_type": "code",
      "source": [
        "# Gráfico de dispersión de Ventas vs. Presupuesto\n",
        "plot(simulated_data$Presupuesto, simulated_data$Ventas,\n",
        "     xlab = \"Presupuesto\", ylab = \"Ventas\", main = \"Relación entre Ventas y Presupuesto\")\n",
        "\n",
        "# Añadir la línea de regresión\n",
        "#abline(model, col = \"red\")"
      ],
      "metadata": {
        "colab": {
          "base_uri": "https://localhost:8080/",
          "height": 437
        },
        "id": "TRVgKpdPNJ-o",
        "outputId": "db7e7641-b7bf-424d-c8d2-0911b3f7590e"
      },
      "execution_count": null,
      "outputs": [
        {
          "output_type": "display_data",
          "data": {
            "text/plain": [
              "Plot with title “Relación entre Ventas y Presupuesto”"
            ],
            "image/png": "[encoded data removed]"
          },
          "metadata": {
            "image/png": {
              "width": 420,
              "height": 420
            }
          }
        }
      ]
    },
    {
      "cell_type": "markdown",
      "source": [
        "Esto generará un modelo de regresión lineal basado en los datos simulados y proporcionará un resumen de las estadísticas del modelo. Además, se crea un gráfico de dispersión que muestra la relación entre las ventas y el presupuesto con la línea de regresión ajustada.\n",
        "\n",
        "Si ejecutas este código en R, obtendrás un ejemplo completo de regresión lineal con datos simulados y visualización de los resultados. Puedes personalizar y ajustar el ejemplo según tus necesidades."
      ],
      "metadata": {
        "id": "AER1V5UINOJW"
      }
    },
    {
      "cell_type": "markdown",
      "source": [
        "### **Paso 5: Evaluación del Modelo**\n",
        "\n",
        "El modelo se evalúa utilizando métricas como el error cuadrático medio (MSE) y el coeficiente de determinación (R²) en el conjunto de prueba. Estas métricas indicarán la precisión del modelo."
      ],
      "metadata": {
        "id": "LNpwv1RLRJFk"
      }
    },
    {
      "cell_type": "markdown",
      "source": [
        "**1. Cálculo del Error Cuadrático Medio (MSE):**\n",
        "\n",
        "El MSE es una métrica que mide el promedio de los errores al cuadrado entre las predicciones del modelo y los valores reales. Un MSE más bajo indica un mejor ajuste del modelo a los datos."
      ],
      "metadata": {
        "id": "vaaBZs0xNiYQ"
      }
    },
    {
      "cell_type": "code",
      "source": [
        "# Calcular las predicciones del modelo\n",
        "predictions <- predict(model, newdata = simulated_data)\n",
        "\n",
        "# Calcular el error cuadrático medio (MSE)\n",
        "mse <- mean((predictions - simulated_data$Ventas)^2)\n",
        "print(paste(\"Error Cuadrático Medio (MSE):\", mse))\n"
      ],
      "metadata": {
        "colab": {
          "base_uri": "https://localhost:8080/"
        },
        "id": "kQ0KCbJnNjYd",
        "outputId": "f9c355d8-cf82-4637-8110-bc2bf9dcc082"
      },
      "execution_count": null,
      "outputs": [
        {
          "output_type": "stream",
          "name": "stdout",
          "text": [
            "[1] \"Error Cuadrático Medio (MSE): 3511274.6251821\"\n"
          ]
        }
      ]
    },
    {
      "cell_type": "markdown",
      "source": [
        "**2. Cálculo del Coeficiente de Determinación (R²):**\n",
        "\n",
        "El coeficiente de determinación (R²) proporciona información sobre la proporción de la varianza en la variable de respuesta (Ventas) que es explicada por el modelo. Un R² más alto indica que el modelo se ajusta mejor a los datos."
      ],
      "metadata": {
        "id": "X7kvbcBgNo3R"
      }
    },
    {
      "cell_type": "code",
      "source": [
        "# Calcular el coeficiente de determinación (R²)\n",
        "rsquared <- summary(model)$r.squared\n",
        "print(paste(\"Coeficiente de Determinación (R²):\", rsquared))"
      ],
      "metadata": {
        "colab": {
          "base_uri": "https://localhost:8080/"
        },
        "id": "7ZoQDDd1Nuix",
        "outputId": "8b0a715d-4f44-435b-e2d6-ae92abb2abbd"
      },
      "execution_count": null,
      "outputs": [
        {
          "output_type": "stream",
          "name": "stdout",
          "text": [
            "[1] \"Coeficiente de Determinación (R²): 0.887190595890585\"\n"
          ]
        }
      ]
    },
    {
      "cell_type": "markdown",
      "source": [
        "**3. Validación Cruzada (Cross-Validation):**\n",
        "\n",
        "La validación cruzada es una técnica que divide los datos en conjuntos de entrenamiento y prueba repetidamente para evaluar el modelo en diferentes subconjuntos de datos. Esto ayuda a verificar si el modelo es robusto y generaliza bien.\n",
        "\n",
        "\n",
        "El código que proporcionaste realiza la validación cruzada en un modelo de regresión lineal. Aquí se explica paso a paso:\n",
        "\n",
        "1. Se instala y carga la biblioteca \"caret\" que se utiliza para realizar el análisis.\n",
        "\n",
        "2. Se establece una semilla aleatoria con set.seed(123) para asegurarse de que los resultados sean reproducibles.\n",
        "\n",
        "3. Se realiza la validación cruzada con 10 folds. Esto significa que el conjunto de datos se divide en 10 partes iguales (folds), y se ajusta el modelo de regresión lineal en 10 iteraciones. En cada iteración, se utiliza una parte diferente como conjunto de prueba y las otras 9 partes se utilizan como conjunto de entrenamiento.\n",
        "\n",
        "4. En la función train(), se especifican los siguientes argumentos:\n",
        "\n",
        "* Ventas ~ Presupuesto + Empleados: Se define la fórmula del modelo de regresión, donde \"Ventas\" es la variable dependiente y \"Presupuesto\" y \"Empleados\" son las variables predictoras.\n",
        "\n",
        "* data = simulated_data: Se especifica el conjunto de datos en el que se realizará la validación cruzada, que parece ser llamado \"simulated_data\".\n",
        "\n",
        "* method = \"lm\": Se utiliza el método de regresión lineal para ajustar el modelo.\n",
        "\n",
        "* trControl = trainControl(method = \"cv\", number = 10): Se configura el control de entrenamiento para realizar la validación cruzada con 10 folds.\n",
        "\n",
        "5. Después de realizar la validación cruzada, se imprimen las métricas de evaluación en la consola. En este caso, se calcula y muestra la raíz del error cuadrático medio (RMSE) promedio de las 10 iteraciones. El RMSE es una medida de la precisión de un modelo de regresión. Un valor más bajo indica un mejor ajuste del modelo a los datos.\n",
        "\n",
        "En resumen, este código realiza la validación cruzada en un modelo de regresión lineal para evaluar su rendimiento utilizando el RMSE como métrica de evaluación. La validación cruzada se realiza con 10 folds para obtener una estimación más precisa del rendimiento del modelo."
      ],
      "metadata": {
        "id": "a7y7Y0AmN3BU"
      }
    },
    {
      "cell_type": "code",
      "source": [
        "# Realizar validación cruzada con 10 folds\n",
        "install.packages(\"caret\")\n",
        "library(caret)\n",
        "set.seed(123)\n",
        "cv_results <- train(\n",
        "  Ventas ~ Presupuesto + Empleados,\n",
        "  data = simulated_data,\n",
        "  method = \"lm\",\n",
        "  trControl = trainControl(method = \"cv\", number = 10)\n",
        ")\n",
        "\n",
        "# Obtener métricas de evaluación de la validación cruzada\n",
        "print(paste(\"Validación Cruzada - Error RMSE:\", sqrt(cv_results$results$RMSE)))"
      ],
      "metadata": {
        "colab": {
          "base_uri": "https://localhost:8080/"
        },
        "id": "fgoZTCxuN6S8",
        "outputId": "890c3465-8990-45c2-8cad-0ba5953869de"
      },
      "execution_count": null,
      "outputs": [
        {
          "output_type": "stream",
          "name": "stderr",
          "text": [
            "Installing package into ‘/usr/local/lib/R/site-library’\n",
            "(as ‘lib’ is unspecified)\n",
            "\n",
            "also installing the dependencies ‘listenv’, ‘parallelly’, ‘future’, ‘globals’, ‘shape’, ‘future.apply’, ‘numDeriv’, ‘progressr’, ‘SQUAREM’, ‘diagram’, ‘lava’, ‘prodlim’, ‘proxy’, ‘iterators’, ‘Rcpp’, ‘clock’, ‘gower’, ‘hardhat’, ‘ipred’, ‘timeDate’, ‘e1071’, ‘foreach’, ‘ModelMetrics’, ‘plyr’, ‘pROC’, ‘recipes’, ‘reshape2’\n",
            "\n",
            "\n",
            "Loading required package: ggplot2\n",
            "\n",
            "Loading required package: lattice\n",
            "\n"
          ]
        },
        {
          "output_type": "stream",
          "name": "stdout",
          "text": [
            "[1] \"Validación Cruzada - Error RMSE: 43.3484106871283\"\n"
          ]
        }
      ]
    },
    {
      "cell_type": "markdown",
      "source": [
        "RMSE de 43.35 significa que, en promedio, las predicciones del modelo de regresión lineal tienen un error de aproximadamente 43.35 unidades en la variable de respuesta \"Ventas\". En otras palabras, las predicciones del modelo pueden variar en promedio alrededor de 43.35 unidades por encima o por debajo de los valores reales de ventas.\n",
        "\n"
      ],
      "metadata": {
        "id": "N2pTht7mzLXM"
      }
    },
    {
      "cell_type": "markdown",
      "source": [
        "### **Paso 6: Predicción**"
      ],
      "metadata": {
        "id": "bkKOf-ocOMhV"
      }
    },
    {
      "cell_type": "code",
      "source": [
        "# Crear un nuevo conjunto de datos para realizar predicciones\n",
        "nuevos_datos <- data.frame(Presupuesto = c(80000, 95000, 110000),\n",
        "                          Empleados = c(6, 8, 10))\n",
        "\n",
        "# Realizar predicciones con el modelo\n",
        "predicciones_ventas <- predict(model, newdata = nuevos_datos)\n",
        "print(\"Predicciones de Ventas:\")\n",
        "print(predicciones_ventas)"
      ],
      "metadata": {
        "id": "c2fUnM_jOOtr",
        "colab": {
          "base_uri": "https://localhost:8080/"
        },
        "outputId": "8403e4cd-fe5f-46f6-8a56-5c21494fa063"
      },
      "execution_count": null,
      "outputs": [
        {
          "output_type": "stream",
          "name": "stdout",
          "text": [
            "[1] \"Predicciones de Ventas:\"\n",
            "       1        2        3 \n",
            "241995.7 287093.4 332191.1 \n"
          ]
        }
      ]
    },
    {
      "cell_type": "markdown",
      "source": [
        "Las predicciones de ventas se almacenan en \"predicciones_ventas\".\n",
        "\n",
        "* Aplicación Comercial: Las predicciones pueden ser aplicadas en un contexto comercial de varias maneras:\n",
        "\n",
        "* Toma de Decisiones: Las predicciones pueden ayudar a la empresa a tomar decisiones informadas sobre asignación de recursos, presupuesto publicitario, contratación de empleados y más.\n",
        "\n",
        "* Optimización de Recursos: Al predecir las ventas futuras, la empresa puede optimizar la gestión de recursos y presupuesto para maximizar los ingresos y minimizar los costos.\n",
        "\n",
        "* Planificación Estratégica: Las predicciones pueden respaldar la planificación estratégica al proporcionar información sobre cómo las variables independientes (presupuesto y empleados) afectan las ventas.\n",
        "\n",
        "* Evaluación de Escenarios: La empresa puede evaluar diferentes escenarios al cambiar los valores de presupuesto y empleados y ver su impacto en las ventas proyectadas.\n",
        "\n",
        "* Seguimiento de Desempeño: Una vez que se implementen las estrategias basadas en las predicciones, se pueden comparar las ventas reales con las proyectadas para evaluar el desempeño y ajustar las estrategias según sea necesario.\n",
        "\n",
        "* Optimización de Marketing: Si se asocian las variables de presupuesto con estrategias de marketing y publicidad, las predicciones pueden guiar la inversión publicitaria.\n",
        "\n",
        "* Planificación de Inventarios: Las predicciones de ventas también pueden respaldar la planificación de inventarios y la gestión de la cadena de suministro.\n",
        "\n",
        "En resumen, las predicciones de un modelo de regresión lineal pueden ser valiosas para la planificación estratégica y la toma de decisiones en un entorno empresarial. Ayudan a comprender la relación entre las variables independientes y la variable dependiente y a anticipar cómo los cambios en esas variables afectarán las ventas futuras."
      ],
      "metadata": {
        "id": "VopzitgwO_BT"
      }
    }
  ]
}